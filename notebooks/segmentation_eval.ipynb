{
 "cells": [
  {
   "cell_type": "code",
   "execution_count": 1,
   "id": "2a662db3",
   "metadata": {},
   "outputs": [],
   "source": [
    "#Run this once\n",
    "%load_ext autoreload\n",
    "%autoreload 2\n",
    "import os, sys\n",
    "os.environ[\"CUDA_VISIBLE_DEVICES\"] = \"-1\"\n",
    "# project_dir = \"/codespace/braintypicality\"\n",
    "# sys.path.append(project_dir)"
   ]
  },
  {
   "cell_type": "code",
   "execution_count": 2,
   "id": "b36f04da",
   "metadata": {},
   "outputs": [],
   "source": [
    "import skimage\n",
    "import glob\n",
    "import math\n",
    "import torch\n",
    "import ants\n",
    "import numpy as np\n",
    "import seaborn as sns\n",
    "import pandas as pd\n",
    "import matplotlib.pyplot as plt\n",
    "\n",
    "from tqdm.auto import tqdm\n",
    "\n",
    "from matplotlib import ticker\n",
    "import matplotlib as mpl\n",
    "import matplotlib.colors as mcolors\n",
    "\n",
    "\n",
    "from functools import partial\n",
    "\n",
    "import skimage.filters as skf\n",
    "# from scipy.stats import percentileofscore\n",
    "# from numba import jit\n",
    "# from utils import get_percentile_tensor"
   ]
  },
  {
   "cell_type": "code",
   "execution_count": 3,
   "id": "3e95560a",
   "metadata": {},
   "outputs": [],
   "source": [
    "from sade.configs.flows import ve_flow_config as configs\n",
    "config = configs.get_config()\n",
    "config.msma.denoise=False\n",
    "config.msma.schedule = \"geometric\"\n",
    "config.model.learnable_embedding=True\n",
    "workdir = \"/ASD/ahsan_projects/braintypicality/workdir/cuda_opt/learnable\""
   ]
  },
  {
   "cell_type": "markdown",
   "id": "1f0bc0ab",
   "metadata": {},
   "source": [
    "### Load the data"
   ]
  },
  {
   "cell_type": "code",
   "execution_count": 4,
   "id": "008ae4f0",
   "metadata": {},
   "outputs": [
    {
     "data": {
      "text/plain": [
       "cache_rate: 0.0\n",
       "dataset: ABCD\n",
       "dir_path: /DATA/Users/amahmood/braintyp/processed_v2/\n",
       "image_size: !!python/tuple\n",
       "- 96\n",
       "- 112\n",
       "- 80\n",
       "num_channels: 2\n",
       "spacing_pix_dim: 2.0\n",
       "splits_dir: /codespace/sade/sade/datasets/brains/"
      ]
     },
     "execution_count": 4,
     "metadata": {},
     "output_type": "execute_result"
    }
   ],
   "source": [
    "config.data.dataset = \"ABCD\"\n",
    "config.eval.experiment.train = \"abcd-val\"\n",
    "config.eval.experiment.inlier = \"abcd-test\"\n",
    "config.eval.experiment.ood = \"lesion_load_20-enhanced\"\n",
    "experiment = f\"{config.eval.experiment.inlier}_{config.eval.experiment.ood}\"\n",
    "# config.data.image_size = (176, 208, 160)\n",
    "# config.data.cache_rate = 0.0\n",
    "# config.data.spacing_pix_dim = 1.0\n",
    "config.eval.batch_size = 4\n",
    "config.data"
   ]
  },
  {
   "cell_type": "code",
   "execution_count": 5,
   "id": "b0344c20",
   "metadata": {},
   "outputs": [
    {
     "name": "stdout",
     "output_type": "stream",
     "text": [
      "abcd-test_lesion_load_20-enhanced_results.npz\n",
      "abcd-test_lesion_load_20-enhanced_seg_eval.csv\n",
      "abcd-test_lesion_load_20-enhanced_segs.npz\n",
      "abcd-val_lesion_load_20_results.npz\n",
      "ibis-hr-inlier_ibis-ds-sa_results.npz\n",
      "ibis-inlier_ibis-asd_results.npz\n",
      "ibis-inlier_ibis-atypical_results.npz\n"
     ]
    }
   ],
   "source": [
    "# flow_path = '/ASD/ahsan_projects/braintypicality/workdir/cuda_opt/learnable/flow/psz3-globalpsz17-nb20-lr0.0003-bs32-np1024-kimg200_nb20_long/eval/ckpt_6040/'\n",
    "# flow_250k_path = '/ASD/ahsan_projects/braintypicality/workdir/cuda_opt/learnable/flow/psz3-globalpsz17-nb20-lr0.0003-bs32-np1024-kimg250_long_smin1e-1/eval/ckpt_6640/'\n",
    "flow_path = '/ASD/ahsan_projects/braintypicality/workdir/cuda_opt/learnable/flow/psz3-globalpsz17-nb20-lr0.0003-bs32-np1024-kimg300_smin1e-2_smax0.8/eval/ckpt_9240/'\n",
    "%ls $flow_path"
   ]
  },
  {
   "cell_type": "code",
   "execution_count": 7,
   "id": "fd212d0c",
   "metadata": {},
   "outputs": [],
   "source": [
    "flow_metrics = pd.read_csv(f\"{flow_path}/{experiment}_seg_eval.csv\").dropna()\n",
    "# flow_250k_metrics = pd.read_csv(f\"{flow_250k_path}/{experiment}_seg_eval.csv\").dropna()"
   ]
  },
  {
   "cell_type": "code",
   "execution_count": 8,
   "id": "6d2710e7",
   "metadata": {},
   "outputs": [
    {
     "data": {
      "text/html": [
       "<div>\n",
       "<style scoped>\n",
       "    .dataframe tbody tr th:only-of-type {\n",
       "        vertical-align: middle;\n",
       "    }\n",
       "\n",
       "    .dataframe tbody tr th {\n",
       "        vertical-align: top;\n",
       "    }\n",
       "\n",
       "    .dataframe thead th {\n",
       "        text-align: right;\n",
       "    }\n",
       "</style>\n",
       "<table border=\"1\" class=\"dataframe\">\n",
       "  <thead>\n",
       "    <tr style=\"text-align: right;\">\n",
       "      <th></th>\n",
       "      <th>Unnamed: 0</th>\n",
       "      <th>TP</th>\n",
       "      <th>FP</th>\n",
       "      <th>FN</th>\n",
       "      <th>ground_truth_components</th>\n",
       "      <th>segmentation_components</th>\n",
       "      <th>hausdorff</th>\n",
       "      <th>mean_surf_dist</th>\n",
       "      <th>TPR</th>\n",
       "      <th>FNR</th>\n",
       "      <th>PPV</th>\n",
       "    </tr>\n",
       "  </thead>\n",
       "  <tbody>\n",
       "    <tr>\n",
       "      <th>count</th>\n",
       "      <td>162.000000</td>\n",
       "      <td>162.000000</td>\n",
       "      <td>162.000000</td>\n",
       "      <td>162.000000</td>\n",
       "      <td>162.000000</td>\n",
       "      <td>162.000000</td>\n",
       "      <td>162.000000</td>\n",
       "      <td>162.000000</td>\n",
       "      <td>162.000000</td>\n",
       "      <td>162.000000</td>\n",
       "      <td>162.000000</td>\n",
       "    </tr>\n",
       "    <tr>\n",
       "      <th>mean</th>\n",
       "      <td>81.765432</td>\n",
       "      <td>10.864198</td>\n",
       "      <td>0.561728</td>\n",
       "      <td>2.166667</td>\n",
       "      <td>13.030864</td>\n",
       "      <td>12.987654</td>\n",
       "      <td>7.046932</td>\n",
       "      <td>2.101743</td>\n",
       "      <td>0.831864</td>\n",
       "      <td>0.168136</td>\n",
       "      <td>0.957291</td>\n",
       "    </tr>\n",
       "    <tr>\n",
       "      <th>std</th>\n",
       "      <td>47.979491</td>\n",
       "      <td>4.343205</td>\n",
       "      <td>3.015367</td>\n",
       "      <td>2.406642</td>\n",
       "      <td>4.425256</td>\n",
       "      <td>4.491521</td>\n",
       "      <td>7.763239</td>\n",
       "      <td>5.429535</td>\n",
       "      <td>0.178298</td>\n",
       "      <td>0.178298</td>\n",
       "      <td>0.148825</td>\n",
       "    </tr>\n",
       "    <tr>\n",
       "      <th>min</th>\n",
       "      <td>0.000000</td>\n",
       "      <td>0.000000</td>\n",
       "      <td>0.000000</td>\n",
       "      <td>0.000000</td>\n",
       "      <td>3.000000</td>\n",
       "      <td>1.000000</td>\n",
       "      <td>2.236068</td>\n",
       "      <td>0.794885</td>\n",
       "      <td>0.000000</td>\n",
       "      <td>0.000000</td>\n",
       "      <td>0.000000</td>\n",
       "    </tr>\n",
       "    <tr>\n",
       "      <th>25%</th>\n",
       "      <td>40.250000</td>\n",
       "      <td>8.000000</td>\n",
       "      <td>0.000000</td>\n",
       "      <td>1.000000</td>\n",
       "      <td>10.000000</td>\n",
       "      <td>10.000000</td>\n",
       "      <td>4.131773</td>\n",
       "      <td>0.955407</td>\n",
       "      <td>0.785714</td>\n",
       "      <td>0.058824</td>\n",
       "      <td>1.000000</td>\n",
       "    </tr>\n",
       "    <tr>\n",
       "      <th>50%</th>\n",
       "      <td>81.500000</td>\n",
       "      <td>11.000000</td>\n",
       "      <td>0.000000</td>\n",
       "      <td>2.000000</td>\n",
       "      <td>13.000000</td>\n",
       "      <td>13.000000</td>\n",
       "      <td>5.079710</td>\n",
       "      <td>1.041449</td>\n",
       "      <td>0.861905</td>\n",
       "      <td>0.138095</td>\n",
       "      <td>1.000000</td>\n",
       "    </tr>\n",
       "    <tr>\n",
       "      <th>75%</th>\n",
       "      <td>122.750000</td>\n",
       "      <td>14.000000</td>\n",
       "      <td>0.000000</td>\n",
       "      <td>3.000000</td>\n",
       "      <td>16.000000</td>\n",
       "      <td>16.000000</td>\n",
       "      <td>6.928203</td>\n",
       "      <td>1.154730</td>\n",
       "      <td>0.941176</td>\n",
       "      <td>0.214286</td>\n",
       "      <td>1.000000</td>\n",
       "    </tr>\n",
       "    <tr>\n",
       "      <th>max</th>\n",
       "      <td>164.000000</td>\n",
       "      <td>22.000000</td>\n",
       "      <td>34.000000</td>\n",
       "      <td>18.000000</td>\n",
       "      <td>26.000000</td>\n",
       "      <td>34.000000</td>\n",
       "      <td>65.785095</td>\n",
       "      <td>42.459126</td>\n",
       "      <td>1.000000</td>\n",
       "      <td>1.000000</td>\n",
       "      <td>1.000000</td>\n",
       "    </tr>\n",
       "  </tbody>\n",
       "</table>\n",
       "</div>"
      ],
      "text/plain": [
       "       Unnamed: 0          TP          FP          FN  \\\n",
       "count  162.000000  162.000000  162.000000  162.000000   \n",
       "mean    81.765432   10.864198    0.561728    2.166667   \n",
       "std     47.979491    4.343205    3.015367    2.406642   \n",
       "min      0.000000    0.000000    0.000000    0.000000   \n",
       "25%     40.250000    8.000000    0.000000    1.000000   \n",
       "50%     81.500000   11.000000    0.000000    2.000000   \n",
       "75%    122.750000   14.000000    0.000000    3.000000   \n",
       "max    164.000000   22.000000   34.000000   18.000000   \n",
       "\n",
       "       ground_truth_components  segmentation_components   hausdorff  \\\n",
       "count               162.000000               162.000000  162.000000   \n",
       "mean                 13.030864                12.987654    7.046932   \n",
       "std                   4.425256                 4.491521    7.763239   \n",
       "min                   3.000000                 1.000000    2.236068   \n",
       "25%                  10.000000                10.000000    4.131773   \n",
       "50%                  13.000000                13.000000    5.079710   \n",
       "75%                  16.000000                16.000000    6.928203   \n",
       "max                  26.000000                34.000000   65.785095   \n",
       "\n",
       "       mean_surf_dist         TPR         FNR         PPV  \n",
       "count      162.000000  162.000000  162.000000  162.000000  \n",
       "mean         2.101743    0.831864    0.168136    0.957291  \n",
       "std          5.429535    0.178298    0.178298    0.148825  \n",
       "min          0.794885    0.000000    0.000000    0.000000  \n",
       "25%          0.955407    0.785714    0.058824    1.000000  \n",
       "50%          1.041449    0.861905    0.138095    1.000000  \n",
       "75%          1.154730    0.941176    0.214286    1.000000  \n",
       "max         42.459126    1.000000    1.000000    1.000000  "
      ]
     },
     "execution_count": 8,
     "metadata": {},
     "output_type": "execute_result"
    }
   ],
   "source": [
    "flow_metrics.describe()"
   ]
  },
  {
   "cell_type": "code",
   "execution_count": 9,
   "id": "a1220ed6",
   "metadata": {},
   "outputs": [],
   "source": [
    "ae_path = \"/ASD/ahsan_projects/anomaly-AE-baseline/20231004_insize96-112-80_z512_denseAE_sigmoid/\"\n",
    "ae_metrics = pd.read_csv(f\"{ae_path}/{experiment}_seg_eval.csv\").dropna()\n",
    "\n",
    "gradcam_path = \"/ASD/ahsan_projects/braintypicality/workdir/cuda_opt/learnable/msma/gradcam/relu/\"\n",
    "gradcam_metrics = pd.read_csv(f\"{gradcam_path}/{experiment}_seg_eval.csv\").dropna()\n",
    "\n",
    "inpaint_path = \"/ASD/ahsan_projects/braintypicality/workdir/cuda_opt/learnable/eval/inpainting/\"\n",
    "inpaint_metrics = pd.read_csv(f\"{inpaint_path}/{experiment}_seg_eval.csv\").dropna()\n",
    "\n",
    "restoration_path = \"/ASD/ahsan_projects/braintypicality/workdir/cuda_opt/learnable/eval/restoration/\"\n",
    "restoration_metrics = pd.read_csv(f\"{restoration_path}/{experiment}_seg_eval.csv\").dropna()"
   ]
  },
  {
   "cell_type": "code",
   "execution_count": 34,
   "id": "14fa7091",
   "metadata": {},
   "outputs": [],
   "source": [
    "higher_metric_cols = [\"TPR\", \"PPV\"]\n",
    "lower_metric_cols = [\"hausdorff\", \"mean_surf_dist\"]\n",
    "lower_is_better_metrics, higher_is_better_metrics = [], []\n",
    "# wide_df = []\n",
    "\n",
    "for name, m in zip((\"AE\", \"Inpaint\", \"Restoration\", \"GradCAM\", \"Patch-MSMA\"),\n",
    "                   (ae_metrics, inpaint_metrics, restoration_metrics, gradcam_metrics, flow_metrics)):\n",
    "    \n",
    "    df = m[lower_metric_cols].melt(var_name=\"Metric\")\n",
    "    df[\"Model\"] = name\n",
    "    lower_is_better_metrics.append(df)\n",
    "    \n",
    "    df = m[higher_metric_cols].melt(var_name=\"Metric\")\n",
    "    df[\"Model\"] = name\n",
    "    higher_is_better_metrics.append(df)\n",
    "    \n",
    "#     df = m[wide_df]\n",
    "    \n",
    "lower_is_better_metrics = pd.concat(lower_is_better_metrics)\n",
    "higher_is_better_metrics = pd.concat(higher_is_better_metrics)"
   ]
  },
  {
   "cell_type": "code",
   "execution_count": 35,
   "id": "5df3eb90",
   "metadata": {},
   "outputs": [
    {
     "data": {
      "image/png": "[encoded data removed]",
      "text/plain": [
       "<Figure size 1400x500 with 2 Axes>"
      ]
     },
     "metadata": {},
     "output_type": "display_data"
    }
   ],
   "source": [
    "fig, axs = plt.subplots(1,2, figsize=(14,5))\n",
    "g = sns.barplot(data=higher_is_better_metrics, x=\"Metric\", y=\"value\", hue=\"Model\", errorbar=\"se\", ax =axs[0])\n",
    "g = sns.barplot(data=lower_is_better_metrics, x=\"Metric\", y=\"value\", hue=\"Model\", errorbar=\"se\", ax =axs[1])\n",
    "# g.despine(left=True)\n",
    "# g.legend.set_title(\"\")"
   ]
  },
  {
   "cell_type": "code",
   "execution_count": 36,
   "id": "985a76ca",
   "metadata": {},
   "outputs": [
    {
     "data": {
      "text/html": [
       "<div>\n",
       "<style scoped>\n",
       "    .dataframe tbody tr th:only-of-type {\n",
       "        vertical-align: middle;\n",
       "    }\n",
       "\n",
       "    .dataframe tbody tr th {\n",
       "        vertical-align: top;\n",
       "    }\n",
       "\n",
       "    .dataframe thead th {\n",
       "        text-align: right;\n",
       "    }\n",
       "</style>\n",
       "<table border=\"1\" class=\"dataframe\">\n",
       "  <thead>\n",
       "    <tr style=\"text-align: right;\">\n",
       "      <th></th>\n",
       "      <th>TPR</th>\n",
       "      <th>PPV</th>\n",
       "    </tr>\n",
       "  </thead>\n",
       "  <tbody>\n",
       "    <tr>\n",
       "      <th>AE</th>\n",
       "      <td>0.44 +/- 0.02</td>\n",
       "      <td>0.19 +/- 0.01</td>\n",
       "    </tr>\n",
       "    <tr>\n",
       "      <th>GradCAM</th>\n",
       "      <td>0.63 +/- 0.02</td>\n",
       "      <td>0.50 +/- 0.02</td>\n",
       "    </tr>\n",
       "    <tr>\n",
       "      <th>Inpaint</th>\n",
       "      <td>0.68 +/- 0.02</td>\n",
       "      <td>0.17 +/- 0.01</td>\n",
       "    </tr>\n",
       "    <tr>\n",
       "      <th>Restoration</th>\n",
       "      <td>0.43 +/- 0.02</td>\n",
       "      <td>0.16 +/- 0.01</td>\n",
       "    </tr>\n",
       "    <tr>\n",
       "      <th>Spatial-MSMA</th>\n",
       "      <td>0.83 +/- 0.01</td>\n",
       "      <td>0.96 +/- 0.01</td>\n",
       "    </tr>\n",
       "  </tbody>\n",
       "</table>\n",
       "</div>"
      ],
      "text/plain": [
       "                        TPR            PPV\n",
       "AE            0.44 +/- 0.02  0.19 +/- 0.01\n",
       "GradCAM       0.63 +/- 0.02  0.50 +/- 0.02\n",
       "Inpaint       0.68 +/- 0.02  0.17 +/- 0.01\n",
       "Restoration   0.43 +/- 0.02  0.16 +/- 0.01\n",
       "Spatial-MSMA  0.83 +/- 0.01  0.96 +/- 0.01"
      ]
     },
     "execution_count": 36,
     "metadata": {},
     "output_type": "execute_result"
    }
   ],
   "source": [
    "d = pd.DataFrame(columns=[\"TPR\", \"PPV\"])\n",
    "\n",
    "for name, m in zip((\"AE\", \"GradCAM\", \"Inpaint\", \"Restoration\", \"Spatial-MSMA\"),\n",
    "                   (ae_metrics, gradcam_metrics, inpaint_metrics, restoration_metrics, flow_metrics)):\n",
    "    stats = m[higher_metric_cols].describe()\n",
    "    se = (stats.loc[\"std\"] / np.sqrt(m.shape[0])).apply('{:.2f}'.format)\n",
    "    mu = stats.loc[\"mean\"].apply('{:.2f}'.format)\n",
    "    text = (mu + \" +/- \" + se.astype(str)).values\n",
    "    d.loc[name] = text\n",
    "d"
   ]
  },
  {
   "cell_type": "code",
   "execution_count": 37,
   "id": "e6ee3f95",
   "metadata": {},
   "outputs": [
    {
     "data": {
      "text/html": [
       "<div>\n",
       "<style scoped>\n",
       "    .dataframe tbody tr th:only-of-type {\n",
       "        vertical-align: middle;\n",
       "    }\n",
       "\n",
       "    .dataframe tbody tr th {\n",
       "        vertical-align: top;\n",
       "    }\n",
       "\n",
       "    .dataframe thead th {\n",
       "        text-align: right;\n",
       "    }\n",
       "</style>\n",
       "<table border=\"1\" class=\"dataframe\">\n",
       "  <thead>\n",
       "    <tr style=\"text-align: right;\">\n",
       "      <th></th>\n",
       "      <th>Hausdorff</th>\n",
       "      <th>MSD</th>\n",
       "    </tr>\n",
       "  </thead>\n",
       "  <tbody>\n",
       "    <tr>\n",
       "      <th>AE</th>\n",
       "      <td>12.27 +/- 0.51</td>\n",
       "      <td>3.63 +/- 0.35</td>\n",
       "    </tr>\n",
       "    <tr>\n",
       "      <th>GradCAM</th>\n",
       "      <td>13.26 +/- 0.50</td>\n",
       "      <td>3.71 +/- 0.27</td>\n",
       "    </tr>\n",
       "    <tr>\n",
       "      <th>Inpaint</th>\n",
       "      <td>8.67 +/- 0.53</td>\n",
       "      <td>2.68 +/- 0.36</td>\n",
       "    </tr>\n",
       "    <tr>\n",
       "      <th>Restoration</th>\n",
       "      <td>12.68 +/- 0.54</td>\n",
       "      <td>3.75 +/- 0.37</td>\n",
       "    </tr>\n",
       "    <tr>\n",
       "      <th>Spatial-MSMA</th>\n",
       "      <td>7.05 +/- 0.61</td>\n",
       "      <td>2.10 +/- 0.43</td>\n",
       "    </tr>\n",
       "  </tbody>\n",
       "</table>\n",
       "</div>"
      ],
      "text/plain": [
       "                   Hausdorff            MSD\n",
       "AE            12.27 +/- 0.51  3.63 +/- 0.35\n",
       "GradCAM       13.26 +/- 0.50  3.71 +/- 0.27\n",
       "Inpaint        8.67 +/- 0.53  2.68 +/- 0.36\n",
       "Restoration   12.68 +/- 0.54  3.75 +/- 0.37\n",
       "Spatial-MSMA   7.05 +/- 0.61  2.10 +/- 0.43"
      ]
     },
     "execution_count": 37,
     "metadata": {},
     "output_type": "execute_result"
    }
   ],
   "source": [
    "d = pd.DataFrame(columns=[\"Hausdorff\", \"MSD\"])\n",
    "\n",
    "for name, m in zip((\"AE\", \"GradCAM\", \"Inpaint\", \"Restoration\", \"Spatial-MSMA\"),\n",
    "                   (ae_metrics, gradcam_metrics, inpaint_metrics, restoration_metrics, flow_metrics)):\n",
    "    stats = m[lower_metric_cols].describe()\n",
    "    se = (stats.loc[\"std\"] / np.sqrt(m.shape[0])).apply('{:.2f}'.format)\n",
    "    mu = stats.loc[\"mean\"].apply('{:.2f}'.format)\n",
    "    text = (mu + \" +/- \" + se.astype(str)).values\n",
    "    d.loc[name] = text\n",
    "d"
   ]
  },
  {
   "cell_type": "code",
   "execution_count": 38,
   "id": "2051792f",
   "metadata": {},
   "outputs": [
    {
     "data": {
      "text/plain": [
       "\"\\textbf{['7.05 +/- 0.61' '2.10 +/- 0.43']}\""
      ]
     },
     "execution_count": 38,
     "metadata": {},
     "output_type": "execute_result"
    }
   ],
   "source": [
    "f\"\\textbf{{{text}}}\" "
   ]
  },
  {
   "cell_type": "code",
   "execution_count": 41,
   "id": "bb72d848",
   "metadata": {},
   "outputs": [
    {
     "data": {
      "text/html": [
       "<div>\n",
       "<style scoped>\n",
       "    .dataframe tbody tr th:only-of-type {\n",
       "        vertical-align: middle;\n",
       "    }\n",
       "\n",
       "    .dataframe tbody tr th {\n",
       "        vertical-align: top;\n",
       "    }\n",
       "\n",
       "    .dataframe thead th {\n",
       "        text-align: right;\n",
       "    }\n",
       "</style>\n",
       "<table border=\"1\" class=\"dataframe\">\n",
       "  <thead>\n",
       "    <tr style=\"text-align: right;\">\n",
       "      <th></th>\n",
       "      <th>Hausdorff</th>\n",
       "      <th>MSD</th>\n",
       "      <th>TPR</th>\n",
       "      <th>PPV</th>\n",
       "    </tr>\n",
       "  </thead>\n",
       "  <tbody>\n",
       "    <tr>\n",
       "      <th>AE</th>\n",
       "      <td>12.27$\\pm$~0.51</td>\n",
       "      <td>3.63$\\pm$~0.35</td>\n",
       "      <td>0.44$\\pm$~0.02</td>\n",
       "      <td>0.19$\\pm$~0.01</td>\n",
       "    </tr>\n",
       "    <tr>\n",
       "      <th>Inpaint</th>\n",
       "      <td>13.26$\\pm$~0.50</td>\n",
       "      <td>3.71$\\pm$~0.27</td>\n",
       "      <td>0.63$\\pm$~0.02</td>\n",
       "      <td>0.50$\\pm$~0.02</td>\n",
       "    </tr>\n",
       "    <tr>\n",
       "      <th>Restoration</th>\n",
       "      <td>8.67$\\pm$~0.53</td>\n",
       "      <td>2.68$\\pm$~0.36</td>\n",
       "      <td>0.68$\\pm$~0.02</td>\n",
       "      <td>0.17$\\pm$~0.01</td>\n",
       "    </tr>\n",
       "    <tr>\n",
       "      <th>GradCAM-MSMA</th>\n",
       "      <td>12.68$\\pm$~0.54</td>\n",
       "      <td>3.75$\\pm$~0.37</td>\n",
       "      <td>0.43$\\pm$~0.02</td>\n",
       "      <td>0.16$\\pm$~0.01</td>\n",
       "    </tr>\n",
       "    <tr>\n",
       "      <th>Spatial-MSMA</th>\n",
       "      <td>7.05$\\pm$~0.61</td>\n",
       "      <td>2.10$\\pm$~0.43</td>\n",
       "      <td>0.83$\\pm$~0.01</td>\n",
       "      <td>0.96$\\pm$~0.01</td>\n",
       "    </tr>\n",
       "  </tbody>\n",
       "</table>\n",
       "</div>"
      ],
      "text/plain": [
       "                    Hausdorff             MSD             TPR             PPV\n",
       "AE            12.27$\\pm$~0.51  3.63$\\pm$~0.35  0.44$\\pm$~0.02  0.19$\\pm$~0.01\n",
       "Inpaint       13.26$\\pm$~0.50  3.71$\\pm$~0.27  0.63$\\pm$~0.02  0.50$\\pm$~0.02\n",
       "Restoration    8.67$\\pm$~0.53  2.68$\\pm$~0.36  0.68$\\pm$~0.02  0.17$\\pm$~0.01\n",
       "GradCAM-MSMA  12.68$\\pm$~0.54  3.75$\\pm$~0.37  0.43$\\pm$~0.02  0.16$\\pm$~0.01\n",
       "Spatial-MSMA   7.05$\\pm$~0.61  2.10$\\pm$~0.43  0.83$\\pm$~0.01  0.96$\\pm$~0.01"
      ]
     },
     "execution_count": 41,
     "metadata": {},
     "output_type": "execute_result"
    }
   ],
   "source": [
    "d = pd.DataFrame(columns=[\"Hausdorff\", \"MSD\", \"TPR\", \"PPV\"])\n",
    "\n",
    "for name, m in zip((\"AE\", \"Inpaint\", \"Restoration\", \"GradCAM-MSMA\", \"Spatial-MSMA\"),\n",
    "                   (ae_metrics, gradcam_metrics, inpaint_metrics, restoration_metrics, flow_metrics)):\n",
    "    stats = m[lower_metric_cols+higher_metric_cols].describe()\n",
    "    se = (stats.loc[\"std\"] / np.sqrt(m.shape[0])).apply('{:.2f}'.format)\n",
    "    mu = stats.loc[\"mean\"].apply('{:.2f}'.format)\n",
    "    text = (mu + \"$\\pm$~\" + se.astype(str)).values\n",
    "    d.loc[name] = text\n",
    "d"
   ]
  },
  {
   "cell_type": "code",
   "execution_count": 42,
   "id": "5c901e60",
   "metadata": {},
   "outputs": [
    {
     "name": "stdout",
     "output_type": "stream",
     "text": [
      "\\begin{tabular}{lccc}\n",
      "\\toprule\n",
      "{} &        Hausdorff &             MSD &             TPR &             PPV \\\\\n",
      "\\midrule\n",
      "AE           &  12.27$\\pm$~0.51 &  3.63$\\pm$~0.35 &  0.44$\\pm$~0.02 &  0.19$\\pm$~0.01 \\\\\n",
      "Inpaint      &  13.26$\\pm$~0.50 &  3.71$\\pm$~0.27 &  0.63$\\pm$~0.02 &  0.50$\\pm$~0.02 \\\\\n",
      "Restoration  &   8.67$\\pm$~0.53 &  2.68$\\pm$~0.36 &  0.68$\\pm$~0.02 &  0.17$\\pm$~0.01 \\\\\n",
      "GradCAM-MSMA &  12.68$\\pm$~0.54 &  3.75$\\pm$~0.37 &  0.43$\\pm$~0.02 &  0.16$\\pm$~0.01 \\\\\n",
      "Spatial-MSMA &   7.05$\\pm$~0.61 &  2.10$\\pm$~0.43 &  0.83$\\pm$~0.01 &  0.96$\\pm$~0.01 \\\\\n",
      "\\bottomrule\n",
      "\\end{tabular}\n",
      "\n"
     ]
    },
    {
     "name": "stderr",
     "output_type": "stream",
     "text": [
      "/tmp/ipykernel_38540/207577648.py:1: FutureWarning:\n",
      "\n",
      "In future versions `DataFrame.to_latex` is expected to utilise the base implementation of `Styler.to_latex` for formatting and rendering. The arguments signature may therefore change. It is recommended instead to use `DataFrame.style.to_latex` which also contains additional functionality.\n",
      "\n"
     ]
    }
   ],
   "source": [
    "print(d.to_latex(index=True, header=True, column_format='lccc', escape=False))"
   ]
  },
  {
   "cell_type": "code",
   "execution_count": null,
   "id": "acad9429",
   "metadata": {},
   "outputs": [],
   "source": [
    "# %%latex\n",
    "\n",
    "# \\begin{tabular}{lccc}\n",
    "# \\toprule\n",
    "# {} &  hausdorff &  mean_surf_dist \\\\\n",
    "# \\midrule\n",
    "# AE         &  12.272418 &        3.625731 \\\\\n",
    "# GradCAM    &  12.751333 &        4.462771 \\\\\n",
    "# Patch-MSMA &   9.274731 &        2.246507 \\\\\n",
    "# \\bottomrule\n",
    "# \\end{tabular}"
   ]
  },
  {
   "cell_type": "code",
   "execution_count": null,
   "id": "eb1e9d21",
   "metadata": {},
   "outputs": [],
   "source": []
  }
 ],
 "metadata": {
  "kernelspec": {
   "display_name": "Python 3 (ipykernel)",
   "language": "python",
   "name": "python3"
  },
  "language_info": {
   "codemirror_mode": {
    "name": "ipython",
    "version": 3
   },
   "file_extension": ".py",
   "mimetype": "text/x-python",
   "name": "python",
   "nbconvert_exporter": "python",
   "pygments_lexer": "ipython3",
   "version": "3.10.12"
  }
 },
 "nbformat": 4,
 "nbformat_minor": 5
}
