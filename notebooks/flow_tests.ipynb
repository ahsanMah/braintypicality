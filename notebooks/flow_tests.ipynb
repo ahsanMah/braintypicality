{
 "cells": [
  {
   "cell_type": "code",
   "execution_count": 1,
   "id": "11871feb",
   "metadata": {},
   "outputs": [],
   "source": [
    "#Run this once\n",
    "%load_ext autoreload\n",
    "%autoreload 2\n",
    "import os, sys\n",
    "os.environ[\"CUDA_VISIBLE_DEVICES\"] = \"2\"\n",
    "project_dir = \"/codespace/braintypicality\"\n",
    "sys.path.append(project_dir)"
   ]
  },
  {
   "cell_type": "code",
   "execution_count": 2,
   "id": "681720d9",
   "metadata": {},
   "outputs": [
    {
     "name": "stderr",
     "output_type": "stream",
     "text": [
      "/usr/local/lib/python3.8/dist-packages/tqdm/auto.py:22: TqdmWarning: IProgress not found. Please update jupyter and ipywidgets. See https://ipywidgets.readthedocs.io/en/stable/user_install.html\n",
      "  from .autonotebook import tqdm as notebook_tqdm\n"
     ]
    }
   ],
   "source": [
    "import glob\n",
    "import math\n",
    "import torch\n",
    "import numpy as np\n",
    "import seaborn as sns\n",
    "import torch.nn as nn\n",
    "\n",
    "from tqdm.auto import tqdm\n",
    "\n",
    "import pandas as pd\n",
    "import matplotlib.pyplot as plt"
   ]
  },
  {
   "cell_type": "code",
   "execution_count": 3,
   "id": "cde903ea",
   "metadata": {},
   "outputs": [],
   "source": [
    "import sde_lib\n",
    "from models import ncsnpp3d\n",
    "from models import utils as mutils\n",
    "from models.ema import ExponentialMovingAverage\n",
    "from utils import restore_checkpoint, restore_pretrained_weights, save_checkpoint\n",
    "from configs.ve import biggan_default as configs\n",
    "config = configs.get_config()\n",
    "config.msma.denoise=False\n",
    "config.msma.schedule = \"geometric\"\n",
    "config.model.learnable_embedding=True\n",
    "workdir = \"/ASD/ahsan_projects/braintypicality/workdir/cuda_opt/learnable\""
   ]
  },
  {
   "cell_type": "code",
   "execution_count": 3,
   "id": "1376e7ff",
   "metadata": {},
   "outputs": [],
   "source": [
    "# https://github.com/gudovskiy/cflow-ad/blob/b2ebf9e673a0aa46992a3b18367ec066a57bba89/model.py\n",
    "def positionalencoding2d(D, H, W):\n",
    "    \"\"\"\n",
    "    :param D: dimension of the model\n",
    "    :param H: H of the positions\n",
    "    :param W: W of the positions\n",
    "    :return: DxHxW position matrix\n",
    "    \"\"\"\n",
    "    if D % 4 != 0:\n",
    "        raise ValueError(\n",
    "            \"Cannot use sin/cos positional encoding with odd dimension (got dim={:d})\".format(\n",
    "                D\n",
    "            )\n",
    "        )\n",
    "    P = torch.zeros(D, H, W)\n",
    "    # Each dimension use half of D\n",
    "    D = D // 2\n",
    "    div_term = torch.exp(torch.arange(0.0, D, 2) * -(math.log(1e4) / D))\n",
    "    pos_w = torch.arange(0.0, W).unsqueeze(1)\n",
    "    pos_h = torch.arange(0.0, H).unsqueeze(1)\n",
    "    P[0:D:2, :, :] = (\n",
    "        torch.sin(pos_w * div_term).transpose(0, 1).unsqueeze(1).repeat(1, H, 1)\n",
    "    )\n",
    "    P[1:D:2, :, :] = (\n",
    "        torch.cos(pos_w * div_term).transpose(0, 1).unsqueeze(1).repeat(1, H, 1)\n",
    "    )\n",
    "    P[D::2, :, :] = (\n",
    "        torch.sin(pos_h * div_term).transpose(0, 1).unsqueeze(2).repeat(1, 1, W)\n",
    "    )\n",
    "    P[D + 1 :: 2, :, :] = (\n",
    "        torch.cos(pos_h * div_term).transpose(0, 1).unsqueeze(2).repeat(1, 1, W)\n",
    "    )\n",
    "    return P\n",
    "\n",
    "def get_emb(sin_inp):\n",
    "    \"\"\"\n",
    "    Gets a base embedding for one dimension with sin and cos intertwined\n",
    "    \"\"\"\n",
    "    emb = torch.stack((sin_inp.sin(), sin_inp.cos()), dim=-1)\n",
    "    return torch.flatten(emb, -2, -1)\n",
    "\n",
    "# https://github.com/tatp22/multidim-positional-encoding/blob/master/positional_encodings/torch_encodings.py\n",
    "class PositionalEncoding3D(nn.Module):\n",
    "    def __init__(self, embedding_size):\n",
    "        \"\"\"\n",
    "        :param channels: The last dimension of the tensor you want to apply pos emb to.\n",
    "        \"\"\"\n",
    "        super(PositionalEncoding3D, self).__init__()\n",
    "        self.embedding_size = embedding_size\n",
    "        channels = int(np.ceil(embedding_size / 6) * 2)\n",
    "        if channels % 2:\n",
    "            channels += 1\n",
    "        self.channels = channels\n",
    "        inv_freq = 1.0 / (10000 ** (torch.arange(0, channels, 2).float() / channels))\n",
    "        self.register_buffer(\"inv_freq\", inv_freq)\n",
    "        self.register_buffer(\"cached_penc\", None)\n",
    "\n",
    "    def forward(self, tensor):\n",
    "        \"\"\"\n",
    "        :param tensor: A 5d tensor of size (batch_size, ch, x, y, z)\n",
    "        :return: Positional Encoding Matrix of size (batch_size, ch, x, y, z)\n",
    "        \"\"\"\n",
    "        if len(tensor.shape) != 5:\n",
    "            raise RuntimeError(\"The input tensor has to be 5d!\")\n",
    "\n",
    "        if self.cached_penc is not None and self.cached_penc.shape == tensor.shape:\n",
    "            return self.cached_penc\n",
    "        \n",
    "        self.cached_penc = None\n",
    "        batch_size, _, x, y, z = tensor.shape\n",
    "        pos_x = torch.arange(x, device=tensor.device).type(self.inv_freq.type())\n",
    "        pos_y = torch.arange(y, device=tensor.device).type(self.inv_freq.type())\n",
    "        pos_z = torch.arange(z, device=tensor.device).type(self.inv_freq.type())\n",
    "        sin_inp_x = torch.einsum(\"i,j->ij\", pos_x, self.inv_freq)\n",
    "        sin_inp_y = torch.einsum(\"i,j->ij\", pos_y, self.inv_freq)\n",
    "        sin_inp_z = torch.einsum(\"i,j->ij\", pos_z, self.inv_freq)\n",
    "        emb_x = get_emb(sin_inp_x).unsqueeze(1).unsqueeze(1)\n",
    "        emb_y = get_emb(sin_inp_y).unsqueeze(1)\n",
    "        emb_z = get_emb(sin_inp_z)\n",
    "        emb = torch.zeros((x, y, z, self.channels * 3), device=tensor.device).type(\n",
    "            tensor.type()\n",
    "        )\n",
    "        emb[:, :, :, : self.channels] = emb_x\n",
    "        emb[:, :, :, self.channels : 2 * self.channels] = emb_y\n",
    "        emb[:, :, :, 2 * self.channels :] = emb_z\n",
    "\n",
    "        self.cached_penc = emb[None, :, :, :, :self.embedding_size].repeat(batch_size, 1, 1, 1, 1)\n",
    "        \n",
    "        # Channels first\n",
    "        self.cached_penc = self.cached_penc.permute(0,4,1,2,3)\n",
    "        \n",
    "        return self.cached_penc"
   ]
  },
  {
   "cell_type": "code",
   "execution_count": 4,
   "id": "7f0e0288",
   "metadata": {},
   "outputs": [
    {
     "data": {
      "text/plain": [
       "torch.Size([3, 64, 32, 32, 32])"
      ]
     },
     "execution_count": 4,
     "metadata": {},
     "output_type": "execute_result"
    }
   ],
   "source": [
    "encoder = PositionalEncoding3D(64)\n",
    "p3d = encoder(torch.empty(3, 10, 32,32,32))\n",
    "p3d.shape"
   ]
  },
  {
   "cell_type": "code",
   "execution_count": 5,
   "id": "dce50176",
   "metadata": {},
   "outputs": [
    {
     "data": {
      "text/plain": [
       "(64, 22)"
      ]
     },
     "execution_count": 5,
     "metadata": {},
     "output_type": "execute_result"
    }
   ],
   "source": [
    "encoder.embedding_size, encoder.channels"
   ]
  },
  {
   "cell_type": "code",
   "execution_count": 6,
   "id": "f2c51e92",
   "metadata": {},
   "outputs": [
    {
     "data": {
      "text/plain": [
       "<AxesSubplot: >"
      ]
     },
     "execution_count": 6,
     "metadata": {},
     "output_type": "execute_result"
    },
    {
     "data": {
      "image/png": "[encoded data removed]",
      "text/plain": [
       "<Figure size 640x480 with 2 Axes>"
      ]
     },
     "metadata": {},
     "output_type": "display_data"
    }
   ],
   "source": [
    "sns.heatmap(p3d[0,0,:,:,0])"
   ]
  },
  {
   "cell_type": "code",
   "execution_count": 7,
   "id": "aab3112c",
   "metadata": {},
   "outputs": [
    {
     "data": {
      "text/plain": [
       "tensor(True)"
      ]
     },
     "execution_count": 7,
     "metadata": {},
     "output_type": "execute_result"
    }
   ],
   "source": [
    "torch.isclose(p3d[0], p3d[1]).all()"
   ]
  },
  {
   "cell_type": "code",
   "execution_count": 41,
   "id": "5682606b",
   "metadata": {},
   "outputs": [],
   "source": [
    "class SpatialNorm3D(nn.Module):\n",
    "    def __init__(self, in_channels, kernel_size=3, stride=2, padding=1):\n",
    "        super().__init__()\n",
    "        self.conv = nn.Conv3d(\n",
    "            in_channels,\n",
    "            in_channels,\n",
    "            kernel_size,\n",
    "            groups=in_channels,\n",
    "            stride=stride,\n",
    "            padding=padding,\n",
    "            bias=False,\n",
    "        )\n",
    "        self.conv.weight.data.fill_(1)  # all ones weights\n",
    "        self.conv.weight.requires_grad = False  # freeze weights\n",
    "\n",
    "    @torch.no_grad()\n",
    "    def forward(self, x):\n",
    "        return self.conv(x.square()).pow_(0.5)"
   ]
  },
  {
   "cell_type": "code",
   "execution_count": 50,
   "id": "d4f2f4ed",
   "metadata": {},
   "outputs": [],
   "source": [
    "n_timesteps = config.model.num_scales\n",
    "eps = config.msma.min_timestep\n",
    "end = config.msma.max_timestep\n",
    "config.msma.n_timesteps = 10\n",
    "msma_sigmas = torch.exp(\n",
    "    torch.linspace(\n",
    "        np.log(max(1e-1, sde.sigma_min)),\n",
    "        np.log(sde.sigma_max),\n",
    "        config.msma.n_timesteps,\n",
    "        device=config.device,\n",
    "    )\n",
    ")\n",
    "timesteps = sde.noise_schedule_inverse(msma_sigmas).to(config.device)"
   ]
  },
  {
   "cell_type": "code",
   "execution_count": 53,
   "id": "0d960d63",
   "metadata": {},
   "outputs": [
    {
     "data": {
      "text/plain": [
       "tensor([0.0560, 0.1609, 0.2658, 0.3707, 0.4756, 0.5805, 0.6853, 0.7902, 0.8951,\n",
       "        1.0000], device='cuda:0')"
      ]
     },
     "execution_count": 53,
     "metadata": {},
     "output_type": "execute_result"
    }
   ],
   "source": [
    "timesteps"
   ]
  },
  {
   "cell_type": "code",
   "execution_count": 110,
   "id": "6eaf6a09",
   "metadata": {},
   "outputs": [
    {
     "name": "stdout",
     "output_type": "stream",
     "text": [
      "CPU times: user 234 ms, sys: 8.16 ms, total: 242 ms\n",
      "Wall time: 27.3 ms\n"
     ]
    },
    {
     "data": {
      "text/plain": [
       "torch.Size([1, 2, 96, 112, 80])"
      ]
     },
     "execution_count": 110,
     "metadata": {},
     "output_type": "execute_result"
    }
   ],
   "source": [
    "%%time\n",
    "x = torch.ones(1,2, *config.data.image_size)\n",
    "s = score_model(x, timesteps[-1:])\n",
    "s.shape"
   ]
  },
  {
   "cell_type": "code",
   "execution_count": 59,
   "id": "3605d0d8",
   "metadata": {},
   "outputs": [
    {
     "data": {
      "text/plain": [
       "torch.Size([1, 2, 48, 56, 40])"
      ]
     },
     "execution_count": 59,
     "metadata": {},
     "output_type": "execute_result"
    }
   ],
   "source": [
    "normer = SpatialNorm3D(2)\n",
    "y = normer(x)\n",
    "y.shape"
   ]
  },
  {
   "cell_type": "code",
   "execution_count": 70,
   "id": "99222743",
   "metadata": {},
   "outputs": [
    {
     "data": {
      "text/plain": [
       "torch.Size([1, 2, 12, 14, 10])"
      ]
     },
     "execution_count": 70,
     "metadata": {},
     "output_type": "execute_result"
    }
   ],
   "source": [
    "conv = SpatialNorm3D(2, kernel_size=7, stride=4, padding=2)\n",
    "z = conv(y)\n",
    "z.shape"
   ]
  },
  {
   "cell_type": "code",
   "execution_count": 4,
   "id": "01ec0634",
   "metadata": {},
   "outputs": [],
   "source": [
    "import FrEIA.framework as Ff\n",
    "import FrEIA.modules as Fm\n",
    "from functools import partial\n",
    "from einops import rearrange\n",
    "from models.flows import ScoreAttentionBlock, PatchFlow, gaussian_logprob"
   ]
  },
  {
   "cell_type": "code",
   "execution_count": 5,
   "id": "975f8357",
   "metadata": {},
   "outputs": [
    {
     "name": "stdout",
     "output_type": "stream",
     "text": [
      "Generating 17x17x17 patches from input size: (2, 96, 112, 80)\n",
      "Pooled spatial resolution: (8, 10, 7)\n",
      "Number of flows / patches: 560\n",
      "Global Context Shape:  (2, 7, 9)\n"
     ]
    },
    {
     "data": {
      "text/plain": [
       "PatchFlow(\n",
       "  (local_pooler): SpatialNorm3D(\n",
       "    (conv): Conv3d(2, 2, kernel_size=(17, 17, 17), stride=(11, 11, 11), padding=(4, 4, 4), groups=2, bias=False)\n",
       "  )\n",
       "  (position_encoder): PositionalEncoding3D()\n",
       "  (global_pooler): SpatialNorm3D(\n",
       "    (conv): Conv3d(2, 2, kernel_size=(32, 32, 32), stride=(11, 11, 11), padding=(4, 4, 4), groups=2, bias=False)\n",
       "  )\n",
       "  (global_attention): ScoreAttentionBlock(\n",
       "    (proj): Linear(in_features=2, out_features=128, bias=False)\n",
       "    (norm): LayerNorm((128,), eps=1e-05, elementwise_affine=True)\n",
       "    (attention): MultiheadAttention(\n",
       "      (out_proj): NonDynamicallyQuantizableLinear(in_features=128, out_features=128, bias=True)\n",
       "    )\n",
       "    (ffn): Sequential(\n",
       "      (0): Linear(in_features=128, out_features=128, bias=False)\n",
       "      (1): GELU(approximate='none')\n",
       "      (2): Dropout(p=0.1, inplace=False)\n",
       "      (3): Linear(in_features=128, out_features=128, bias=False)\n",
       "    )\n",
       "    (normout): LayerNorm((128,), eps=1e-05, elementwise_affine=True)\n",
       "  )\n",
       "  (flow): SequenceINN(\n",
       "    (module_list): ModuleList(\n",
       "      (0): AllInOneBlock(\n",
       "        (softplus): Softplus(beta=0.5, threshold=20)\n",
       "        (subnet): Sequential(\n",
       "          (0): LayerNorm((257,), eps=1e-05, elementwise_affine=True)\n",
       "          (1): Linear(in_features=257, out_features=256, bias=True)\n",
       "          (2): GELU(approximate='none')\n",
       "          (3): Linear(in_features=256, out_features=256, bias=True)\n",
       "          (4): GELU(approximate='none')\n",
       "          (5): LayerNorm((256,), eps=1e-05, elementwise_affine=True)\n",
       "          (6): Linear(in_features=256, out_features=2, bias=True)\n",
       "        )\n",
       "      )\n",
       "      (1): AllInOneBlock(\n",
       "        (softplus): Softplus(beta=0.5, threshold=20)\n",
       "        (subnet): Sequential(\n",
       "          (0): LayerNorm((257,), eps=1e-05, elementwise_affine=True)\n",
       "          (1): Linear(in_features=257, out_features=256, bias=True)\n",
       "          (2): GELU(approximate='none')\n",
       "          (3): Linear(in_features=256, out_features=256, bias=True)\n",
       "          (4): GELU(approximate='none')\n",
       "          (5): LayerNorm((256,), eps=1e-05, elementwise_affine=True)\n",
       "          (6): Linear(in_features=256, out_features=2, bias=True)\n",
       "        )\n",
       "      )\n",
       "    )\n",
       "  )\n",
       ")"
      ]
     },
     "execution_count": 5,
     "metadata": {},
     "output_type": "execute_result"
    }
   ],
   "source": [
    "flow = PatchFlow(input_size=(2, *config.data.image_size), patch_size=17,\n",
    "                 patch_batch_size=112, global_flow=True).cuda()\n",
    "flow"
   ]
  },
  {
   "cell_type": "code",
   "execution_count": 6,
   "id": "8dabe6ae",
   "metadata": {},
   "outputs": [
    {
     "data": {
      "text/plain": [
       "torch.Size([1, 2, 96, 112, 80])"
      ]
     },
     "execution_count": 6,
     "metadata": {},
     "output_type": "execute_result"
    }
   ],
   "source": [
    "x = torch.ones(1,2, *config.data.image_size, device=\"cuda\")\n",
    "x.shape"
   ]
  },
  {
   "cell_type": "code",
   "execution_count": 7,
   "id": "b4380129",
   "metadata": {},
   "outputs": [
    {
     "name": "stdout",
     "output_type": "stream",
     "text": [
      "CPU times: user 498 ms, sys: 325 ms, total: 823 ms\n",
      "Wall time: 1.03 s\n"
     ]
    },
    {
     "data": {
      "text/plain": [
       "torch.Size([560, 1, 2])"
      ]
     },
     "execution_count": 7,
     "metadata": {},
     "output_type": "execute_result"
    }
   ],
   "source": [
    "%%time\n",
    "z,ldj = flow(x, fast=False)\n",
    "z.shape"
   ]
  },
  {
   "cell_type": "code",
   "execution_count": 8,
   "id": "5968ee91",
   "metadata": {},
   "outputs": [
    {
     "name": "stdout",
     "output_type": "stream",
     "text": [
      "CPU times: user 8.68 ms, sys: 1.44 ms, total: 10.1 ms\n",
      "Wall time: 9.86 ms\n"
     ]
    },
    {
     "data": {
      "text/plain": [
       "torch.Size([560, 1, 2])"
      ]
     },
     "execution_count": 8,
     "metadata": {},
     "output_type": "execute_result"
    }
   ],
   "source": [
    "%%time\n",
    "zf,ldjf = flow(x, fast=True)\n",
    "zf.shape"
   ]
  },
  {
   "cell_type": "code",
   "execution_count": 9,
   "id": "8a914233",
   "metadata": {},
   "outputs": [],
   "source": [
    "assert torch.isclose(z, zf, rtol=9e-2).all()\n",
    "assert torch.isclose(ldj, ldjf, rtol=9e-2).all()"
   ]
  },
  {
   "cell_type": "code",
   "execution_count": 10,
   "id": "fdb1eb9c",
   "metadata": {},
   "outputs": [
    {
     "data": {
      "text/plain": [
       "torch.Size([560, 1])"
      ]
     },
     "execution_count": 10,
     "metadata": {},
     "output_type": "execute_result"
    }
   ],
   "source": [
    "gaussian_logprob(zf, ldjf).shape"
   ]
  },
  {
   "cell_type": "code",
   "execution_count": 11,
   "id": "e8e75427",
   "metadata": {},
   "outputs": [],
   "source": [
    "b, c, h, w, d = x.shape\n",
    "y = x.permute(2, 3, 4, 0, 1)  # Patches x batch x channels\n",
    "y = y.reshape(h*w*d, b, c)\n",
    "y2 = rearrange(x, 'b c h w d -> (h w d) b c')\n",
    "assert torch.isclose(y, y2).all()"
   ]
  },
  {
   "cell_type": "code",
   "execution_count": 12,
   "id": "e3047f5a",
   "metadata": {},
   "outputs": [],
   "source": [
    "b, c, h, w, d = x.shape\n",
    "y = x.permute(2, 3, 4, 0, 1)  # Patches x batch x channels\n",
    "y = y.reshape(h*w*d, b, c)\n",
    "y = y.reshape(h*w*d*b, c)\n",
    "y2 = rearrange(x, 'b c h w d -> (h w d b) c')\n",
    "\n",
    "assert torch.isclose(y, y2).all()"
   ]
  },
  {
   "cell_type": "code",
   "execution_count": 13,
   "id": "84289d1a",
   "metadata": {},
   "outputs": [],
   "source": [
    "b, c, h, w, d = x.shape\n",
    "y = x.permute(2, 3, 4, 0, 1)  # Patches x batch x channels\n",
    "y = y.reshape(h*w*d, b, c)\n",
    "y = y.reshape(h*w*d*b, c)\n",
    "y2 = rearrange(x, 'b c h w d -> (h w d b) c')\n",
    "\n",
    "# Reshape back after op\n",
    "y = (y + 1) * 2\n",
    "y = y.reshape(h,w,d,b, c)\n",
    "y = y.permute(3,4, 0,1,2)\n",
    "\n",
    "y2 = (y2 + 1) * 2\n",
    "y2 = rearrange(y2, '(h w d b) c -> b c h w d', b=b, c=c, h=h, w=w, d=d )\n",
    "\n",
    "assert torch.isclose(y, y2).all()\n",
    "assert torch.isclose(y, (x+1)*2).all()\n",
    "assert torch.isclose(y2, (x+1)*2).all()"
   ]
  },
  {
   "cell_type": "code",
   "execution_count": 14,
   "id": "33781915",
   "metadata": {},
   "outputs": [],
   "source": [
    "opt = torch.optim.Adam(flow.flow.parameters())"
   ]
  },
  {
   "cell_type": "code",
   "execution_count": 15,
   "id": "b9b4b346",
   "metadata": {},
   "outputs": [
    {
     "name": "stderr",
     "output_type": "stream",
     "text": [
      "100%|██████████| 10/10 [00:02<00:00,  4.91it/s]"
     ]
    },
    {
     "name": "stdout",
     "output_type": "stream",
     "text": [
      "CPU times: user 1.59 s, sys: 405 ms, total: 1.99 s\n",
      "Wall time: 2.04 s\n"
     ]
    },
    {
     "name": "stderr",
     "output_type": "stream",
     "text": [
      "\n"
     ]
    }
   ],
   "source": [
    "%%time\n",
    "losses = []\n",
    "for i in tqdm(range(10)):\n",
    "    losses.append(PatchFlow.stochastic_train_step(flow, x, opt, n_patches=32))"
   ]
  },
  {
   "cell_type": "code",
   "execution_count": 16,
   "id": "f1055d02",
   "metadata": {},
   "outputs": [
    {
     "data": {
      "text/plain": [
       "<AxesSubplot: >"
      ]
     },
     "execution_count": 16,
     "metadata": {},
     "output_type": "execute_result"
    },
    {
     "data": {
      "image/png": "[encoded data removed]",
      "text/plain": [
       "<Figure size 640x480 with 1 Axes>"
      ]
     },
     "metadata": {},
     "output_type": "display_data"
    }
   ],
   "source": [
    "pd.Series(losses).plot()"
   ]
  },
  {
   "cell_type": "code",
   "execution_count": 17,
   "id": "c6f3bdee",
   "metadata": {},
   "outputs": [
    {
     "name": "stdout",
     "output_type": "stream",
     "text": [
      "CPU times: user 50.1 ms, sys: 3.41 ms, total: 53.5 ms\n",
      "Wall time: 53.3 ms\n"
     ]
    }
   ],
   "source": [
    "%%time\n",
    "with torch.no_grad():\n",
    "    flow.eval()\n",
    "    nh,nw,nd = flow.spatial_res \n",
    "    z, ldj = flow(x, fast=True)\n",
    "    xll = flow.logprob(z,ldj)\n",
    "    xll = rearrange(xll, '(h w d b) 1 -> b h w d', b=b, h=nh, w=nw, d=nd ).cpu()\n",
    "    xll.shape"
   ]
  },
  {
   "cell_type": "code",
   "execution_count": 18,
   "id": "43d753a0",
   "metadata": {},
   "outputs": [],
   "source": [
    "xll2 = flow.log_density(x, fast=True).cpu()"
   ]
  },
  {
   "cell_type": "code",
   "execution_count": 19,
   "id": "1960e2d1",
   "metadata": {},
   "outputs": [],
   "source": [
    "assert torch.isclose(xll, xll2).all()"
   ]
  },
  {
   "cell_type": "code",
   "execution_count": 20,
   "id": "d03ea41c",
   "metadata": {},
   "outputs": [
    {
     "data": {
      "text/plain": [
       "<matplotlib.colorbar.Colorbar at 0x7f679c32c8b0>"
      ]
     },
     "execution_count": 20,
     "metadata": {},
     "output_type": "execute_result"
    },
    {
     "data": {
      "image/png": "[encoded data removed]",
      "text/plain": [
       "<Figure size 640x480 with 2 Axes>"
      ]
     },
     "metadata": {},
     "output_type": "display_data"
    }
   ],
   "source": [
    "plt.imshow(xll[0, 3,:,:])\n",
    "plt.colorbar()"
   ]
  },
  {
   "cell_type": "markdown",
   "id": "79b07bb4",
   "metadata": {},
   "source": [
    "## Full training of a flow model"
   ]
  },
  {
   "cell_type": "code",
   "execution_count": 21,
   "id": "e8152ed6",
   "metadata": {},
   "outputs": [
    {
     "name": "stderr",
     "output_type": "stream",
     "text": [
      "/home/amahmood/.local/lib/python3.8/site-packages/monai/utils/deprecate_utils.py:111: FutureWarning:\n",
      "\n",
      "<class 'monai.transforms.utility.dictionary.AsChannelFirstd'>: Class `AsChannelFirstd` has been deprecated since version 0.8. It will be removed in version 1.3. please use MetaTensor data type and monai.transforms.EnsureChannelFirstd instead.\n",
      "\n"
     ]
    }
   ],
   "source": [
    "import datasets\n",
    "\n",
    "config.data.cache_rate=0.0\n",
    "config.eval.batch_size=8\n",
    "\n",
    "# Build data pipeline\n",
    "inlier_ds, ood_ds, _ = datasets.get_dataset(\n",
    "    config,\n",
    "    uniform_dequantization=config.data.uniform_dequantization,\n",
    "    evaluation=True,\n",
    "    ood_eval=True,\n",
    ")\n",
    "\n",
    "# train_ds, eval_ds, _ = datasets.get_dataset(\n",
    "#     config,\n",
    "#     uniform_dequantization=config.data.uniform_dequantization,\n",
    "#     evaluation=True,\n",
    "# )"
   ]
  },
  {
   "cell_type": "code",
   "execution_count": 22,
   "id": "ceb394e5",
   "metadata": {},
   "outputs": [
    {
     "data": {
      "text/plain": [
       "as_tfds: false\n",
       "cache_rate: 0.0\n",
       "centered: false\n",
       "colab_path: /content/drive/MyDrive/ML_Datasets/ABCD/processed/\n",
       "colab_splits_path: /content/drive/MyDrive/Developer/braintypicality/dataset/\n",
       "colab_tumor_path: /content/drive/MyDrive/ML_Datasets/ABCD/tumor/\n",
       "dataset: BRAIN\n",
       "dir_path: /DATA/Users/amahmood/braintyp/processed_v2/\n",
       "gen_ood: false\n",
       "image_size: !!python/tuple\n",
       "- 96\n",
       "- 112\n",
       "- 80\n",
       "num_channels: 2\n",
       "ood_ds: DS-SA\n",
       "select_channel: -1\n",
       "spacing_pix_dim: 2.0\n",
       "splits_path: /home/braintypicality/dataset/\n",
       "tumor_dir_path: /DATA/Users/amahmood/tumor/\n",
       "uniform_dequantization: false"
      ]
     },
     "execution_count": 22,
     "metadata": {},
     "output_type": "execute_result"
    }
   ],
   "source": [
    "config.data"
   ]
  },
  {
   "cell_type": "code",
   "execution_count": 23,
   "id": "2f430be5",
   "metadata": {},
   "outputs": [
    {
     "data": {
      "text/plain": [
       "torch.Size([8, 2, 96, 112, 80])"
      ]
     },
     "execution_count": 23,
     "metadata": {},
     "output_type": "execute_result"
    }
   ],
   "source": [
    "x_batch = next(iter(inlier_ds))[\"image\"]\n",
    "x_batch.shape"
   ]
  },
  {
   "cell_type": "code",
   "execution_count": 24,
   "id": "30b6ac6b",
   "metadata": {},
   "outputs": [
    {
     "data": {
      "text/plain": [
       "DataParallel(\n",
       "  (module): SegResNetpp(\n",
       "    (convInit): Convolution(\n",
       "      (conv): Conv3d(2, 24, kernel_size=(3, 3, 3), stride=(1, 1, 1), padding=(1, 1, 1))\n",
       "    )\n",
       "    (down_layers): ModuleDict(\n",
       "      (resnet_0x2): MultiSequential(\n",
       "        (0): ResnetBlockBigGANpp(\n",
       "          (pre_conv): Identity()\n",
       "          (norm_0): GroupNorm(6, 24, eps=1e-06, affine=True)\n",
       "          (conv_0): Convolution(\n",
       "            (conv): Conv3d(24, 24, kernel_size=(3, 3, 3), stride=(1, 1, 1), padding=(1, 1, 1))\n",
       "          )\n",
       "          (dense): Linear(in_features=256, out_features=48, bias=True)\n",
       "          (norm_1): GroupNorm(6, 24, eps=1e-06, affine=True)\n",
       "          (conv_1): Convolution(\n",
       "            (conv): Conv3d(24, 24, kernel_size=(3, 3, 3), stride=(1, 1, 1), padding=(1, 1, 1))\n",
       "          )\n",
       "          (dropout): Dropout(p=0.0, inplace=False)\n",
       "          (act): MemoryEfficientSwish()\n",
       "        )\n",
       "        (1): ResnetBlockBigGANpp(\n",
       "          (norm_0): GroupNorm(6, 24, eps=1e-06, affine=True)\n",
       "          (conv_0): Convolution(\n",
       "            (conv): Conv3d(24, 24, kernel_size=(3, 3, 3), stride=(1, 1, 1), padding=(1, 1, 1))\n",
       "          )\n",
       "          (dense): Linear(in_features=256, out_features=48, bias=True)\n",
       "          (norm_1): GroupNorm(6, 24, eps=1e-06, affine=True)\n",
       "          (conv_1): Convolution(\n",
       "            (conv): Conv3d(24, 24, kernel_size=(3, 3, 3), stride=(1, 1, 1), padding=(1, 1, 1))\n",
       "          )\n",
       "          (dropout): Dropout(p=0.0, inplace=False)\n",
       "          (act): MemoryEfficientSwish()\n",
       "        )\n",
       "      )\n",
       "      (resnet_1x2): MultiSequential(\n",
       "        (0): ResnetBlockBigGANpp(\n",
       "          (pre_conv): Convolution(\n",
       "            (conv): Conv3d(24, 48, kernel_size=(3, 3, 3), stride=(2, 2, 2), padding=(1, 1, 1))\n",
       "          )\n",
       "          (norm_0): GroupNorm(12, 48, eps=1e-06, affine=True)\n",
       "          (conv_0): Convolution(\n",
       "            (conv): Conv3d(48, 48, kernel_size=(3, 3, 3), stride=(1, 1, 1), padding=(1, 1, 1))\n",
       "          )\n",
       "          (dense): Linear(in_features=256, out_features=96, bias=True)\n",
       "          (norm_1): GroupNorm(12, 48, eps=1e-06, affine=True)\n",
       "          (conv_1): Convolution(\n",
       "            (conv): Conv3d(48, 48, kernel_size=(3, 3, 3), stride=(1, 1, 1), padding=(1, 1, 1))\n",
       "          )\n",
       "          (dropout): Dropout(p=0.0, inplace=False)\n",
       "          (act): MemoryEfficientSwish()\n",
       "        )\n",
       "        (1): ResnetBlockBigGANpp(\n",
       "          (norm_0): GroupNorm(12, 48, eps=1e-06, affine=True)\n",
       "          (conv_0): Convolution(\n",
       "            (conv): Conv3d(48, 48, kernel_size=(3, 3, 3), stride=(1, 1, 1), padding=(1, 1, 1))\n",
       "          )\n",
       "          (dense): Linear(in_features=256, out_features=96, bias=True)\n",
       "          (norm_1): GroupNorm(12, 48, eps=1e-06, affine=True)\n",
       "          (conv_1): Convolution(\n",
       "            (conv): Conv3d(48, 48, kernel_size=(3, 3, 3), stride=(1, 1, 1), padding=(1, 1, 1))\n",
       "          )\n",
       "          (dropout): Dropout(p=0.0, inplace=False)\n",
       "          (act): MemoryEfficientSwish()\n",
       "        )\n",
       "      )\n",
       "      (resnet_2x2): MultiSequential(\n",
       "        (0): ResnetBlockBigGANpp(\n",
       "          (pre_conv): Convolution(\n",
       "            (conv): Conv3d(48, 96, kernel_size=(3, 3, 3), stride=(2, 2, 2), padding=(1, 1, 1))\n",
       "          )\n",
       "          (norm_0): GroupNorm(24, 96, eps=1e-06, affine=True)\n",
       "          (conv_0): Convolution(\n",
       "            (conv): Conv3d(96, 96, kernel_size=(3, 3, 3), stride=(1, 1, 1), padding=(1, 1, 1))\n",
       "          )\n",
       "          (dense): Linear(in_features=256, out_features=192, bias=True)\n",
       "          (norm_1): GroupNorm(24, 96, eps=1e-06, affine=True)\n",
       "          (conv_1): Convolution(\n",
       "            (conv): Conv3d(96, 96, kernel_size=(3, 3, 3), stride=(1, 1, 1), padding=(1, 1, 1))\n",
       "          )\n",
       "          (dropout): Dropout(p=0.0, inplace=False)\n",
       "          (act): MemoryEfficientSwish()\n",
       "        )\n",
       "        (1): ResnetBlockBigGANpp(\n",
       "          (norm_0): GroupNorm(24, 96, eps=1e-06, affine=True)\n",
       "          (conv_0): Convolution(\n",
       "            (conv): Conv3d(96, 96, kernel_size=(3, 3, 3), stride=(1, 1, 1), padding=(1, 1, 1))\n",
       "          )\n",
       "          (dense): Linear(in_features=256, out_features=192, bias=True)\n",
       "          (norm_1): GroupNorm(24, 96, eps=1e-06, affine=True)\n",
       "          (conv_1): Convolution(\n",
       "            (conv): Conv3d(96, 96, kernel_size=(3, 3, 3), stride=(1, 1, 1), padding=(1, 1, 1))\n",
       "          )\n",
       "          (dropout): Dropout(p=0.0, inplace=False)\n",
       "          (act): MemoryEfficientSwish()\n",
       "        )\n",
       "      )\n",
       "      (resnet_3x2): MultiSequential(\n",
       "        (0): ResnetBlockBigGANpp(\n",
       "          (pre_conv): Convolution(\n",
       "            (conv): Conv3d(96, 192, kernel_size=(3, 3, 3), stride=(2, 2, 2), padding=(1, 1, 1))\n",
       "          )\n",
       "          (norm_0): GroupNorm(32, 192, eps=1e-06, affine=True)\n",
       "          (conv_0): Convolution(\n",
       "            (conv): Conv3d(192, 192, kernel_size=(3, 3, 3), stride=(1, 1, 1), padding=(1, 1, 1))\n",
       "          )\n",
       "          (dense): Linear(in_features=256, out_features=384, bias=True)\n",
       "          (norm_1): GroupNorm(32, 192, eps=1e-06, affine=True)\n",
       "          (conv_1): Convolution(\n",
       "            (conv): Conv3d(192, 192, kernel_size=(3, 3, 3), stride=(1, 1, 1), padding=(1, 1, 1))\n",
       "          )\n",
       "          (dropout): Dropout(p=0.0, inplace=False)\n",
       "          (act): MemoryEfficientSwish()\n",
       "        )\n",
       "        (1): ResnetBlockBigGANpp(\n",
       "          (norm_0): GroupNorm(32, 192, eps=1e-06, affine=True)\n",
       "          (conv_0): Convolution(\n",
       "            (conv): Conv3d(192, 192, kernel_size=(3, 3, 3), stride=(1, 1, 1), padding=(1, 1, 1))\n",
       "          )\n",
       "          (dense): Linear(in_features=256, out_features=384, bias=True)\n",
       "          (norm_1): GroupNorm(32, 192, eps=1e-06, affine=True)\n",
       "          (conv_1): Convolution(\n",
       "            (conv): Conv3d(192, 192, kernel_size=(3, 3, 3), stride=(1, 1, 1), padding=(1, 1, 1))\n",
       "          )\n",
       "          (dropout): Dropout(p=0.0, inplace=False)\n",
       "          (act): MemoryEfficientSwish()\n",
       "        )\n",
       "      )\n",
       "      (resnet_4x4): MultiSequential(\n",
       "        (0): ResnetBlockBigGANpp(\n",
       "          (pre_conv): Convolution(\n",
       "            (conv): Conv3d(192, 384, kernel_size=(3, 3, 3), stride=(2, 2, 2), padding=(1, 1, 1))\n",
       "          )\n",
       "          (norm_0): GroupNorm(32, 384, eps=1e-06, affine=True)\n",
       "          (conv_0): Convolution(\n",
       "            (conv): Conv3d(384, 384, kernel_size=(3, 3, 3), stride=(1, 1, 1), padding=(1, 1, 1))\n",
       "          )\n",
       "          (dense): Linear(in_features=256, out_features=768, bias=True)\n",
       "          (norm_1): GroupNorm(32, 384, eps=1e-06, affine=True)\n",
       "          (conv_1): Convolution(\n",
       "            (conv): Conv3d(384, 384, kernel_size=(3, 3, 3), stride=(1, 1, 1), padding=(1, 1, 1))\n",
       "          )\n",
       "          (dropout): Dropout(p=0.0, inplace=False)\n",
       "          (act): MemoryEfficientSwish()\n",
       "        )\n",
       "        (1): ResnetBlockBigGANpp(\n",
       "          (norm_0): GroupNorm(32, 384, eps=1e-06, affine=True)\n",
       "          (conv_0): Convolution(\n",
       "            (conv): Conv3d(384, 384, kernel_size=(3, 3, 3), stride=(1, 1, 1), padding=(1, 1, 1))\n",
       "          )\n",
       "          (dense): Linear(in_features=256, out_features=768, bias=True)\n",
       "          (norm_1): GroupNorm(32, 384, eps=1e-06, affine=True)\n",
       "          (conv_1): Convolution(\n",
       "            (conv): Conv3d(384, 384, kernel_size=(3, 3, 3), stride=(1, 1, 1), padding=(1, 1, 1))\n",
       "          )\n",
       "          (dropout): Dropout(p=0.0, inplace=False)\n",
       "          (act): MemoryEfficientSwish()\n",
       "        )\n",
       "        (2): ResnetBlockBigGANpp(\n",
       "          (norm_0): GroupNorm(32, 384, eps=1e-06, affine=True)\n",
       "          (conv_0): Convolution(\n",
       "            (conv): Conv3d(384, 384, kernel_size=(3, 3, 3), stride=(1, 1, 1), padding=(1, 1, 1))\n",
       "          )\n",
       "          (dense): Linear(in_features=256, out_features=768, bias=True)\n",
       "          (norm_1): GroupNorm(32, 384, eps=1e-06, affine=True)\n",
       "          (conv_1): Convolution(\n",
       "            (conv): Conv3d(384, 384, kernel_size=(3, 3, 3), stride=(1, 1, 1), padding=(1, 1, 1))\n",
       "          )\n",
       "          (dropout): Dropout(p=0.0, inplace=False)\n",
       "          (act): MemoryEfficientSwish()\n",
       "        )\n",
       "        (3): ResnetBlockBigGANpp(\n",
       "          (norm_0): GroupNorm(32, 384, eps=1e-06, affine=True)\n",
       "          (conv_0): Convolution(\n",
       "            (conv): Conv3d(384, 384, kernel_size=(3, 3, 3), stride=(1, 1, 1), padding=(1, 1, 1))\n",
       "          )\n",
       "          (dense): Linear(in_features=256, out_features=768, bias=True)\n",
       "          (norm_1): GroupNorm(32, 384, eps=1e-06, affine=True)\n",
       "          (conv_1): Convolution(\n",
       "            (conv): Conv3d(384, 384, kernel_size=(3, 3, 3), stride=(1, 1, 1), padding=(1, 1, 1))\n",
       "          )\n",
       "          (dropout): Dropout(p=0.0, inplace=False)\n",
       "          (act): MemoryEfficientSwish()\n",
       "        )\n",
       "      )\n",
       "    )\n",
       "    (up_layers): ModuleList(\n",
       "      (0): MultiSequential(\n",
       "        (0): ResnetBlockBigGANpp(\n",
       "          (norm_0): GroupNorm(32, 192, eps=1e-06, affine=True)\n",
       "          (conv_0): Convolution(\n",
       "            (conv): Conv3d(192, 192, kernel_size=(3, 3, 3), stride=(1, 1, 1), padding=(1, 1, 1))\n",
       "          )\n",
       "          (dense): Linear(in_features=256, out_features=384, bias=True)\n",
       "          (norm_1): GroupNorm(32, 192, eps=1e-06, affine=True)\n",
       "          (conv_1): Convolution(\n",
       "            (conv): Conv3d(192, 192, kernel_size=(3, 3, 3), stride=(1, 1, 1), padding=(1, 1, 1))\n",
       "          )\n",
       "          (dropout): Dropout(p=0.0, inplace=False)\n",
       "          (act): MemoryEfficientSwish()\n",
       "        )\n",
       "      )\n",
       "      (1): MultiSequential(\n",
       "        (0): ResnetBlockBigGANpp(\n",
       "          (norm_0): GroupNorm(24, 96, eps=1e-06, affine=True)\n",
       "          (conv_0): Convolution(\n",
       "            (conv): Conv3d(96, 96, kernel_size=(3, 3, 3), stride=(1, 1, 1), padding=(1, 1, 1))\n",
       "          )\n",
       "          (dense): Linear(in_features=256, out_features=192, bias=True)\n",
       "          (norm_1): GroupNorm(24, 96, eps=1e-06, affine=True)\n",
       "          (conv_1): Convolution(\n",
       "            (conv): Conv3d(96, 96, kernel_size=(3, 3, 3), stride=(1, 1, 1), padding=(1, 1, 1))\n",
       "          )\n",
       "          (dropout): Dropout(p=0.0, inplace=False)\n",
       "          (act): MemoryEfficientSwish()\n",
       "        )\n",
       "      )\n",
       "      (2): MultiSequential(\n",
       "        (0): ResnetBlockBigGANpp(\n",
       "          (norm_0): GroupNorm(12, 48, eps=1e-06, affine=True)\n",
       "          (conv_0): Convolution(\n",
       "            (conv): Conv3d(48, 48, kernel_size=(3, 3, 3), stride=(1, 1, 1), padding=(1, 1, 1))\n",
       "          )\n",
       "          (dense): Linear(in_features=256, out_features=96, bias=True)\n",
       "          (norm_1): GroupNorm(12, 48, eps=1e-06, affine=True)\n",
       "          (conv_1): Convolution(\n",
       "            (conv): Conv3d(48, 48, kernel_size=(3, 3, 3), stride=(1, 1, 1), padding=(1, 1, 1))\n",
       "          )\n",
       "          (dropout): Dropout(p=0.0, inplace=False)\n",
       "          (act): MemoryEfficientSwish()\n",
       "        )\n",
       "      )\n",
       "      (3): MultiSequential(\n",
       "        (0): ResnetBlockBigGANpp(\n",
       "          (norm_0): GroupNorm(6, 24, eps=1e-06, affine=True)\n",
       "          (conv_0): Convolution(\n",
       "            (conv): Conv3d(24, 24, kernel_size=(3, 3, 3), stride=(1, 1, 1), padding=(1, 1, 1))\n",
       "          )\n",
       "          (dense): Linear(in_features=256, out_features=48, bias=True)\n",
       "          (norm_1): GroupNorm(6, 24, eps=1e-06, affine=True)\n",
       "          (conv_1): Convolution(\n",
       "            (conv): Conv3d(24, 24, kernel_size=(3, 3, 3), stride=(1, 1, 1), padding=(1, 1, 1))\n",
       "          )\n",
       "          (dropout): Dropout(p=0.0, inplace=False)\n",
       "          (act): MemoryEfficientSwish()\n",
       "        )\n",
       "      )\n",
       "    )\n",
       "    (up_samples): ModuleList(\n",
       "      (0): Sequential(\n",
       "        (0): Convolution(\n",
       "          (conv): Conv3d(384, 192, kernel_size=(1, 1, 1), stride=(1, 1, 1))\n",
       "        )\n",
       "        (1): UpSample(\n",
       "          (upsample_non_trainable): Upsample(scale_factor=(2.0, 2.0, 2.0), mode=trilinear)\n",
       "        )\n",
       "      )\n",
       "      (1): Sequential(\n",
       "        (0): Convolution(\n",
       "          (conv): Conv3d(192, 96, kernel_size=(1, 1, 1), stride=(1, 1, 1))\n",
       "        )\n",
       "        (1): UpSample(\n",
       "          (upsample_non_trainable): Upsample(scale_factor=(2.0, 2.0, 2.0), mode=trilinear)\n",
       "        )\n",
       "      )\n",
       "      (2): Sequential(\n",
       "        (0): Convolution(\n",
       "          (conv): Conv3d(96, 48, kernel_size=(1, 1, 1), stride=(1, 1, 1))\n",
       "        )\n",
       "        (1): UpSample(\n",
       "          (upsample_non_trainable): Upsample(scale_factor=(2.0, 2.0, 2.0), mode=trilinear)\n",
       "        )\n",
       "      )\n",
       "      (3): Sequential(\n",
       "        (0): Convolution(\n",
       "          (conv): Conv3d(48, 24, kernel_size=(1, 1, 1), stride=(1, 1, 1))\n",
       "        )\n",
       "        (1): UpSample(\n",
       "          (upsample_non_trainable): Upsample(scale_factor=(2.0, 2.0, 2.0), mode=trilinear)\n",
       "        )\n",
       "      )\n",
       "    )\n",
       "    (conv_final): Sequential(\n",
       "      (0): GroupNorm(8, 24, eps=1e-05, affine=True)\n",
       "      (1): Convolution(\n",
       "        (conv): Conv3d(24, 2, kernel_size=(3, 3, 3), stride=(1, 1, 1), padding=(1, 1, 1))\n",
       "      )\n",
       "    )\n",
       "    (time_embed_layer): Sequential(\n",
       "      (0): GaussianFourierProjection()\n",
       "      (1): Linear(in_features=128, out_features=256, bias=True)\n",
       "      (2): SiLU()\n",
       "      (3): Linear(in_features=256, out_features=256, bias=True)\n",
       "    )\n",
       "  )\n",
       ")"
      ]
     },
     "execution_count": 24,
     "metadata": {},
     "output_type": "execute_result"
    }
   ],
   "source": [
    "# Initialize score model\n",
    "score_model = mutils.create_model(config, log_grads=False)\n",
    "ema = ExponentialMovingAverage(\n",
    "    score_model.parameters(), decay=config.model.ema_rate\n",
    ")\n",
    "state = dict(model=score_model, ema=ema)\n",
    "\n",
    "# Get the latest score model checkpoint from workdir\n",
    "checkpoint_dir = os.path.join(workdir, \"checkpoints\")\n",
    "checkpoint_paths = glob.glob(os.path.join(checkpoint_dir, \"checkpoint_*.pth\"))\n",
    "latest_checkpoint_path = max(\n",
    "    checkpoint_paths, key=lambda x: int(x.split(\"_\")[-1][1])\n",
    ")\n",
    "state = restore_checkpoint(latest_checkpoint_path, state, config.device)\n",
    "ema.store(score_model.parameters())\n",
    "ema.copy_to(score_model.parameters())\n",
    "score_model.eval().requires_grad_(False)"
   ]
  },
  {
   "cell_type": "code",
   "execution_count": 25,
   "id": "613020da",
   "metadata": {},
   "outputs": [
    {
     "data": {
      "text/plain": [
       "[0]"
      ]
     },
     "execution_count": 25,
     "metadata": {},
     "output_type": "execute_result"
    }
   ],
   "source": [
    "score_model.device_ids"
   ]
  },
  {
   "cell_type": "code",
   "execution_count": 26,
   "id": "b2607cd6",
   "metadata": {},
   "outputs": [
    {
     "name": "stdout",
     "output_type": "stream",
     "text": [
      "CPU times: user 5.35 ms, sys: 0 ns, total: 5.35 ms\n",
      "Wall time: 1.3 ms\n"
     ]
    }
   ],
   "source": [
    "%%time\n",
    "scorer = mutils.build_score_norm_fn(config, score_model, return_norm=False)"
   ]
  },
  {
   "cell_type": "code",
   "execution_count": 27,
   "id": "caf228a2",
   "metadata": {},
   "outputs": [
    {
     "name": "stdout",
     "output_type": "stream",
     "text": [
      "CPU times: user 14.6 s, sys: 205 ms, total: 14.8 s\n",
      "Wall time: 5.87 s\n"
     ]
    },
    {
     "data": {
      "text/plain": [
       "torch.Size([8, 20, 96, 112, 80])"
      ]
     },
     "execution_count": 27,
     "metadata": {},
     "output_type": "execute_result"
    }
   ],
   "source": [
    "%%time\n",
    "x_scores = scorer(x_batch[:8])\n",
    "x_scores.shape"
   ]
  },
  {
   "cell_type": "code",
   "execution_count": 28,
   "id": "104fd76c",
   "metadata": {},
   "outputs": [],
   "source": [
    "import ml_collections\n",
    "\n",
    "config.flow = ml_collections.ConfigDict(\n",
    "    dict(patch_size=3,patch_batch_size=112, global_flow=True\n",
    "))"
   ]
  },
  {
   "cell_type": "code",
   "execution_count": 29,
   "id": "0753f05a",
   "metadata": {},
   "outputs": [
    {
     "name": "stdout",
     "output_type": "stream",
     "text": [
      "Generating 3x3x3 patches from input size: (20, 96, 112, 80)\n",
      "Pooled spatial resolution: (48, 56, 40)\n",
      "Number of flows / patches: 107520\n",
      "Global Context Shape:  (20, 24, 28)\n"
     ]
    }
   ],
   "source": [
    "# Initialize flow model\n",
    "flow = PatchFlow(\n",
    "    input_size=(config.msma.n_timesteps, *config.data.image_size),\n",
    "    patch_size=config.flow.patch_size,\n",
    "    patch_batch_size=config.flow.patch_batch_size,\n",
    "    global_flow=config.flow.global_flow,\n",
    ").cuda()"
   ]
  },
  {
   "cell_type": "code",
   "execution_count": 30,
   "id": "f4c480ea",
   "metadata": {},
   "outputs": [],
   "source": [
    "x = x_scores.cuda()"
   ]
  },
  {
   "cell_type": "code",
   "execution_count": 31,
   "id": "93b7d3b4",
   "metadata": {},
   "outputs": [
    {
     "name": "stdout",
     "output_type": "stream",
     "text": [
      "CPU times: user 831 ms, sys: 252 ms, total: 1.08 s\n",
      "Wall time: 1.5 s\n"
     ]
    },
    {
     "data": {
      "text/plain": [
       "torch.Size([8, 48, 56, 40])"
      ]
     },
     "execution_count": 31,
     "metadata": {},
     "output_type": "execute_result"
    }
   ],
   "source": [
    "%%time\n",
    "x_scores_ll = flow.log_density(x)\n",
    "x_scores_ll.shape"
   ]
  },
  {
   "cell_type": "code",
   "execution_count": 32,
   "id": "83159707",
   "metadata": {},
   "outputs": [
    {
     "data": {
      "image/png": "[encoded data removed]",
      "text/plain": [
       "<Figure size 1470x300 with 7 Axes>"
      ]
     },
     "metadata": {},
     "output_type": "display_data"
    }
   ],
   "source": [
    "import ants\n",
    "\n",
    "x_img = ants.from_numpy(x_scores_ll.cpu().numpy()[0])\n",
    "\n",
    "ants.plot(x_img - x_img.min(), overlay=None,\n",
    "          nslices=6, overlay_cmap=\"RdBu\", cbar=True, cbar_vertical=False, overlay_alpha=0.6)\n"
   ]
  },
  {
   "cell_type": "code",
   "execution_count": null,
   "id": "f9ff6fa7",
   "metadata": {},
   "outputs": [],
   "source": []
  }
 ],
 "metadata": {
  "kernelspec": {
   "display_name": "Python 3 (ipykernel)",
   "language": "python",
   "name": "python3"
  },
  "language_info": {
   "codemirror_mode": {
    "name": "ipython",
    "version": 3
   },
   "file_extension": ".py",
   "mimetype": "text/x-python",
   "name": "python",
   "nbconvert_exporter": "python",
   "pygments_lexer": "ipython3",
   "version": "3.8.10"
  }
 },
 "nbformat": 4,
 "nbformat_minor": 5
}
