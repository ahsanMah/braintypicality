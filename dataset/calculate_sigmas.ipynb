{
 "cells": [
  {
   "cell_type": "code",
   "execution_count": 2,
   "id": "38ca884d",
   "metadata": {},
   "outputs": [
    {
     "name": "stdout",
     "output_type": "stream",
     "text": [
      "The autoreload extension is already loaded. To reload it, use:\n",
      "  %reload_ext autoreload\n"
     ]
    }
   ],
   "source": [
    "%load_ext autoreload\n",
    "%autoreload 2\n",
    "import os\n",
    "os.environ[\"CUDA_VISIBLE_DEVICES\"]=\"1\""
   ]
  },
  {
   "cell_type": "code",
   "execution_count": 3,
   "id": "6ea96dcc",
   "metadata": {},
   "outputs": [
    {
     "name": "stderr",
     "output_type": "stream",
     "text": [
      "/usr/local/lib/python3.8/dist-packages/tqdm/auto.py:22: TqdmWarning: IProgress not found. Please update jupyter and ipywidgets. See https://ipywidgets.readthedocs.io/en/stable/user_install.html\n",
      "  from .autonotebook import tqdm as notebook_tqdm\n"
     ]
    },
    {
     "name": "stdout",
     "output_type": "stream",
     "text": [
      "/workspace/braintypicality\n"
     ]
    }
   ],
   "source": [
    "import torch\n",
    "import numpy as np\n",
    "import pandas as pd\n",
    "import os, glob\n",
    "from IPython.display import display\n",
    "import matplotlib.pyplot as plt\n",
    "import sys\n",
    "module_path = os.path.abspath(os.path.join('..'))\n",
    "if module_path not in sys.path:\n",
    "    sys.path.append(module_path)\n",
    "os.chdir(module_path)\n",
    "print(module_path)"
   ]
  },
  {
   "cell_type": "code",
   "execution_count": 4,
   "id": "bef88fe2",
   "metadata": {},
   "outputs": [
    {
     "data": {
      "text/plain": [
       "as_tfds: false\n",
       "cache_rate: 1.0\n",
       "centered: false\n",
       "colab_path: /content/drive/MyDrive/ML_Datasets/ABCD/processed/\n",
       "colab_splits_path: /content/drive/MyDrive/Developer/braintypicality/dataset/\n",
       "colab_tumor_path: /content/drive/MyDrive/ML_Datasets/ABCD/tumor/\n",
       "dataset: BRAIN\n",
       "dir_path: /DATA/Users/amahmood/braintyp/processed_v2/\n",
       "gen_ood: false\n",
       "image_size: !!python/tuple\n",
       "- 96\n",
       "- 128\n",
       "- 96\n",
       "num_channels: 2\n",
       "ood_ds: DS-SA\n",
       "select_channel: -1\n",
       "spacing_pix_dim: 2.0\n",
       "splits_path: /home/braintypicality/dataset/\n",
       "tumor_dir_path: /DATA/Users/amahmood/tumor/\n",
       "uniform_dequantization: false"
      ]
     },
     "execution_count": 4,
     "metadata": {},
     "output_type": "execute_result"
    }
   ],
   "source": []
  },
  {
   "cell_type": "code",
   "execution_count": 49,
   "id": "0e0f954d",
   "metadata": {},
   "outputs": [],
   "source": [
    "import datasets\n",
    "from configs.ve import biggan_default as configs\n",
    "\n",
    "config = configs.get_config()\n",
    "\n",
    "config.training.batch_size = 128\n",
    "config.eval.batch_size = 256\n",
    "config.data.cache_rate = 0.0\n",
    "\n",
    "train_ds, eval_ds, _ = datasets.get_dataset(\n",
    "        config, uniform_dequantization=config.data.uniform_dequantization,\n",
    "        evaluation=True, ood_eval=False\n",
    ")"
   ]
  },
  {
   "cell_type": "code",
   "execution_count": 50,
   "id": "7b2b8cf2",
   "metadata": {},
   "outputs": [
    {
     "name": "stdout",
     "output_type": "stream",
     "text": [
      "CPU times: user 1.98 s, sys: 9.65 s, total: 11.6 s\n",
      "Wall time: 3min 43s\n"
     ]
    }
   ],
   "source": [
    "%%time\n",
    "dists = []\n",
    "img_intensity_stds = []\n",
    "inter_sample_stds = []\n",
    "\n",
    "\n",
    "for x_trn_batch in train_ds:\n",
    "    x1 = x_trn_batch[\"image\"].as_tensor().cuda()\n",
    "    idx = torch.randperm(x1.shape[0]).long()\n",
    "    d = x1 - x1[idx, :]\n",
    "    d = torch.linalg.norm(d.reshape(x1.shape[0], -1), dim=1)\n",
    "#     if (d==0).any():\n",
    "#         print(i, d[d==0])\n",
    "    dists.append(d.cpu().numpy())\n",
    "    \n",
    "    img_std = x1.reshape(x1.shape[0],x1.shape[1], -1).std(-1)\n",
    "    img_intensity_stds.append(img_std.mean().cpu().numpy())\n",
    "    inter_sample_stds.append(x1.std(0).mean().cpu().numpy())\n",
    "    \n",
    "dists = np.concatenate(dists)\n",
    "img_intensity_stds = np.asarray(img_intensity_stds)\n",
    "inter_sample_stds = np.asarray(inter_sample_stds)"
   ]
  },
  {
   "cell_type": "code",
   "execution_count": 51,
   "id": "73e2ec3f",
   "metadata": {},
   "outputs": [
    {
     "data": {
      "text/plain": [
       "(0.5728001, 0.06830486)"
      ]
     },
     "execution_count": 51,
     "metadata": {},
     "output_type": "execute_result"
    }
   ],
   "source": [
    "img_intensity_stds.mean(), inter_sample_stds.mean()"
   ]
  },
  {
   "cell_type": "code",
   "execution_count": 52,
   "id": "73fd04db",
   "metadata": {},
   "outputs": [
    {
     "data": {
      "image/png": "[encoded data removed]",
      "text/plain": [
       "<Figure size 640x480 with 1 Axes>"
      ]
     },
     "metadata": {},
     "output_type": "display_data"
    }
   ],
   "source": [
    "plt.hist(dists);"
   ]
  },
  {
   "cell_type": "code",
   "execution_count": 53,
   "id": "74f349e3",
   "metadata": {},
   "outputs": [
    {
     "data": {
      "text/plain": [
       "(0.0, 544.9425701904296)"
      ]
     },
     "execution_count": 53,
     "metadata": {},
     "output_type": "execute_result"
    }
   ],
   "source": [
    "np.min(dists), np.quantile(dists, 0.99)"
   ]
  },
  {
   "cell_type": "code",
   "execution_count": 54,
   "id": "08751301",
   "metadata": {},
   "outputs": [],
   "source": [
    "x1=x1.cpu()"
   ]
  },
  {
   "cell_type": "code",
   "execution_count": 56,
   "id": "05373a34",
   "metadata": {},
   "outputs": [],
   "source": [
    "from configs.ve import biggan_highres as configs\n",
    "from tqdm.auto import tqdm\n",
    "\n",
    "hr_config = configs.get_config()\n",
    "\n",
    "hr_config.eval.batch_size = 64\n",
    "hr_config.data.cache_rate = 0.0\n",
    "\n",
    "train_ds, eval_ds, _ = datasets.get_dataset(\n",
    "        hr_config, uniform_dequantization=config.data.uniform_dequantization,\n",
    "        evaluation=True, ood_eval=False\n",
    ")"
   ]
  },
  {
   "cell_type": "code",
   "execution_count": null,
   "id": "2481e92b",
   "metadata": {},
   "outputs": [
    {
     "name": "stderr",
     "output_type": "stream",
     "text": [
      " 38%|███▊      | 8/21 [02:47<01:41,  7.82s/it] "
     ]
    }
   ],
   "source": [
    "%%time\n",
    "\n",
    "hr_dists = []\n",
    "hr_inter_sample_stds = []\n",
    "\n",
    "for x_trn_batch in tqdm(train_ds):\n",
    "    x1 = x_trn_batch[\"image\"].as_tensor().cuda()\n",
    "    idx = torch.randperm(x1.shape[0]).long()\n",
    "    d = x1 - x1[idx, :]\n",
    "    d = torch.linalg.norm(d.reshape(x1.shape[0], -1), dim=1)\n",
    "    \n",
    "    hr_dists.append(d.cpu().numpy())\n",
    "    hr_inter_sample_stds.append(x1.std(0).mean().cpu().numpy())\n",
    "    \n",
    "hr_dists = np.concatenate(hr_dists)\n",
    "hr_inter_sample_stds = np.asarray(hr_inter_sample_stds)"
   ]
  },
  {
   "cell_type": "code",
   "execution_count": 61,
   "id": "97572d3f",
   "metadata": {},
   "outputs": [
    {
     "data": {
      "image/png": "[encoded data removed]",
      "text/plain": [
       "<Figure size 640x480 with 1 Axes>"
      ]
     },
     "metadata": {},
     "output_type": "display_data"
    }
   ],
   "source": [
    "plt.hist(hr_dists);"
   ]
  },
  {
   "cell_type": "code",
   "execution_count": 62,
   "id": "3aced536",
   "metadata": {},
   "outputs": [
    {
     "data": {
      "text/plain": [
       "1507.9526379394524"
      ]
     },
     "execution_count": 62,
     "metadata": {},
     "output_type": "execute_result"
    }
   ],
   "source": [
    "np.quantile(hr_dists, 0.99)"
   ]
  },
  {
   "cell_type": "code",
   "execution_count": 63,
   "id": "db5a01d0",
   "metadata": {},
   "outputs": [
    {
     "data": {
      "text/plain": [
       "0.09218991"
      ]
     },
     "execution_count": 63,
     "metadata": {},
     "output_type": "execute_result"
    }
   ],
   "source": [
    "hr_inter_sample_stds.mean()"
   ]
  },
  {
   "cell_type": "code",
   "execution_count": null,
   "id": "9f87ff61",
   "metadata": {},
   "outputs": [],
   "source": []
  }
 ],
 "metadata": {
  "kernelspec": {
   "display_name": "Python 3 (ipykernel)",
   "language": "python",
   "name": "python3"
  },
  "language_info": {
   "codemirror_mode": {
    "name": "ipython",
    "version": 3
   },
   "file_extension": ".py",
   "mimetype": "text/x-python",
   "name": "python",
   "nbconvert_exporter": "python",
   "pygments_lexer": "ipython3",
   "version": "3.8.10"
  }
 },
 "nbformat": 4,
 "nbformat_minor": 5
}
