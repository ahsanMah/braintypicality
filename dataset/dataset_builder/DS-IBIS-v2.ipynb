{
 "cells": [
  {
   "cell_type": "code",
   "execution_count": 1,
   "id": "7d4e9ed0",
   "metadata": {},
   "outputs": [],
   "source": [
    "import re\n",
    "import pandas as pd\n",
    "import numpy as np\n",
    "import seaborn as sns\n",
    "import matplotlib.pyplot as plt\n",
    "\n",
    "np.random.seed(seed=42) "
   ]
  },
  {
   "cell_type": "code",
   "execution_count": 2,
   "id": "4eccdd0d",
   "metadata": {},
   "outputs": [
    {
     "data": {
      "text/html": [
       "<div>\n",
       "<style scoped>\n",
       "    .dataframe tbody tr th:only-of-type {\n",
       "        vertical-align: middle;\n",
       "    }\n",
       "\n",
       "    .dataframe tbody tr th {\n",
       "        vertical-align: top;\n",
       "    }\n",
       "\n",
       "    .dataframe thead th {\n",
       "        text-align: right;\n",
       "    }\n",
       "</style>\n",
       "<table border=\"1\" class=\"dataframe\">\n",
       "  <thead>\n",
       "    <tr style=\"text-align: right;\">\n",
       "      <th></th>\n",
       "      <th>Identifiers</th>\n",
       "      <th>Group1LR2HR3HR4DS</th>\n",
       "      <th>CVD_Visit</th>\n",
       "      <th>RRBCSS_Mod1</th>\n",
       "      <th>RRBCSS_Mod2</th>\n",
       "      <th>RRBCSS_Mod3</th>\n",
       "      <th>RRBCSS_Combo</th>\n",
       "      <th>SACSS_Mod2</th>\n",
       "      <th>SACSS_Mod2_A</th>\n",
       "      <th>SACSS_Mod3</th>\n",
       "      <th>...</th>\n",
       "      <th>RRBTotalMod1</th>\n",
       "      <th>SARRBTotalMod1</th>\n",
       "      <th>SATotalMod1</th>\n",
       "      <th>RRBTotalMod2</th>\n",
       "      <th>SARRBTotalMod2</th>\n",
       "      <th>SATotalMod2</th>\n",
       "      <th>RRBTotalMod3</th>\n",
       "      <th>SARRBTotalMod3</th>\n",
       "      <th>SATotalMod3</th>\n",
       "      <th>MetASDCutOff</th>\n",
       "    </tr>\n",
       "  </thead>\n",
       "  <tbody>\n",
       "    <tr>\n",
       "      <th>0</th>\n",
       "      <td>PHI0081</td>\n",
       "      <td>1</td>\n",
       "      <td>0</td>\n",
       "      <td>#NULL!</td>\n",
       "      <td>#NULL!</td>\n",
       "      <td>5</td>\n",
       "      <td>5</td>\n",
       "      <td>#NULL!</td>\n",
       "      <td>#NULL!</td>\n",
       "      <td>1</td>\n",
       "      <td>...</td>\n",
       "      <td>#NULL!</td>\n",
       "      <td>#NULL!</td>\n",
       "      <td>#NULL!</td>\n",
       "      <td>#NULL!</td>\n",
       "      <td>#NULL!</td>\n",
       "      <td>#NULL!</td>\n",
       "      <td>1</td>\n",
       "      <td>2</td>\n",
       "      <td>1</td>\n",
       "      <td>0.0</td>\n",
       "    </tr>\n",
       "    <tr>\n",
       "      <th>1</th>\n",
       "      <td>PHI0092</td>\n",
       "      <td>1</td>\n",
       "      <td>0</td>\n",
       "      <td>#NULL!</td>\n",
       "      <td>#NULL!</td>\n",
       "      <td>1</td>\n",
       "      <td>1</td>\n",
       "      <td>#NULL!</td>\n",
       "      <td>#NULL!</td>\n",
       "      <td>1</td>\n",
       "      <td>...</td>\n",
       "      <td>#NULL!</td>\n",
       "      <td>#NULL!</td>\n",
       "      <td>#NULL!</td>\n",
       "      <td>#NULL!</td>\n",
       "      <td>#NULL!</td>\n",
       "      <td>#NULL!</td>\n",
       "      <td>0</td>\n",
       "      <td>0</td>\n",
       "      <td>0</td>\n",
       "      <td>0.0</td>\n",
       "    </tr>\n",
       "    <tr>\n",
       "      <th>2</th>\n",
       "      <td>PHI0093</td>\n",
       "      <td>1</td>\n",
       "      <td>0</td>\n",
       "      <td>#NULL!</td>\n",
       "      <td>#NULL!</td>\n",
       "      <td>1</td>\n",
       "      <td>1</td>\n",
       "      <td>#NULL!</td>\n",
       "      <td>#NULL!</td>\n",
       "      <td>2</td>\n",
       "      <td>...</td>\n",
       "      <td>#NULL!</td>\n",
       "      <td>#NULL!</td>\n",
       "      <td>#NULL!</td>\n",
       "      <td>#NULL!</td>\n",
       "      <td>#NULL!</td>\n",
       "      <td>#NULL!</td>\n",
       "      <td>0</td>\n",
       "      <td>2</td>\n",
       "      <td>2</td>\n",
       "      <td>0.0</td>\n",
       "    </tr>\n",
       "    <tr>\n",
       "      <th>3</th>\n",
       "      <td>PHI0106</td>\n",
       "      <td>1</td>\n",
       "      <td>0</td>\n",
       "      <td>#NULL!</td>\n",
       "      <td>#NULL!</td>\n",
       "      <td>1</td>\n",
       "      <td>1</td>\n",
       "      <td>#NULL!</td>\n",
       "      <td>#NULL!</td>\n",
       "      <td>1</td>\n",
       "      <td>...</td>\n",
       "      <td>#NULL!</td>\n",
       "      <td>#NULL!</td>\n",
       "      <td>#NULL!</td>\n",
       "      <td>#NULL!</td>\n",
       "      <td>#NULL!</td>\n",
       "      <td>#NULL!</td>\n",
       "      <td>0</td>\n",
       "      <td>1</td>\n",
       "      <td>1</td>\n",
       "      <td>0.0</td>\n",
       "    </tr>\n",
       "    <tr>\n",
       "      <th>4</th>\n",
       "      <td>PHI0117</td>\n",
       "      <td>1</td>\n",
       "      <td>0</td>\n",
       "      <td>#NULL!</td>\n",
       "      <td>#NULL!</td>\n",
       "      <td>1</td>\n",
       "      <td>1</td>\n",
       "      <td>#NULL!</td>\n",
       "      <td>#NULL!</td>\n",
       "      <td>2</td>\n",
       "      <td>...</td>\n",
       "      <td>#NULL!</td>\n",
       "      <td>#NULL!</td>\n",
       "      <td>#NULL!</td>\n",
       "      <td>#NULL!</td>\n",
       "      <td>#NULL!</td>\n",
       "      <td>#NULL!</td>\n",
       "      <td>0</td>\n",
       "      <td>2</td>\n",
       "      <td>2</td>\n",
       "      <td>0.0</td>\n",
       "    </tr>\n",
       "    <tr>\n",
       "      <th>...</th>\n",
       "      <td>...</td>\n",
       "      <td>...</td>\n",
       "      <td>...</td>\n",
       "      <td>...</td>\n",
       "      <td>...</td>\n",
       "      <td>...</td>\n",
       "      <td>...</td>\n",
       "      <td>...</td>\n",
       "      <td>...</td>\n",
       "      <td>...</td>\n",
       "      <td>...</td>\n",
       "      <td>...</td>\n",
       "      <td>...</td>\n",
       "      <td>...</td>\n",
       "      <td>...</td>\n",
       "      <td>...</td>\n",
       "      <td>...</td>\n",
       "      <td>...</td>\n",
       "      <td>...</td>\n",
       "      <td>...</td>\n",
       "      <td>...</td>\n",
       "    </tr>\n",
       "    <tr>\n",
       "      <th>139</th>\n",
       "      <td>UNC4004</td>\n",
       "      <td>4</td>\n",
       "      <td>0</td>\n",
       "      <td>#NULL!</td>\n",
       "      <td>#NULL!</td>\n",
       "      <td>1</td>\n",
       "      <td>1</td>\n",
       "      <td>#NULL!</td>\n",
       "      <td>#NULL!</td>\n",
       "      <td>5</td>\n",
       "      <td>...</td>\n",
       "      <td>#NULL!</td>\n",
       "      <td>#NULL!</td>\n",
       "      <td>#NULL!</td>\n",
       "      <td>#NULL!</td>\n",
       "      <td>#NULL!</td>\n",
       "      <td>#NULL!</td>\n",
       "      <td>0</td>\n",
       "      <td>6</td>\n",
       "      <td>6</td>\n",
       "      <td>0.0</td>\n",
       "    </tr>\n",
       "    <tr>\n",
       "      <th>140</th>\n",
       "      <td>UNC4005</td>\n",
       "      <td>4</td>\n",
       "      <td>0</td>\n",
       "      <td>#NULL!</td>\n",
       "      <td>#NULL!</td>\n",
       "      <td>1</td>\n",
       "      <td>1</td>\n",
       "      <td>#NULL!</td>\n",
       "      <td>#NULL!</td>\n",
       "      <td>1</td>\n",
       "      <td>...</td>\n",
       "      <td>#NULL!</td>\n",
       "      <td>#NULL!</td>\n",
       "      <td>#NULL!</td>\n",
       "      <td>#NULL!</td>\n",
       "      <td>#NULL!</td>\n",
       "      <td>#NULL!</td>\n",
       "      <td>0</td>\n",
       "      <td>0</td>\n",
       "      <td>0</td>\n",
       "      <td>0.0</td>\n",
       "    </tr>\n",
       "    <tr>\n",
       "      <th>141</th>\n",
       "      <td>UNC4008</td>\n",
       "      <td>4</td>\n",
       "      <td>0</td>\n",
       "      <td>#NULL!</td>\n",
       "      <td>#NULL!</td>\n",
       "      <td>1</td>\n",
       "      <td>1</td>\n",
       "      <td>#NULL!</td>\n",
       "      <td>#NULL!</td>\n",
       "      <td>1</td>\n",
       "      <td>...</td>\n",
       "      <td>#NULL!</td>\n",
       "      <td>#NULL!</td>\n",
       "      <td>#NULL!</td>\n",
       "      <td>#NULL!</td>\n",
       "      <td>#NULL!</td>\n",
       "      <td>#NULL!</td>\n",
       "      <td>0</td>\n",
       "      <td>0</td>\n",
       "      <td>0</td>\n",
       "      <td>0.0</td>\n",
       "    </tr>\n",
       "    <tr>\n",
       "      <th>142</th>\n",
       "      <td>UNC4009</td>\n",
       "      <td>4</td>\n",
       "      <td>0</td>\n",
       "      <td>#NULL!</td>\n",
       "      <td>#NULL!</td>\n",
       "      <td>1</td>\n",
       "      <td>1</td>\n",
       "      <td>#NULL!</td>\n",
       "      <td>#NULL!</td>\n",
       "      <td>1</td>\n",
       "      <td>...</td>\n",
       "      <td>#NULL!</td>\n",
       "      <td>#NULL!</td>\n",
       "      <td>#NULL!</td>\n",
       "      <td>#NULL!</td>\n",
       "      <td>#NULL!</td>\n",
       "      <td>#NULL!</td>\n",
       "      <td>0</td>\n",
       "      <td>0</td>\n",
       "      <td>0</td>\n",
       "      <td>0.0</td>\n",
       "    </tr>\n",
       "    <tr>\n",
       "      <th>143</th>\n",
       "      <td>UNC4010</td>\n",
       "      <td>4</td>\n",
       "      <td>0</td>\n",
       "      <td>1</td>\n",
       "      <td>#NULL!</td>\n",
       "      <td>#NULL!</td>\n",
       "      <td>1</td>\n",
       "      <td>3</td>\n",
       "      <td>#NULL!</td>\n",
       "      <td>#NULL!</td>\n",
       "      <td>...</td>\n",
       "      <td>0</td>\n",
       "      <td>7</td>\n",
       "      <td>7</td>\n",
       "      <td>#NULL!</td>\n",
       "      <td>#NULL!</td>\n",
       "      <td>#NULL!</td>\n",
       "      <td>#NULL!</td>\n",
       "      <td>#NULL!</td>\n",
       "      <td>#NULL!</td>\n",
       "      <td>0.0</td>\n",
       "    </tr>\n",
       "  </tbody>\n",
       "</table>\n",
       "<p>144 rows × 25 columns</p>\n",
       "</div>"
      ],
      "text/plain": [
       "    Identifiers  Group1LR2HR3HR4DS  CVD_Visit RRBCSS_Mod1 RRBCSS_Mod2  \\\n",
       "0       PHI0081                  1          0      #NULL!      #NULL!   \n",
       "1       PHI0092                  1          0      #NULL!      #NULL!   \n",
       "2       PHI0093                  1          0      #NULL!      #NULL!   \n",
       "3       PHI0106                  1          0      #NULL!      #NULL!   \n",
       "4       PHI0117                  1          0      #NULL!      #NULL!   \n",
       "..          ...                ...        ...         ...         ...   \n",
       "139     UNC4004                  4          0      #NULL!      #NULL!   \n",
       "140     UNC4005                  4          0      #NULL!      #NULL!   \n",
       "141     UNC4008                  4          0      #NULL!      #NULL!   \n",
       "142     UNC4009                  4          0      #NULL!      #NULL!   \n",
       "143     UNC4010                  4          0           1      #NULL!   \n",
       "\n",
       "    RRBCSS_Mod3 RRBCSS_Combo SACSS_Mod2 SACSS_Mod2_A SACSS_Mod3  ...  \\\n",
       "0             5            5     #NULL!       #NULL!          1  ...   \n",
       "1             1            1     #NULL!       #NULL!          1  ...   \n",
       "2             1            1     #NULL!       #NULL!          2  ...   \n",
       "3             1            1     #NULL!       #NULL!          1  ...   \n",
       "4             1            1     #NULL!       #NULL!          2  ...   \n",
       "..          ...          ...        ...          ...        ...  ...   \n",
       "139           1            1     #NULL!       #NULL!          5  ...   \n",
       "140           1            1     #NULL!       #NULL!          1  ...   \n",
       "141           1            1     #NULL!       #NULL!          1  ...   \n",
       "142           1            1     #NULL!       #NULL!          1  ...   \n",
       "143      #NULL!            1          3       #NULL!     #NULL!  ...   \n",
       "\n",
       "    RRBTotalMod1 SARRBTotalMod1 SATotalMod1 RRBTotalMod2 SARRBTotalMod2  \\\n",
       "0         #NULL!         #NULL!      #NULL!       #NULL!         #NULL!   \n",
       "1         #NULL!         #NULL!      #NULL!       #NULL!         #NULL!   \n",
       "2         #NULL!         #NULL!      #NULL!       #NULL!         #NULL!   \n",
       "3         #NULL!         #NULL!      #NULL!       #NULL!         #NULL!   \n",
       "4         #NULL!         #NULL!      #NULL!       #NULL!         #NULL!   \n",
       "..           ...            ...         ...          ...            ...   \n",
       "139       #NULL!         #NULL!      #NULL!       #NULL!         #NULL!   \n",
       "140       #NULL!         #NULL!      #NULL!       #NULL!         #NULL!   \n",
       "141       #NULL!         #NULL!      #NULL!       #NULL!         #NULL!   \n",
       "142       #NULL!         #NULL!      #NULL!       #NULL!         #NULL!   \n",
       "143            0              7           7       #NULL!         #NULL!   \n",
       "\n",
       "    SATotalMod2 RRBTotalMod3 SARRBTotalMod3 SATotalMod3 MetASDCutOff  \n",
       "0        #NULL!            1              2           1          0.0  \n",
       "1        #NULL!            0              0           0          0.0  \n",
       "2        #NULL!            0              2           2          0.0  \n",
       "3        #NULL!            0              1           1          0.0  \n",
       "4        #NULL!            0              2           2          0.0  \n",
       "..          ...          ...            ...         ...          ...  \n",
       "139      #NULL!            0              6           6          0.0  \n",
       "140      #NULL!            0              0           0          0.0  \n",
       "141      #NULL!            0              0           0          0.0  \n",
       "142      #NULL!            0              0           0          0.0  \n",
       "143      #NULL!       #NULL!         #NULL!      #NULL!          0.0  \n",
       "\n",
       "[144 rows x 25 columns]"
      ]
     },
     "execution_count": 2,
     "metadata": {},
     "output_type": "execute_result"
    }
   ],
   "source": [
    "raw_info = pd.read_csv(f\"/ASD/ahsan_projects/braintypicality/dataset/csv-ADOSMartin.csv\")\n",
    "raw_info[\"Identifiers\"] = raw_info[\"Identifiers\"].apply(lambda x: x.split(\",\")[0])\n",
    "raw_info['MetASDCutOff'].replace('#NULL!', np.nan, inplace=True)\n",
    "raw_info['MetASDCutOff'] = raw_info['MetASDCutOff'].astype(float)\n",
    "raw_info"
   ]
  },
  {
   "cell_type": "code",
   "execution_count": 3,
   "id": "c59dc459",
   "metadata": {},
   "outputs": [
    {
     "data": {
      "text/plain": [
       "44.0"
      ]
     },
     "execution_count": 3,
     "metadata": {},
     "output_type": "execute_result"
    }
   ],
   "source": [
    "raw_info['MetASDCutOff'].sum()"
   ]
  },
  {
   "cell_type": "code",
   "execution_count": 4,
   "id": "4fb422ef",
   "metadata": {},
   "outputs": [
    {
     "data": {
      "text/plain": [
       "0"
      ]
     },
     "execution_count": 4,
     "metadata": {},
     "output_type": "execute_result"
    }
   ],
   "source": [
    "raw_info[\"Identifiers\"].duplicated().sum()"
   ]
  },
  {
   "cell_type": "code",
   "execution_count": 5,
   "id": "45cfc650",
   "metadata": {},
   "outputs": [
    {
     "data": {
      "text/html": [
       "<div>\n",
       "<style scoped>\n",
       "    .dataframe tbody tr th:only-of-type {\n",
       "        vertical-align: middle;\n",
       "    }\n",
       "\n",
       "    .dataframe tbody tr th {\n",
       "        vertical-align: top;\n",
       "    }\n",
       "\n",
       "    .dataframe thead th {\n",
       "        text-align: right;\n",
       "    }\n",
       "</style>\n",
       "<table border=\"1\" class=\"dataframe\">\n",
       "  <thead>\n",
       "    <tr style=\"text-align: right;\">\n",
       "      <th></th>\n",
       "      <th>CandID</th>\n",
       "      <th>Identifiers</th>\n",
       "      <th>VSA demographics,ASD_Ever_DSMIV</th>\n",
       "      <th>VSA demographics,ASD_Ever_DSMV</th>\n",
       "      <th>VSA demographics,Age_at_visit_start</th>\n",
       "      <th>VSA demographics,Risk</th>\n",
       "      <th>VSA demographics,Sex</th>\n",
       "      <th>VSA demographics,candidate_race</th>\n",
       "    </tr>\n",
       "  </thead>\n",
       "  <tbody>\n",
       "    <tr>\n",
       "      <th>0</th>\n",
       "      <td>103831</td>\n",
       "      <td>UNC0234</td>\n",
       "      <td>No DSMIV ever administered</td>\n",
       "      <td>No DSMV ever administered</td>\n",
       "      <td>131.0</td>\n",
       "      <td>NaN</td>\n",
       "      <td>Male</td>\n",
       "      <td>white</td>\n",
       "    </tr>\n",
       "    <tr>\n",
       "      <th>1</th>\n",
       "      <td>105477</td>\n",
       "      <td>SEA4003</td>\n",
       "      <td>ASD-</td>\n",
       "      <td>ASD-</td>\n",
       "      <td>136.0</td>\n",
       "      <td>NaN</td>\n",
       "      <td>Female</td>\n",
       "      <td>white</td>\n",
       "    </tr>\n",
       "    <tr>\n",
       "      <th>2</th>\n",
       "      <td>105784</td>\n",
       "      <td>UNC0239</td>\n",
       "      <td>ASD+ (V24, V36)</td>\n",
       "      <td>No DSMV ever administered</td>\n",
       "      <td>134.0</td>\n",
       "      <td>NaN</td>\n",
       "      <td>Male</td>\n",
       "      <td>NaN</td>\n",
       "    </tr>\n",
       "    <tr>\n",
       "      <th>3</th>\n",
       "      <td>107524</td>\n",
       "      <td>STL0200</td>\n",
       "      <td>ASD+ (V24, V36, VSA-CVD)</td>\n",
       "      <td>ASD+ (V36, VSA-CVD)</td>\n",
       "      <td>135.0</td>\n",
       "      <td>HR</td>\n",
       "      <td>Male</td>\n",
       "      <td>0</td>\n",
       "    </tr>\n",
       "    <tr>\n",
       "      <th>4</th>\n",
       "      <td>108131</td>\n",
       "      <td>SEA1006</td>\n",
       "      <td>ASD+ (V24)</td>\n",
       "      <td>ASD+ (V24)</td>\n",
       "      <td>84.0</td>\n",
       "      <td>HR</td>\n",
       "      <td>Male</td>\n",
       "      <td>white</td>\n",
       "    </tr>\n",
       "    <tr>\n",
       "      <th>...</th>\n",
       "      <td>...</td>\n",
       "      <td>...</td>\n",
       "      <td>...</td>\n",
       "      <td>...</td>\n",
       "      <td>...</td>\n",
       "      <td>...</td>\n",
       "      <td>...</td>\n",
       "      <td>...</td>\n",
       "    </tr>\n",
       "    <tr>\n",
       "      <th>418</th>\n",
       "      <td>988903</td>\n",
       "      <td>SEA0163</td>\n",
       "      <td>ASD+ (V24, V36, VSA)</td>\n",
       "      <td>ASD+ (V36, VSA)</td>\n",
       "      <td>103.0</td>\n",
       "      <td>HR</td>\n",
       "      <td>Male</td>\n",
       "      <td>NaN</td>\n",
       "    </tr>\n",
       "    <tr>\n",
       "      <th>419</th>\n",
       "      <td>989241</td>\n",
       "      <td>PHI4005</td>\n",
       "      <td>ASD-</td>\n",
       "      <td>ASD-</td>\n",
       "      <td>87.0</td>\n",
       "      <td>NaN</td>\n",
       "      <td>Male</td>\n",
       "      <td>white</td>\n",
       "    </tr>\n",
       "    <tr>\n",
       "      <th>420</th>\n",
       "      <td>992063</td>\n",
       "      <td>STL0003</td>\n",
       "      <td>ASD-</td>\n",
       "      <td>ASD-</td>\n",
       "      <td>137.0</td>\n",
       "      <td>HR</td>\n",
       "      <td>Female</td>\n",
       "      <td>NaN</td>\n",
       "    </tr>\n",
       "    <tr>\n",
       "      <th>421</th>\n",
       "      <td>995004</td>\n",
       "      <td>STL0249</td>\n",
       "      <td>ASD-</td>\n",
       "      <td>ASD-</td>\n",
       "      <td>128.0</td>\n",
       "      <td>HR</td>\n",
       "      <td>Female</td>\n",
       "      <td>0</td>\n",
       "    </tr>\n",
       "    <tr>\n",
       "      <th>422</th>\n",
       "      <td>999434</td>\n",
       "      <td>UNC1032</td>\n",
       "      <td>ASD-</td>\n",
       "      <td>ASD-</td>\n",
       "      <td>91.0</td>\n",
       "      <td>HR</td>\n",
       "      <td>Female</td>\n",
       "      <td>unknown_not_reported</td>\n",
       "    </tr>\n",
       "  </tbody>\n",
       "</table>\n",
       "<p>423 rows × 8 columns</p>\n",
       "</div>"
      ],
      "text/plain": [
       "     CandID Identifiers VSA demographics,ASD_Ever_DSMIV  \\\n",
       "0    103831     UNC0234      No DSMIV ever administered   \n",
       "1    105477     SEA4003                            ASD-   \n",
       "2    105784     UNC0239                 ASD+ (V24, V36)   \n",
       "3    107524     STL0200        ASD+ (V24, V36, VSA-CVD)   \n",
       "4    108131     SEA1006                      ASD+ (V24)   \n",
       "..      ...         ...                             ...   \n",
       "418  988903     SEA0163            ASD+ (V24, V36, VSA)   \n",
       "419  989241     PHI4005                            ASD-   \n",
       "420  992063     STL0003                            ASD-   \n",
       "421  995004     STL0249                            ASD-   \n",
       "422  999434     UNC1032                            ASD-   \n",
       "\n",
       "    VSA demographics,ASD_Ever_DSMV  VSA demographics,Age_at_visit_start  \\\n",
       "0        No DSMV ever administered                                131.0   \n",
       "1                             ASD-                                136.0   \n",
       "2        No DSMV ever administered                                134.0   \n",
       "3              ASD+ (V36, VSA-CVD)                                135.0   \n",
       "4                       ASD+ (V24)                                 84.0   \n",
       "..                             ...                                  ...   \n",
       "418                ASD+ (V36, VSA)                                103.0   \n",
       "419                           ASD-                                 87.0   \n",
       "420                           ASD-                                137.0   \n",
       "421                           ASD-                                128.0   \n",
       "422                           ASD-                                 91.0   \n",
       "\n",
       "    VSA demographics,Risk VSA demographics,Sex VSA demographics,candidate_race  \n",
       "0                     NaN                 Male                           white  \n",
       "1                     NaN               Female                           white  \n",
       "2                     NaN                 Male                             NaN  \n",
       "3                      HR                 Male                               0  \n",
       "4                      HR                 Male                           white  \n",
       "..                    ...                  ...                             ...  \n",
       "418                    HR                 Male                             NaN  \n",
       "419                   NaN                 Male                           white  \n",
       "420                    HR               Female                             NaN  \n",
       "421                    HR               Female                               0  \n",
       "422                    HR               Female            unknown_not_reported  \n",
       "\n",
       "[423 rows x 8 columns]"
      ]
     },
     "execution_count": 5,
     "metadata": {},
     "output_type": "execute_result"
    }
   ],
   "source": [
    "vsa_info = pd.read_csv(f\"/ASD/ahsan_projects/braintypicality/dataset/VSADemographicsMar2023.csv\")\n",
    "vsa_info.rename(columns={\"VSA demographics,CandID\":\"CandID\"}, inplace=True)\n",
    "vsa_info"
   ]
  },
  {
   "cell_type": "code",
   "execution_count": 6,
   "id": "bfc931b9",
   "metadata": {},
   "outputs": [
    {
     "data": {
      "text/html": [
       "<div>\n",
       "<style scoped>\n",
       "    .dataframe tbody tr th:only-of-type {\n",
       "        vertical-align: middle;\n",
       "    }\n",
       "\n",
       "    .dataframe tbody tr th {\n",
       "        vertical-align: top;\n",
       "    }\n",
       "\n",
       "    .dataframe thead th {\n",
       "        text-align: right;\n",
       "    }\n",
       "</style>\n",
       "<table border=\"1\" class=\"dataframe\">\n",
       "  <thead>\n",
       "    <tr style=\"text-align: right;\">\n",
       "      <th></th>\n",
       "      <th>Identifiers</th>\n",
       "      <th>Group1LR2HR3HR4DS</th>\n",
       "      <th>CVD_Visit</th>\n",
       "      <th>RRBCSS_Mod1</th>\n",
       "      <th>RRBCSS_Mod2</th>\n",
       "      <th>RRBCSS_Mod3</th>\n",
       "      <th>RRBCSS_Combo</th>\n",
       "      <th>SACSS_Mod2</th>\n",
       "      <th>SACSS_Mod2_A</th>\n",
       "      <th>SACSS_Mod3</th>\n",
       "      <th>...</th>\n",
       "      <th>SARRBTotalMod3</th>\n",
       "      <th>SATotalMod3</th>\n",
       "      <th>MetASDCutOff</th>\n",
       "      <th>CandID</th>\n",
       "      <th>VSA demographics,ASD_Ever_DSMIV</th>\n",
       "      <th>VSA demographics,ASD_Ever_DSMV</th>\n",
       "      <th>VSA demographics,Age_at_visit_start</th>\n",
       "      <th>VSA demographics,Risk</th>\n",
       "      <th>VSA demographics,Sex</th>\n",
       "      <th>VSA demographics,candidate_race</th>\n",
       "    </tr>\n",
       "  </thead>\n",
       "  <tbody>\n",
       "    <tr>\n",
       "      <th>0</th>\n",
       "      <td>PHI0081</td>\n",
       "      <td>1</td>\n",
       "      <td>0</td>\n",
       "      <td>#NULL!</td>\n",
       "      <td>#NULL!</td>\n",
       "      <td>5</td>\n",
       "      <td>5</td>\n",
       "      <td>#NULL!</td>\n",
       "      <td>#NULL!</td>\n",
       "      <td>1</td>\n",
       "      <td>...</td>\n",
       "      <td>2</td>\n",
       "      <td>1</td>\n",
       "      <td>0.0</td>\n",
       "      <td>974644</td>\n",
       "      <td>ASD-</td>\n",
       "      <td>ASD-</td>\n",
       "      <td>130.0</td>\n",
       "      <td>LR</td>\n",
       "      <td>Male</td>\n",
       "      <td>NaN</td>\n",
       "    </tr>\n",
       "    <tr>\n",
       "      <th>1</th>\n",
       "      <td>PHI0092</td>\n",
       "      <td>1</td>\n",
       "      <td>0</td>\n",
       "      <td>#NULL!</td>\n",
       "      <td>#NULL!</td>\n",
       "      <td>1</td>\n",
       "      <td>1</td>\n",
       "      <td>#NULL!</td>\n",
       "      <td>#NULL!</td>\n",
       "      <td>1</td>\n",
       "      <td>...</td>\n",
       "      <td>0</td>\n",
       "      <td>0</td>\n",
       "      <td>0.0</td>\n",
       "      <td>762793</td>\n",
       "      <td>ASD-</td>\n",
       "      <td>ASD-</td>\n",
       "      <td>132.0</td>\n",
       "      <td>LR</td>\n",
       "      <td>Female</td>\n",
       "      <td>NaN</td>\n",
       "    </tr>\n",
       "    <tr>\n",
       "      <th>2</th>\n",
       "      <td>PHI0093</td>\n",
       "      <td>1</td>\n",
       "      <td>0</td>\n",
       "      <td>#NULL!</td>\n",
       "      <td>#NULL!</td>\n",
       "      <td>1</td>\n",
       "      <td>1</td>\n",
       "      <td>#NULL!</td>\n",
       "      <td>#NULL!</td>\n",
       "      <td>2</td>\n",
       "      <td>...</td>\n",
       "      <td>2</td>\n",
       "      <td>2</td>\n",
       "      <td>0.0</td>\n",
       "      <td>350868</td>\n",
       "      <td>ASD-</td>\n",
       "      <td>ASD-</td>\n",
       "      <td>131.0</td>\n",
       "      <td>LR</td>\n",
       "      <td>Male</td>\n",
       "      <td>NaN</td>\n",
       "    </tr>\n",
       "  </tbody>\n",
       "</table>\n",
       "<p>3 rows × 32 columns</p>\n",
       "</div>"
      ],
      "text/plain": [
       "  Identifiers  Group1LR2HR3HR4DS  CVD_Visit RRBCSS_Mod1 RRBCSS_Mod2  \\\n",
       "0     PHI0081                  1          0      #NULL!      #NULL!   \n",
       "1     PHI0092                  1          0      #NULL!      #NULL!   \n",
       "2     PHI0093                  1          0      #NULL!      #NULL!   \n",
       "\n",
       "  RRBCSS_Mod3 RRBCSS_Combo SACSS_Mod2 SACSS_Mod2_A SACSS_Mod3  ...  \\\n",
       "0           5            5     #NULL!       #NULL!          1  ...   \n",
       "1           1            1     #NULL!       #NULL!          1  ...   \n",
       "2           1            1     #NULL!       #NULL!          2  ...   \n",
       "\n",
       "  SARRBTotalMod3 SATotalMod3 MetASDCutOff  CandID  \\\n",
       "0              2           1          0.0  974644   \n",
       "1              0           0          0.0  762793   \n",
       "2              2           2          0.0  350868   \n",
       "\n",
       "  VSA demographics,ASD_Ever_DSMIV VSA demographics,ASD_Ever_DSMV  \\\n",
       "0                            ASD-                           ASD-   \n",
       "1                            ASD-                           ASD-   \n",
       "2                            ASD-                           ASD-   \n",
       "\n",
       "  VSA demographics,Age_at_visit_start VSA demographics,Risk  \\\n",
       "0                               130.0                    LR   \n",
       "1                               132.0                    LR   \n",
       "2                               131.0                    LR   \n",
       "\n",
       "  VSA demographics,Sex VSA demographics,candidate_race  \n",
       "0                 Male                             NaN  \n",
       "1               Female                             NaN  \n",
       "2                 Male                             NaN  \n",
       "\n",
       "[3 rows x 32 columns]"
      ]
     },
     "execution_count": 6,
     "metadata": {},
     "output_type": "execute_result"
    }
   ],
   "source": [
    "ados_info = raw_info.merge(vsa_info)\n",
    "ados_info.head(3)"
   ]
  },
  {
   "cell_type": "code",
   "execution_count": 7,
   "id": "d809ccda",
   "metadata": {},
   "outputs": [
    {
     "data": {
      "text/html": [
       "<div>\n",
       "<style scoped>\n",
       "    .dataframe tbody tr th:only-of-type {\n",
       "        vertical-align: middle;\n",
       "    }\n",
       "\n",
       "    .dataframe tbody tr th {\n",
       "        vertical-align: top;\n",
       "    }\n",
       "\n",
       "    .dataframe thead th {\n",
       "        text-align: right;\n",
       "    }\n",
       "</style>\n",
       "<table border=\"1\" class=\"dataframe\">\n",
       "  <thead>\n",
       "    <tr style=\"text-align: right;\">\n",
       "      <th></th>\n",
       "      <th>Identifiers</th>\n",
       "      <th>Group1LR2HR3HR4DS</th>\n",
       "      <th>CVD_Visit</th>\n",
       "      <th>RRBCSS_Mod1</th>\n",
       "      <th>RRBCSS_Mod2</th>\n",
       "      <th>RRBCSS_Mod3</th>\n",
       "      <th>RRBCSS_Combo</th>\n",
       "      <th>SACSS_Mod2</th>\n",
       "      <th>SACSS_Mod2_A</th>\n",
       "      <th>SACSS_Mod3</th>\n",
       "      <th>...</th>\n",
       "      <th>SARRBTotalMod3</th>\n",
       "      <th>SATotalMod3</th>\n",
       "      <th>MetASDCutOff</th>\n",
       "      <th>CandID</th>\n",
       "      <th>VSA demographics,ASD_Ever_DSMIV</th>\n",
       "      <th>VSA demographics,ASD_Ever_DSMV</th>\n",
       "      <th>VSA demographics,Age_at_visit_start</th>\n",
       "      <th>VSA demographics,Risk</th>\n",
       "      <th>VSA demographics,Sex</th>\n",
       "      <th>VSA demographics,candidate_race</th>\n",
       "    </tr>\n",
       "  </thead>\n",
       "  <tbody>\n",
       "    <tr>\n",
       "      <th>109</th>\n",
       "      <td>PHI4000</td>\n",
       "      <td>4</td>\n",
       "      <td>0</td>\n",
       "      <td>#NULL!</td>\n",
       "      <td>#NULL!</td>\n",
       "      <td>#NULL!</td>\n",
       "      <td>#NULL!</td>\n",
       "      <td>#NULL!</td>\n",
       "      <td>#NULL!</td>\n",
       "      <td>#NULL!</td>\n",
       "      <td>...</td>\n",
       "      <td>#NULL!</td>\n",
       "      <td>#NULL!</td>\n",
       "      <td>NaN</td>\n",
       "      <td>514978</td>\n",
       "      <td>ASD-</td>\n",
       "      <td>ASD-</td>\n",
       "      <td>113.0</td>\n",
       "      <td>NaN</td>\n",
       "      <td>Female</td>\n",
       "      <td>black_african_american</td>\n",
       "    </tr>\n",
       "    <tr>\n",
       "      <th>110</th>\n",
       "      <td>PHI4002</td>\n",
       "      <td>4</td>\n",
       "      <td>0</td>\n",
       "      <td>#NULL!</td>\n",
       "      <td>#NULL!</td>\n",
       "      <td>5</td>\n",
       "      <td>5</td>\n",
       "      <td>#NULL!</td>\n",
       "      <td>#NULL!</td>\n",
       "      <td>7</td>\n",
       "      <td>...</td>\n",
       "      <td>9</td>\n",
       "      <td>8</td>\n",
       "      <td>1.0</td>\n",
       "      <td>489641</td>\n",
       "      <td>ASD-</td>\n",
       "      <td>ASD-</td>\n",
       "      <td>119.0</td>\n",
       "      <td>NaN</td>\n",
       "      <td>Female</td>\n",
       "      <td>white</td>\n",
       "    </tr>\n",
       "    <tr>\n",
       "      <th>111</th>\n",
       "      <td>PHI4005</td>\n",
       "      <td>4</td>\n",
       "      <td>0</td>\n",
       "      <td>#NULL!</td>\n",
       "      <td>#NULL!</td>\n",
       "      <td>#NULL!</td>\n",
       "      <td>#NULL!</td>\n",
       "      <td>#NULL!</td>\n",
       "      <td>#NULL!</td>\n",
       "      <td>#NULL!</td>\n",
       "      <td>...</td>\n",
       "      <td>#NULL!</td>\n",
       "      <td>#NULL!</td>\n",
       "      <td>NaN</td>\n",
       "      <td>989241</td>\n",
       "      <td>ASD-</td>\n",
       "      <td>ASD-</td>\n",
       "      <td>87.0</td>\n",
       "      <td>NaN</td>\n",
       "      <td>Male</td>\n",
       "      <td>white</td>\n",
       "    </tr>\n",
       "  </tbody>\n",
       "</table>\n",
       "<p>3 rows × 32 columns</p>\n",
       "</div>"
      ],
      "text/plain": [
       "    Identifiers  Group1LR2HR3HR4DS  CVD_Visit RRBCSS_Mod1 RRBCSS_Mod2  \\\n",
       "109     PHI4000                  4          0      #NULL!      #NULL!   \n",
       "110     PHI4002                  4          0      #NULL!      #NULL!   \n",
       "111     PHI4005                  4          0      #NULL!      #NULL!   \n",
       "\n",
       "    RRBCSS_Mod3 RRBCSS_Combo SACSS_Mod2 SACSS_Mod2_A SACSS_Mod3  ...  \\\n",
       "109      #NULL!       #NULL!     #NULL!       #NULL!     #NULL!  ...   \n",
       "110           5            5     #NULL!       #NULL!          7  ...   \n",
       "111      #NULL!       #NULL!     #NULL!       #NULL!     #NULL!  ...   \n",
       "\n",
       "    SARRBTotalMod3 SATotalMod3 MetASDCutOff  CandID  \\\n",
       "109         #NULL!      #NULL!          NaN  514978   \n",
       "110              9           8          1.0  489641   \n",
       "111         #NULL!      #NULL!          NaN  989241   \n",
       "\n",
       "    VSA demographics,ASD_Ever_DSMIV VSA demographics,ASD_Ever_DSMV  \\\n",
       "109                            ASD-                           ASD-   \n",
       "110                            ASD-                           ASD-   \n",
       "111                            ASD-                           ASD-   \n",
       "\n",
       "    VSA demographics,Age_at_visit_start VSA demographics,Risk  \\\n",
       "109                               113.0                   NaN   \n",
       "110                               119.0                   NaN   \n",
       "111                                87.0                   NaN   \n",
       "\n",
       "    VSA demographics,Sex VSA demographics,candidate_race  \n",
       "109               Female          black_african_american  \n",
       "110               Female                           white  \n",
       "111                 Male                           white  \n",
       "\n",
       "[3 rows x 32 columns]"
      ]
     },
     "execution_count": 7,
     "metadata": {},
     "output_type": "execute_result"
    }
   ],
   "source": [
    "ds_data = ados_info.query(\"Group1LR2HR3HR4DS == 4\")\n",
    "ds_data.head(3)"
   ]
  },
  {
   "cell_type": "code",
   "execution_count": 8,
   "id": "dfb8088c",
   "metadata": {},
   "outputs": [
    {
     "data": {
      "text/plain": [
       "0.0    22\n",
       "1.0    11\n",
       "Name: MetASDCutOff, dtype: int64"
      ]
     },
     "execution_count": 8,
     "metadata": {},
     "output_type": "execute_result"
    }
   ],
   "source": [
    "ds_data['MetASDCutOff'].value_counts()"
   ]
  },
  {
   "cell_type": "code",
   "execution_count": 9,
   "id": "6bcb255f",
   "metadata": {},
   "outputs": [
    {
     "data": {
      "text/plain": [
       "35"
      ]
     },
     "execution_count": 9,
     "metadata": {},
     "output_type": "execute_result"
    }
   ],
   "source": [
    "ds_candids = ds_data['CandID'].drop_duplicates().astype(str)\n",
    "\n",
    "len(ds_candids)"
   ]
  },
  {
   "cell_type": "code",
   "execution_count": 10,
   "id": "6e5bd210",
   "metadata": {},
   "outputs": [],
   "source": [
    "ds_data.to_csv('/ASD/ahsan_projects/braintypicality/dataset/ds_metadata.csv', index=None)"
   ]
  },
  {
   "cell_type": "markdown",
   "id": "0af8e969",
   "metadata": {},
   "source": [
    "### > **INTERSECT WITH SUBJECTS THAT WE ACTUALLY HAVE ON DISK!!!**"
   ]
  },
  {
   "cell_type": "markdown",
   "id": "ff26e24a",
   "metadata": {},
   "source": [
    "#### Grabbing VSA* - Adds post-covid scans to list"
   ]
  },
  {
   "cell_type": "code",
   "execution_count": 11,
   "id": "b51665a0",
   "metadata": {},
   "outputs": [],
   "source": [
    "import glob,os,re\n",
    "stx_regex = re.compile(r\"stx_(\\d*)_VSA_*\")"
   ]
  },
  {
   "cell_type": "code",
   "execution_count": 12,
   "id": "20eda56d",
   "metadata": {},
   "outputs": [
    {
     "data": {
      "text/plain": [
       "326"
      ]
     },
     "execution_count": 12,
     "metadata": {},
     "output_type": "execute_result"
    }
   ],
   "source": [
    "procd_paths = glob.glob(\"/DATA/Users/amahmood/braintyp/processed_v2/IBIS*.nii.gz\")\n",
    "len(procd_paths)"
   ]
  },
  {
   "cell_type": "code",
   "execution_count": 13,
   "id": "f26993ee",
   "metadata": {},
   "outputs": [
    {
     "data": {
      "text/plain": [
       "331"
      ]
     },
     "execution_count": 13,
     "metadata": {},
     "output_type": "execute_result"
    }
   ],
   "source": [
    "t1_unprocd_paths = glob.glob(\"/ASD/Autism/IBIS/Proc_Data/*/VSA*/mri/registered_stx/sMRI/*T1w.nrrd\")\n",
    "len(t1_unprocd_paths)"
   ]
  },
  {
   "cell_type": "code",
   "execution_count": 14,
   "id": "961fe529",
   "metadata": {},
   "outputs": [
    {
     "data": {
      "text/plain": [
       "327"
      ]
     },
     "execution_count": 14,
     "metadata": {},
     "output_type": "execute_result"
    }
   ],
   "source": [
    "t2_unprocd_paths = glob.glob(\"/ASD/Autism/IBIS/Proc_Data/*/VSA*/mri/registered_stx/sMRI/*T2w.nrrd\")\n",
    "len(t2_unprocd_paths)"
   ]
  },
  {
   "cell_type": "code",
   "execution_count": 15,
   "id": "2afdc49b",
   "metadata": {},
   "outputs": [
    {
     "data": {
      "text/plain": [
       "['/ASD/Autism/IBIS/Proc_Data/107524/VSA-CVD/mri/registered_stx/sMRI/stx_107524_VSA-CVD_T1w.nrrd',\n",
       " '/ASD/Autism/IBIS/Proc_Data/108131/VSA-CVD/mri/registered_stx/sMRI/stx_108131_VSA-CVD_T1w.nrrd',\n",
       " '/ASD/Autism/IBIS/Proc_Data/108372/VSA-CVD/mri/registered_stx/sMRI/stx_108372_VSA-CVD_T1w.nrrd']"
      ]
     },
     "execution_count": 15,
     "metadata": {},
     "output_type": "execute_result"
    }
   ],
   "source": [
    "t1_unprocd_paths[:3]"
   ]
  },
  {
   "cell_type": "code",
   "execution_count": 16,
   "id": "1cb679ca",
   "metadata": {},
   "outputs": [
    {
     "data": {
      "text/plain": [
       "331"
      ]
     },
     "execution_count": 16,
     "metadata": {},
     "output_type": "execute_result"
    }
   ],
   "source": [
    "t1_subject_ids = set(map( lambda x: stx_regex.search(x).group(1), t1_unprocd_paths))\n",
    "len(t1_subject_ids)"
   ]
  },
  {
   "cell_type": "code",
   "execution_count": 17,
   "id": "72384b24",
   "metadata": {},
   "outputs": [
    {
     "data": {
      "text/plain": [
       "327"
      ]
     },
     "execution_count": 17,
     "metadata": {},
     "output_type": "execute_result"
    }
   ],
   "source": [
    "t2_matched_unprocd_paths = []\n",
    "\n",
    "for sid in t1_subject_ids:\n",
    "    t2path = glob.glob(f\"/ASD/Autism/IBIS/Proc_Data/{sid}/VSA*/mri/registered_stx/sMRI/*_{sid}*T2w.nrrd\")\n",
    "    if t2path:\n",
    "        t2_matched_unprocd_paths.extend(t2path)\n",
    "\n",
    "len(t2_matched_unprocd_paths)"
   ]
  },
  {
   "cell_type": "code",
   "execution_count": 18,
   "id": "00a8ff2d",
   "metadata": {},
   "outputs": [
    {
     "data": {
      "text/plain": [
       "327"
      ]
     },
     "execution_count": 18,
     "metadata": {},
     "output_type": "execute_result"
    }
   ],
   "source": [
    "t2_subject_ids = set(map( lambda x: stx_regex.search(x).group(1), t2_unprocd_paths))\n",
    "len(t2_subject_ids)"
   ]
  },
  {
   "cell_type": "code",
   "execution_count": 19,
   "id": "9c8776d2",
   "metadata": {},
   "outputs": [
    {
     "data": {
      "image/png": "[encoded data removed]",
      "text/plain": [
       "<Figure size 1109.52x300 with 5 Axes>"
      ]
     },
     "metadata": {},
     "output_type": "display_data"
    },
    {
     "data": {
      "text/plain": [
       "ANTsImage (RAI)\n",
       "\t Pixel Type : float (float32)\n",
       "\t Components : 1\n",
       "\t Dimensions : (197, 233, 189)\n",
       "\t Spacing    : (1.0, 1.0, 1.0)\n",
       "\t Origin     : (-196.0, -232.0, 0.0)\n",
       "\t Direction  : [1. 0. 0. 0. 1. 0. 0. 0. 1.]"
      ]
     },
     "execution_count": 19,
     "metadata": {},
     "output_type": "execute_result"
    }
   ],
   "source": [
    "import ants\n",
    "\n",
    "t1_img = ants.image_read(t1_unprocd_paths[0])\n",
    "t1_img.plot(nslices=5)\n",
    "t1_img"
   ]
  },
  {
   "cell_type": "code",
   "execution_count": 20,
   "id": "10109c42",
   "metadata": {},
   "outputs": [
    {
     "data": {
      "text/plain": [
       "326"
      ]
     },
     "execution_count": 20,
     "metadata": {},
     "output_type": "execute_result"
    }
   ],
   "source": [
    "R = re.compile(r\"(\\d*).nii.gz\")\n",
    "_fn = lambda x: R.search(x).group(1)\n",
    "subject_ids = set(map(_fn, procd_paths))\n",
    "len(subject_ids)"
   ]
  },
  {
   "cell_type": "code",
   "execution_count": 21,
   "id": "cd93d2a2",
   "metadata": {},
   "outputs": [
    {
     "data": {
      "text/plain": [
       "(28,)"
      ]
     },
     "execution_count": 21,
     "metadata": {},
     "output_type": "execute_result"
    }
   ],
   "source": [
    "on_disk = ds_candids.isin(t2_subject_ids) & ds_candids.isin(t1_subject_ids)\n",
    "ds_keys = ds_candids[on_disk]\n",
    "ds_keys.shape"
   ]
  },
  {
   "cell_type": "code",
   "execution_count": 22,
   "id": "dc807bfc",
   "metadata": {},
   "outputs": [
    {
     "data": {
      "text/plain": [
       "111    989241\n",
       "114    625742\n",
       "118    411428\n",
       "130    856429\n",
       "134    187181\n",
       "135    365282\n",
       "139    439147\n",
       "Name: CandID, dtype: object"
      ]
     },
     "execution_count": 22,
     "metadata": {},
     "output_type": "execute_result"
    }
   ],
   "source": [
    "# ds_candids[~on_disk].to_csv('missing_ds_candids.csv', index=None)\n",
    "ds_candids[~on_disk]"
   ]
  },
  {
   "cell_type": "markdown",
   "id": "858f3120",
   "metadata": {},
   "source": [
    "#### We simply do not have the subjects on disk\n",
    "\n",
    "Maybe they have not been processed yet? I am looking at /ASD/Autism/IBIS/Proc_Data/ ... "
   ]
  },
  {
   "cell_type": "code",
   "execution_count": 23,
   "id": "a8acaf7b",
   "metadata": {},
   "outputs": [],
   "source": [
    "ibis_ds_keys = \"IBIS\" + ds_keys.astype(str)\n",
    "ibis_ds_keys.to_csv(\"ibis-ds-sa_keys.txt\", header=None, index=None)"
   ]
  },
  {
   "cell_type": "code",
   "execution_count": 24,
   "id": "21df4633",
   "metadata": {},
   "outputs": [
    {
     "data": {
      "text/plain": [
       "109    IBIS514978\n",
       "110    IBIS489641\n",
       "112    IBIS509327\n",
       "113    IBIS847495\n",
       "115    IBIS782429\n",
       "116    IBIS965321\n",
       "117    IBIS976405\n",
       "119    IBIS767531\n",
       "120    IBIS110925\n",
       "121    IBIS688878\n",
       "122    IBIS105477\n",
       "123    IBIS615948\n",
       "124    IBIS698925\n",
       "125    IBIS123451\n",
       "126    IBIS984945\n",
       "127    IBIS493853\n",
       "128    IBIS502237\n",
       "129    IBIS718082\n",
       "131    IBIS551622\n",
       "132    IBIS792433\n",
       "133    IBIS454736\n",
       "136    IBIS546895\n",
       "137    IBIS871442\n",
       "138    IBIS146443\n",
       "140    IBIS270140\n",
       "141    IBIS241887\n",
       "142    IBIS828516\n",
       "143    IBIS734750\n",
       "Name: CandID, dtype: object"
      ]
     },
     "execution_count": 24,
     "metadata": {},
     "output_type": "execute_result"
    }
   ],
   "source": [
    "ibis_ds_keys"
   ]
  }
 ],
 "metadata": {
  "kernelspec": {
   "display_name": "Python 3 (ipykernel)",
   "language": "python",
   "name": "python3"
  },
  "language_info": {
   "codemirror_mode": {
    "name": "ipython",
    "version": 3
   },
   "file_extension": ".py",
   "mimetype": "text/x-python",
   "name": "python",
   "nbconvert_exporter": "python",
   "pygments_lexer": "ipython3",
   "version": "3.10.12"
  },
  "vscode": {
   "interpreter": {
    "hash": "d4d1e4263499bec80672ea0156c357c1ee493ec2b1c70f0acce89fc37c4a6abe"
   }
  }
 },
 "nbformat": 4,
 "nbformat_minor": 5
}
