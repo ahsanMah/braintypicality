{
 "cells": [
  {
   "cell_type": "code",
   "execution_count": 7,
   "id": "ac833ef8",
   "metadata": {},
   "outputs": [],
   "source": [
    "import re\n",
    "import pandas as pd\n",
    "import numpy as np\n",
    "import seaborn as sns\n",
    "import matplotlib.pyplot as plt\n",
    "\n",
    "np.random.seed(seed=42) "
   ]
  },
  {
   "cell_type": "code",
   "execution_count": 8,
   "id": "52c660af",
   "metadata": {},
   "outputs": [
    {
     "data": {
      "text/html": [
       "<div>\n",
       "<style scoped>\n",
       "    .dataframe tbody tr th:only-of-type {\n",
       "        vertical-align: middle;\n",
       "    }\n",
       "\n",
       "    .dataframe tbody tr th {\n",
       "        vertical-align: top;\n",
       "    }\n",
       "\n",
       "    .dataframe thead th {\n",
       "        text-align: right;\n",
       "    }\n",
       "</style>\n",
       "<table border=\"1\" class=\"dataframe\">\n",
       "  <thead>\n",
       "    <tr style=\"text-align: right;\">\n",
       "      <th></th>\n",
       "      <th>VSA demographics,CandID</th>\n",
       "      <th>VSA-CVD demographics,CandID</th>\n",
       "      <th>VSA demographics,Cohort</th>\n",
       "      <th>VSA-CVD demographics,Cohort</th>\n",
       "    </tr>\n",
       "  </thead>\n",
       "  <tbody>\n",
       "    <tr>\n",
       "      <th>0</th>\n",
       "      <td>108131</td>\n",
       "      <td>108131</td>\n",
       "      <td>IBIS2 High Risk</td>\n",
       "      <td>IBIS2 High Risk</td>\n",
       "    </tr>\n",
       "    <tr>\n",
       "      <th>1</th>\n",
       "      <td>360421</td>\n",
       "      <td>.</td>\n",
       "      <td>IBIS2 High Risk</td>\n",
       "      <td>.</td>\n",
       "    </tr>\n",
       "    <tr>\n",
       "      <th>2</th>\n",
       "      <td>105477</td>\n",
       "      <td>.</td>\n",
       "      <td>DS SA</td>\n",
       "      <td>.</td>\n",
       "    </tr>\n",
       "    <tr>\n",
       "      <th>3</th>\n",
       "      <td>110925</td>\n",
       "      <td>.</td>\n",
       "      <td>DS SA</td>\n",
       "      <td>.</td>\n",
       "    </tr>\n",
       "    <tr>\n",
       "      <th>4</th>\n",
       "      <td>123451</td>\n",
       "      <td>.</td>\n",
       "      <td>DS SA</td>\n",
       "      <td>.</td>\n",
       "    </tr>\n",
       "    <tr>\n",
       "      <th>...</th>\n",
       "      <td>...</td>\n",
       "      <td>...</td>\n",
       "      <td>...</td>\n",
       "      <td>...</td>\n",
       "    </tr>\n",
       "    <tr>\n",
       "      <th>406</th>\n",
       "      <td>.</td>\n",
       "      <td>767411</td>\n",
       "      <td>.</td>\n",
       "      <td>12 month recruit</td>\n",
       "    </tr>\n",
       "    <tr>\n",
       "      <th>407</th>\n",
       "      <td>.</td>\n",
       "      <td>808534</td>\n",
       "      <td>.</td>\n",
       "      <td>12 month recruit</td>\n",
       "    </tr>\n",
       "    <tr>\n",
       "      <th>408</th>\n",
       "      <td>.</td>\n",
       "      <td>856269</td>\n",
       "      <td>.</td>\n",
       "      <td>12 month recruit</td>\n",
       "    </tr>\n",
       "    <tr>\n",
       "      <th>409</th>\n",
       "      <td>.</td>\n",
       "      <td>963992</td>\n",
       "      <td>.</td>\n",
       "      <td>12 month recruit</td>\n",
       "    </tr>\n",
       "    <tr>\n",
       "      <th>410</th>\n",
       "      <td>.</td>\n",
       "      <td>.</td>\n",
       "      <td>.</td>\n",
       "      <td>.</td>\n",
       "    </tr>\n",
       "  </tbody>\n",
       "</table>\n",
       "<p>411 rows × 4 columns</p>\n",
       "</div>"
      ],
      "text/plain": [
       "    VSA demographics,CandID VSA-CVD demographics,CandID  \\\n",
       "0                    108131                      108131   \n",
       "1                    360421                           .   \n",
       "2                    105477                           .   \n",
       "3                    110925                           .   \n",
       "4                    123451                           .   \n",
       "..                      ...                         ...   \n",
       "406                       .                      767411   \n",
       "407                       .                      808534   \n",
       "408                       .                      856269   \n",
       "409                       .                      963992   \n",
       "410                       .                           .   \n",
       "\n",
       "    VSA demographics,Cohort VSA-CVD demographics,Cohort  \n",
       "0           IBIS2 High Risk             IBIS2 High Risk  \n",
       "1           IBIS2 High Risk                           .  \n",
       "2                     DS SA                           .  \n",
       "3                     DS SA                           .  \n",
       "4                     DS SA                           .  \n",
       "..                      ...                         ...  \n",
       "406                       .            12 month recruit  \n",
       "407                       .            12 month recruit  \n",
       "408                       .            12 month recruit  \n",
       "409                       .            12 month recruit  \n",
       "410                       .                           .  \n",
       "\n",
       "[411 rows x 4 columns]"
      ]
     },
     "execution_count": 8,
     "metadata": {},
     "output_type": "execute_result"
    }
   ],
   "source": [
    "raw_info = pd.read_csv(f\"/ASD/ahsan_projects/braintypicality/dataset/Data-cohort-VSA.csv\")\n",
    "raw_info"
   ]
  },
  {
   "cell_type": "code",
   "execution_count": 9,
   "id": "aa18c220",
   "metadata": {},
   "outputs": [
    {
     "data": {
      "text/html": [
       "<div>\n",
       "<style scoped>\n",
       "    .dataframe tbody tr th:only-of-type {\n",
       "        vertical-align: middle;\n",
       "    }\n",
       "\n",
       "    .dataframe tbody tr th {\n",
       "        vertical-align: top;\n",
       "    }\n",
       "\n",
       "    .dataframe thead th {\n",
       "        text-align: right;\n",
       "    }\n",
       "</style>\n",
       "<table border=\"1\" class=\"dataframe\">\n",
       "  <thead>\n",
       "    <tr style=\"text-align: right;\">\n",
       "      <th></th>\n",
       "      <th>CandID</th>\n",
       "      <th>Cohort</th>\n",
       "    </tr>\n",
       "  </thead>\n",
       "  <tbody>\n",
       "    <tr>\n",
       "      <th>0</th>\n",
       "      <td>108131</td>\n",
       "      <td>IBIS2 High Risk</td>\n",
       "    </tr>\n",
       "    <tr>\n",
       "      <th>1</th>\n",
       "      <td>360421</td>\n",
       "      <td>IBIS2 High Risk</td>\n",
       "    </tr>\n",
       "    <tr>\n",
       "      <th>2</th>\n",
       "      <td>105477</td>\n",
       "      <td>DS SA</td>\n",
       "    </tr>\n",
       "    <tr>\n",
       "      <th>3</th>\n",
       "      <td>110925</td>\n",
       "      <td>DS SA</td>\n",
       "    </tr>\n",
       "    <tr>\n",
       "      <th>4</th>\n",
       "      <td>123451</td>\n",
       "      <td>DS SA</td>\n",
       "    </tr>\n",
       "    <tr>\n",
       "      <th>...</th>\n",
       "      <td>...</td>\n",
       "      <td>...</td>\n",
       "    </tr>\n",
       "    <tr>\n",
       "      <th>406</th>\n",
       "      <td>.</td>\n",
       "      <td>.</td>\n",
       "    </tr>\n",
       "    <tr>\n",
       "      <th>407</th>\n",
       "      <td>.</td>\n",
       "      <td>.</td>\n",
       "    </tr>\n",
       "    <tr>\n",
       "      <th>408</th>\n",
       "      <td>.</td>\n",
       "      <td>.</td>\n",
       "    </tr>\n",
       "    <tr>\n",
       "      <th>409</th>\n",
       "      <td>.</td>\n",
       "      <td>.</td>\n",
       "    </tr>\n",
       "    <tr>\n",
       "      <th>410</th>\n",
       "      <td>.</td>\n",
       "      <td>.</td>\n",
       "    </tr>\n",
       "  </tbody>\n",
       "</table>\n",
       "<p>411 rows × 2 columns</p>\n",
       "</div>"
      ],
      "text/plain": [
       "     CandID           Cohort\n",
       "0    108131  IBIS2 High Risk\n",
       "1    360421  IBIS2 High Risk\n",
       "2    105477            DS SA\n",
       "3    110925            DS SA\n",
       "4    123451            DS SA\n",
       "..      ...              ...\n",
       "406       .                .\n",
       "407       .                .\n",
       "408       .                .\n",
       "409       .                .\n",
       "410       .                .\n",
       "\n",
       "[411 rows x 2 columns]"
      ]
     },
     "execution_count": 9,
     "metadata": {},
     "output_type": "execute_result"
    }
   ],
   "source": [
    "data = pd.DataFrame(raw_info[[\"VSA demographics,CandID\", \"VSA demographics,Cohort\"]])\n",
    "data.columns=[\"CandID\", \"Cohort\"]\n",
    "data"
   ]
  },
  {
   "cell_type": "code",
   "execution_count": 10,
   "id": "c641f1ef",
   "metadata": {},
   "outputs": [
    {
     "data": {
      "text/html": [
       "<div>\n",
       "<style scoped>\n",
       "    .dataframe tbody tr th:only-of-type {\n",
       "        vertical-align: middle;\n",
       "    }\n",
       "\n",
       "    .dataframe tbody tr th {\n",
       "        vertical-align: top;\n",
       "    }\n",
       "\n",
       "    .dataframe thead th {\n",
       "        text-align: right;\n",
       "    }\n",
       "</style>\n",
       "<table border=\"1\" class=\"dataframe\">\n",
       "  <thead>\n",
       "    <tr style=\"text-align: right;\">\n",
       "      <th></th>\n",
       "      <th>CandID</th>\n",
       "      <th>Cohort</th>\n",
       "    </tr>\n",
       "  </thead>\n",
       "  <tbody>\n",
       "    <tr>\n",
       "      <th>0</th>\n",
       "      <td>108131</td>\n",
       "      <td>IBIS2 High Risk</td>\n",
       "    </tr>\n",
       "    <tr>\n",
       "      <th>1</th>\n",
       "      <td>360421</td>\n",
       "      <td>IBIS2 High Risk</td>\n",
       "    </tr>\n",
       "    <tr>\n",
       "      <th>2</th>\n",
       "      <td>105477</td>\n",
       "      <td>DS SA</td>\n",
       "    </tr>\n",
       "    <tr>\n",
       "      <th>3</th>\n",
       "      <td>110925</td>\n",
       "      <td>DS SA</td>\n",
       "    </tr>\n",
       "    <tr>\n",
       "      <th>4</th>\n",
       "      <td>123451</td>\n",
       "      <td>DS SA</td>\n",
       "    </tr>\n",
       "    <tr>\n",
       "      <th>...</th>\n",
       "      <td>...</td>\n",
       "      <td>...</td>\n",
       "    </tr>\n",
       "    <tr>\n",
       "      <th>259</th>\n",
       "      <td>883733</td>\n",
       "      <td>12 month recruit</td>\n",
       "    </tr>\n",
       "    <tr>\n",
       "      <th>260</th>\n",
       "      <td>886482</td>\n",
       "      <td>12 month recruit</td>\n",
       "    </tr>\n",
       "    <tr>\n",
       "      <th>261</th>\n",
       "      <td>902465</td>\n",
       "      <td>12 month recruit</td>\n",
       "    </tr>\n",
       "    <tr>\n",
       "      <th>262</th>\n",
       "      <td>903923</td>\n",
       "      <td>12 month recruit</td>\n",
       "    </tr>\n",
       "    <tr>\n",
       "      <th>263</th>\n",
       "      <td>910593</td>\n",
       "      <td>12 month recruit</td>\n",
       "    </tr>\n",
       "  </tbody>\n",
       "</table>\n",
       "<p>264 rows × 2 columns</p>\n",
       "</div>"
      ],
      "text/plain": [
       "     CandID            Cohort\n",
       "0    108131   IBIS2 High Risk\n",
       "1    360421   IBIS2 High Risk\n",
       "2    105477             DS SA\n",
       "3    110925             DS SA\n",
       "4    123451             DS SA\n",
       "..      ...               ...\n",
       "259  883733  12 month recruit\n",
       "260  886482  12 month recruit\n",
       "261  902465  12 month recruit\n",
       "262  903923  12 month recruit\n",
       "263  910593  12 month recruit\n",
       "\n",
       "[264 rows x 2 columns]"
      ]
     },
     "execution_count": 10,
     "metadata": {},
     "output_type": "execute_result"
    }
   ],
   "source": [
    "data = data.drop(data[data[\"CandID\"] == \".\"].index)\n",
    "data"
   ]
  },
  {
   "cell_type": "code",
   "execution_count": 11,
   "id": "2411b507",
   "metadata": {},
   "outputs": [
    {
     "data": {
      "text/html": [
       "<div>\n",
       "<style scoped>\n",
       "    .dataframe tbody tr th:only-of-type {\n",
       "        vertical-align: middle;\n",
       "    }\n",
       "\n",
       "    .dataframe tbody tr th {\n",
       "        vertical-align: top;\n",
       "    }\n",
       "\n",
       "    .dataframe thead th {\n",
       "        text-align: right;\n",
       "    }\n",
       "</style>\n",
       "<table border=\"1\" class=\"dataframe\">\n",
       "  <thead>\n",
       "    <tr style=\"text-align: right;\">\n",
       "      <th></th>\n",
       "      <th>CandID</th>\n",
       "      <th>Cohort</th>\n",
       "    </tr>\n",
       "  </thead>\n",
       "  <tbody>\n",
       "    <tr>\n",
       "      <th>0</th>\n",
       "      <td>108131</td>\n",
       "      <td>IBIS2 High Risk</td>\n",
       "    </tr>\n",
       "    <tr>\n",
       "      <th>124</th>\n",
       "      <td>301941</td>\n",
       "      <td>6 month recruit</td>\n",
       "    </tr>\n",
       "    <tr>\n",
       "      <th>125</th>\n",
       "      <td>660372</td>\n",
       "      <td>6 month recruit</td>\n",
       "    </tr>\n",
       "    <tr>\n",
       "      <th>126</th>\n",
       "      <td>981407</td>\n",
       "      <td>6 month recruit</td>\n",
       "    </tr>\n",
       "    <tr>\n",
       "      <th>264</th>\n",
       "      <td>108372</td>\n",
       "      <td>IBIS2 Low Risk</td>\n",
       "    </tr>\n",
       "    <tr>\n",
       "      <th>...</th>\n",
       "      <td>...</td>\n",
       "      <td>...</td>\n",
       "    </tr>\n",
       "    <tr>\n",
       "      <th>405</th>\n",
       "      <td>718312</td>\n",
       "      <td>12 month recruit</td>\n",
       "    </tr>\n",
       "    <tr>\n",
       "      <th>406</th>\n",
       "      <td>767411</td>\n",
       "      <td>12 month recruit</td>\n",
       "    </tr>\n",
       "    <tr>\n",
       "      <th>407</th>\n",
       "      <td>808534</td>\n",
       "      <td>12 month recruit</td>\n",
       "    </tr>\n",
       "    <tr>\n",
       "      <th>408</th>\n",
       "      <td>856269</td>\n",
       "      <td>12 month recruit</td>\n",
       "    </tr>\n",
       "    <tr>\n",
       "      <th>409</th>\n",
       "      <td>963992</td>\n",
       "      <td>12 month recruit</td>\n",
       "    </tr>\n",
       "  </tbody>\n",
       "</table>\n",
       "<p>150 rows × 2 columns</p>\n",
       "</div>"
      ],
      "text/plain": [
       "     CandID            Cohort\n",
       "0    108131   IBIS2 High Risk\n",
       "124  301941   6 month recruit\n",
       "125  660372   6 month recruit\n",
       "126  981407   6 month recruit\n",
       "264  108372    IBIS2 Low Risk\n",
       "..      ...               ...\n",
       "405  718312  12 month recruit\n",
       "406  767411  12 month recruit\n",
       "407  808534  12 month recruit\n",
       "408  856269  12 month recruit\n",
       "409  963992  12 month recruit\n",
       "\n",
       "[150 rows x 2 columns]"
      ]
     },
     "execution_count": 11,
     "metadata": {},
     "output_type": "execute_result"
    }
   ],
   "source": [
    "cvd_data = raw_info[[\"VSA-CVD demographics,CandID\", \"VSA-CVD demographics,Cohort\"]]\n",
    "cvd_data.columns=[\"CandID\", \"Cohort\"]\n",
    "cvd_data = cvd_data.drop(cvd_data[cvd_data[\"CandID\"] == \".\"].index)\n",
    "cvd_data"
   ]
  },
  {
   "cell_type": "code",
   "execution_count": 12,
   "id": "701d85d0",
   "metadata": {},
   "outputs": [
    {
     "data": {
      "text/html": [
       "<div>\n",
       "<style scoped>\n",
       "    .dataframe tbody tr th:only-of-type {\n",
       "        vertical-align: middle;\n",
       "    }\n",
       "\n",
       "    .dataframe tbody tr th {\n",
       "        vertical-align: top;\n",
       "    }\n",
       "\n",
       "    .dataframe thead th {\n",
       "        text-align: right;\n",
       "    }\n",
       "</style>\n",
       "<table border=\"1\" class=\"dataframe\">\n",
       "  <thead>\n",
       "    <tr style=\"text-align: right;\">\n",
       "      <th></th>\n",
       "      <th>CandID</th>\n",
       "      <th>Cohort</th>\n",
       "    </tr>\n",
       "  </thead>\n",
       "  <tbody>\n",
       "    <tr>\n",
       "      <th>0</th>\n",
       "      <td>108131</td>\n",
       "      <td>IBIS2 High Risk</td>\n",
       "    </tr>\n",
       "    <tr>\n",
       "      <th>1</th>\n",
       "      <td>360421</td>\n",
       "      <td>IBIS2 High Risk</td>\n",
       "    </tr>\n",
       "    <tr>\n",
       "      <th>2</th>\n",
       "      <td>105477</td>\n",
       "      <td>DS SA</td>\n",
       "    </tr>\n",
       "    <tr>\n",
       "      <th>3</th>\n",
       "      <td>110925</td>\n",
       "      <td>DS SA</td>\n",
       "    </tr>\n",
       "    <tr>\n",
       "      <th>4</th>\n",
       "      <td>123451</td>\n",
       "      <td>DS SA</td>\n",
       "    </tr>\n",
       "    <tr>\n",
       "      <th>...</th>\n",
       "      <td>...</td>\n",
       "      <td>...</td>\n",
       "    </tr>\n",
       "    <tr>\n",
       "      <th>405</th>\n",
       "      <td>718312</td>\n",
       "      <td>12 month recruit</td>\n",
       "    </tr>\n",
       "    <tr>\n",
       "      <th>406</th>\n",
       "      <td>767411</td>\n",
       "      <td>12 month recruit</td>\n",
       "    </tr>\n",
       "    <tr>\n",
       "      <th>407</th>\n",
       "      <td>808534</td>\n",
       "      <td>12 month recruit</td>\n",
       "    </tr>\n",
       "    <tr>\n",
       "      <th>408</th>\n",
       "      <td>856269</td>\n",
       "      <td>12 month recruit</td>\n",
       "    </tr>\n",
       "    <tr>\n",
       "      <th>409</th>\n",
       "      <td>963992</td>\n",
       "      <td>12 month recruit</td>\n",
       "    </tr>\n",
       "  </tbody>\n",
       "</table>\n",
       "<p>414 rows × 2 columns</p>\n",
       "</div>"
      ],
      "text/plain": [
       "     CandID            Cohort\n",
       "0    108131   IBIS2 High Risk\n",
       "1    360421   IBIS2 High Risk\n",
       "2    105477             DS SA\n",
       "3    110925             DS SA\n",
       "4    123451             DS SA\n",
       "..      ...               ...\n",
       "405  718312  12 month recruit\n",
       "406  767411  12 month recruit\n",
       "407  808534  12 month recruit\n",
       "408  856269  12 month recruit\n",
       "409  963992  12 month recruit\n",
       "\n",
       "[414 rows x 2 columns]"
      ]
     },
     "execution_count": 12,
     "metadata": {},
     "output_type": "execute_result"
    }
   ],
   "source": [
    "df = pd.concat([data, cvd_data])\n",
    "df"
   ]
  },
  {
   "cell_type": "code",
   "execution_count": 13,
   "id": "6be6ec39",
   "metadata": {},
   "outputs": [
    {
     "data": {
      "text/plain": [
       "(89,)"
      ]
     },
     "execution_count": 13,
     "metadata": {},
     "output_type": "execute_result"
    }
   ],
   "source": [
    "inliers = df.query(\"Cohort == 'Control'\")[\"CandID\"].drop_duplicates()\n",
    "inliers.shape"
   ]
  },
  {
   "cell_type": "code",
   "execution_count": 14,
   "id": "fbfe8f95",
   "metadata": {},
   "outputs": [
    {
     "data": {
      "text/plain": [
       "(53,)"
      ]
     },
     "execution_count": 14,
     "metadata": {},
     "output_type": "execute_result"
    }
   ],
   "source": [
    "outliers = df.query(\"Cohort == 'DS SA'\")[\"CandID\"].drop_duplicates()\n",
    "outliers.shape"
   ]
  },
  {
   "cell_type": "code",
   "execution_count": 15,
   "id": "a0ad12b0",
   "metadata": {},
   "outputs": [
    {
     "data": {
      "text/plain": [
       "55    114640\n",
       "56    119906\n",
       "57    171870\n",
       "58    180215\n",
       "59    186588\n",
       "Name: CandID, dtype: object"
      ]
     },
     "execution_count": 15,
     "metadata": {},
     "output_type": "execute_result"
    }
   ],
   "source": [
    "inliers.head()"
   ]
  },
  {
   "cell_type": "markdown",
   "id": "1d5f8aa3",
   "metadata": {},
   "source": [
    "> **INTERSECT WITH SUBJECTS THAT WE ACTUALLY HAVE ON DISK!!!**"
   ]
  },
  {
   "cell_type": "markdown",
   "id": "0547a84b",
   "metadata": {},
   "source": [
    "#### Grabbing VSA* - Adds post-covid scans to list"
   ]
  },
  {
   "cell_type": "code",
   "execution_count": 16,
   "id": "da45efea",
   "metadata": {},
   "outputs": [
    {
     "data": {
      "text/plain": [
       "326"
      ]
     },
     "execution_count": 16,
     "metadata": {},
     "output_type": "execute_result"
    }
   ],
   "source": [
    "import glob,os,re\n",
    "R = re.compile(r\"stx_(\\d*)_VSA_*\")\n",
    "\n",
    "procd_paths = glob.glob(\"/DATA/Users/amahmood/braintyp/processed_v2/IBIS*.nii.gz\")\n",
    "len(procd_paths)"
   ]
  },
  {
   "cell_type": "code",
   "execution_count": 17,
   "id": "cc95b392",
   "metadata": {},
   "outputs": [
    {
     "data": {
      "image/png": "[encoded data removed]",
      "text/plain": [
       "<Figure size 1078.02x300 with 5 Axes>"
      ]
     },
     "metadata": {},
     "output_type": "display_data"
    },
    {
     "data": {
      "text/plain": [
       "ANTsImage (RAI)\n",
       "\t Pixel Type : float (float32)\n",
       "\t Components : 1\n",
       "\t Dimensions : (182, 218, 182)\n",
       "\t Spacing    : (1.0, 1.0, 1.0)\n",
       "\t Origin     : (-188.0, -224.0, 4.0)\n",
       "\t Direction  : [1. 0. 0. 0. 1. 0. 0. 0. 1.]"
      ]
     },
     "execution_count": 17,
     "metadata": {},
     "output_type": "execute_result"
    }
   ],
   "source": [
    "import ants\n",
    "\n",
    "t1_img, t2_img = ants.image_read(procd_paths[0]).split_channels()\n",
    "t1_img.plot(nslices=5)\n",
    "t1_img"
   ]
  },
  {
   "cell_type": "code",
   "execution_count": 18,
   "id": "5b8802d6",
   "metadata": {},
   "outputs": [
    {
     "data": {
      "text/plain": [
       "326"
      ]
     },
     "execution_count": 18,
     "metadata": {},
     "output_type": "execute_result"
    }
   ],
   "source": [
    "R = re.compile(r\"(\\d*).nii.gz\")\n",
    "_fn = lambda x: R.search(x).group(1)\n",
    "subject_ids = set(map(_fn, procd_paths))\n",
    "len(subject_ids)"
   ]
  },
  {
   "cell_type": "code",
   "execution_count": 19,
   "id": "d635bd45",
   "metadata": {},
   "outputs": [
    {
     "data": {
      "text/plain": [
       "(78,)"
      ]
     },
     "execution_count": 19,
     "metadata": {},
     "output_type": "execute_result"
    }
   ],
   "source": [
    "on_disk = inliers.isin(subject_ids)\n",
    "inlier_keys = inliers[on_disk]\n",
    "inlier_keys.shape"
   ]
  },
  {
   "cell_type": "code",
   "execution_count": 20,
   "id": "dc874674",
   "metadata": {},
   "outputs": [
    {
     "data": {
      "text/plain": [
       "(28,)"
      ]
     },
     "execution_count": 20,
     "metadata": {},
     "output_type": "execute_result"
    }
   ],
   "source": [
    "outlier_keys = outliers[outliers.isin(subject_ids)]\n",
    "outlier_keys.shape"
   ]
  },
  {
   "cell_type": "code",
   "execution_count": 21,
   "id": "64d9e08e",
   "metadata": {},
   "outputs": [],
   "source": [
    "inlier_keys.to_csv(\"ds-sa_inlier_keys.txt\", header=None, index=None)\n",
    "outlier_keys.to_csv(\"ds-sa_outlier_keys.txt\", header=None, index=None)"
   ]
  },
  {
   "cell_type": "code",
   "execution_count": null,
   "id": "dd6bd851",
   "metadata": {},
   "outputs": [],
   "source": []
  }
 ],
 "metadata": {
  "kernelspec": {
   "display_name": "Python 3 (ipykernel)",
   "language": "python",
   "name": "python3"
  },
  "language_info": {
   "codemirror_mode": {
    "name": "ipython",
    "version": 3
   },
   "file_extension": ".py",
   "mimetype": "text/x-python",
   "name": "python",
   "nbconvert_exporter": "python",
   "pygments_lexer": "ipython3",
   "version": "3.8.10"
  },
  "vscode": {
   "interpreter": {
    "hash": "d4d1e4263499bec80672ea0156c357c1ee493ec2b1c70f0acce89fc37c4a6abe"
   }
  }
 },
 "nbformat": 4,
 "nbformat_minor": 5
}
