{
 "cells": [
  {
   "cell_type": "code",
   "execution_count": 1,
   "id": "f4ce9d7f",
   "metadata": {},
   "outputs": [],
   "source": [
    "import os\n",
    "import re\n",
    "import pandas as pd\n",
    "import numpy as np\n",
    "import seaborn as sns\n",
    "import matplotlib.pyplot as plt\n",
    "\n",
    "np.random.seed(seed=42) "
   ]
  },
  {
   "cell_type": "markdown",
   "id": "4a282de2",
   "metadata": {},
   "source": [
    "### ABCD CBCL Filtering"
   ]
  },
  {
   "cell_type": "code",
   "execution_count": 2,
   "id": "025be3fd",
   "metadata": {},
   "outputs": [
    {
     "data": {
      "text/html": [
       "<div>\n",
       "<style scoped>\n",
       "    .dataframe tbody tr th:only-of-type {\n",
       "        vertical-align: middle;\n",
       "    }\n",
       "\n",
       "    .dataframe tbody tr th {\n",
       "        vertical-align: top;\n",
       "    }\n",
       "\n",
       "    .dataframe thead th {\n",
       "        text-align: right;\n",
       "    }\n",
       "</style>\n",
       "<table border=\"1\" class=\"dataframe\">\n",
       "  <thead>\n",
       "    <tr style=\"text-align: right;\">\n",
       "      <th></th>\n",
       "      <th>0</th>\n",
       "    </tr>\n",
       "  </thead>\n",
       "  <tbody>\n",
       "    <tr>\n",
       "      <th>0</th>\n",
       "      <td>NDAR_INVDPYR4KM2</td>\n",
       "    </tr>\n",
       "    <tr>\n",
       "      <th>1</th>\n",
       "      <td>NDAR_INVKN9RD01B</td>\n",
       "    </tr>\n",
       "    <tr>\n",
       "      <th>2</th>\n",
       "      <td>NDAR_INV99TVX9G8</td>\n",
       "    </tr>\n",
       "    <tr>\n",
       "      <th>3</th>\n",
       "      <td>NDAR_INVMU98HMRL</td>\n",
       "    </tr>\n",
       "    <tr>\n",
       "      <th>4</th>\n",
       "      <td>NDAR_INVAA78REX1</td>\n",
       "    </tr>\n",
       "    <tr>\n",
       "      <th>...</th>\n",
       "      <td>...</td>\n",
       "    </tr>\n",
       "    <tr>\n",
       "      <th>1360</th>\n",
       "      <td>NDAR_INVR268FVXE</td>\n",
       "    </tr>\n",
       "    <tr>\n",
       "      <th>1361</th>\n",
       "      <td>NDAR_INV0U23M45G</td>\n",
       "    </tr>\n",
       "    <tr>\n",
       "      <th>1362</th>\n",
       "      <td>NDAR_INV01EN91PG</td>\n",
       "    </tr>\n",
       "    <tr>\n",
       "      <th>1363</th>\n",
       "      <td>NDAR_INV7YU2MX4Y</td>\n",
       "    </tr>\n",
       "    <tr>\n",
       "      <th>1364</th>\n",
       "      <td>NDAR_INVUZMRNA0C</td>\n",
       "    </tr>\n",
       "  </tbody>\n",
       "</table>\n",
       "<p>1365 rows × 1 columns</p>\n",
       "</div>"
      ],
      "text/plain": [
       "                     0\n",
       "0     NDAR_INVDPYR4KM2\n",
       "1     NDAR_INVKN9RD01B\n",
       "2     NDAR_INV99TVX9G8\n",
       "3     NDAR_INVMU98HMRL\n",
       "4     NDAR_INVAA78REX1\n",
       "...                ...\n",
       "1360  NDAR_INVR268FVXE\n",
       "1361  NDAR_INV0U23M45G\n",
       "1362  NDAR_INV01EN91PG\n",
       "1363  NDAR_INV7YU2MX4Y\n",
       "1364  NDAR_INVUZMRNA0C\n",
       "\n",
       "[1365 rows x 1 columns]"
      ]
     },
     "execution_count": 2,
     "metadata": {},
     "output_type": "execute_result"
    }
   ],
   "source": [
    "TASKDIR = \"/DATA/ABCDTasks\"\n",
    "abcd_wm_qc_passing_keys = pd.read_csv(\"abcd_wm_qc_passing_keys.txt\", header=None)\n",
    "abcd_wm_qc_passing_keys"
   ]
  },
  {
   "cell_type": "code",
   "execution_count": 3,
   "id": "0519d8ff",
   "metadata": {},
   "outputs": [
    {
     "name": "stderr",
     "output_type": "stream",
     "text": [
      "/tmp/ipykernel_1803/426566087.py:1: DtypeWarning: Columns (0,1,2,6,9,10,11,12,13,14,15,16,17,18,19,20,21,22,23,24,25,26,27,28,29,30,31,32,33,34,35,36,37,38,39,40,41,42,43,44,45,46,47,48,49,50,51,52,53,54,55,56,57,58,59,60,61,62,63,64,65,66,67,68,69,70,71,72,73,74,75,76,77,78,79,80,81,82,83,84,85,86,87,88) have mixed types. Specify dtype option on import or set low_memory=False.\n",
      "  header = pd.read_csv(f\"{TASKDIR}/abcd_cbcls01.txt\", sep=\"\\t\")[:1]\n"
     ]
    },
    {
     "data": {
      "text/html": [
       "<div>\n",
       "<style scoped>\n",
       "    .dataframe tbody tr th:only-of-type {\n",
       "        vertical-align: middle;\n",
       "    }\n",
       "\n",
       "    .dataframe tbody tr th {\n",
       "        vertical-align: top;\n",
       "    }\n",
       "\n",
       "    .dataframe thead th {\n",
       "        text-align: right;\n",
       "    }\n",
       "</style>\n",
       "<table border=\"1\" class=\"dataframe\">\n",
       "  <thead>\n",
       "    <tr style=\"text-align: right;\">\n",
       "      <th></th>\n",
       "      <th>collection_id</th>\n",
       "      <th>abcd_cbcls01_id</th>\n",
       "      <th>dataset_id</th>\n",
       "      <th>subjectkey</th>\n",
       "      <th>src_subject_id</th>\n",
       "      <th>interview_date</th>\n",
       "      <th>interview_age</th>\n",
       "      <th>sex</th>\n",
       "      <th>eventname</th>\n",
       "      <th>cbcl_scr_syn_anxdep_r</th>\n",
       "      <th>...</th>\n",
       "      <th>cbcl_scr_07_sct_nm</th>\n",
       "      <th>cbcl_scr_07_ocd_r</th>\n",
       "      <th>cbcl_scr_07_ocd_t</th>\n",
       "      <th>cbcl_scr_07_ocd_m</th>\n",
       "      <th>cbcl_scr_07_ocd_nm</th>\n",
       "      <th>cbcl_scr_07_stress_r</th>\n",
       "      <th>cbcl_scr_07_stress_t</th>\n",
       "      <th>cbcl_scr_07_stress_m</th>\n",
       "      <th>cbcl_scr_07_stress_nm</th>\n",
       "      <th>collection_title</th>\n",
       "    </tr>\n",
       "  </thead>\n",
       "  <tbody>\n",
       "    <tr>\n",
       "      <th>0</th>\n",
       "      <td>collection_id</td>\n",
       "      <td>abcd_cbcls01_id</td>\n",
       "      <td>dataset_id</td>\n",
       "      <td>The NDAR Global Unique Identifier (GUID) for r...</td>\n",
       "      <td>Subject ID how it's defined in lab/project</td>\n",
       "      <td>Date on which the interview/genetic test/sampl...</td>\n",
       "      <td>Age in months at the time of the interview/tes...</td>\n",
       "      <td>Sex of the subject</td>\n",
       "      <td>The event name for which the data was collected</td>\n",
       "      <td>AnxDep CBCL Syndrome Scale (raw score)</td>\n",
       "      <td>...</td>\n",
       "      <td>Sluggish Cognitive Tempo (SCT) CBCL Scale2007 ...</td>\n",
       "      <td>Obsessive-Compulsive Problems (OCD) CBCL Scale...</td>\n",
       "      <td>Obsessive-Compulsive Problems (OCD) CBCL Scale...</td>\n",
       "      <td>Obsessive-Compulsive Problems (OCD) CBCL Scale...</td>\n",
       "      <td>Obsessive-Compulsive Problems (OCD) CBCL Scale...</td>\n",
       "      <td>Stress CBCL Scale2007 Scale (raw score)</td>\n",
       "      <td>Stress CBCL Scale2007 Scale (t-score)</td>\n",
       "      <td>Stress CBCL Scale2007 Scale (missing values)</td>\n",
       "      <td>Stress CBCL Scale2007 Scale (number of missing...</td>\n",
       "      <td>collection_title</td>\n",
       "    </tr>\n",
       "  </tbody>\n",
       "</table>\n",
       "<p>1 rows × 90 columns</p>\n",
       "</div>"
      ],
      "text/plain": [
       "   collection_id  abcd_cbcls01_id  dataset_id  \\\n",
       "0  collection_id  abcd_cbcls01_id  dataset_id   \n",
       "\n",
       "                                          subjectkey  \\\n",
       "0  The NDAR Global Unique Identifier (GUID) for r...   \n",
       "\n",
       "                               src_subject_id  \\\n",
       "0  Subject ID how it's defined in lab/project   \n",
       "\n",
       "                                      interview_date  \\\n",
       "0  Date on which the interview/genetic test/sampl...   \n",
       "\n",
       "                                       interview_age                 sex  \\\n",
       "0  Age in months at the time of the interview/tes...  Sex of the subject   \n",
       "\n",
       "                                         eventname  \\\n",
       "0  The event name for which the data was collected   \n",
       "\n",
       "                    cbcl_scr_syn_anxdep_r  ...  \\\n",
       "0  AnxDep CBCL Syndrome Scale (raw score)  ...   \n",
       "\n",
       "                                  cbcl_scr_07_sct_nm  \\\n",
       "0  Sluggish Cognitive Tempo (SCT) CBCL Scale2007 ...   \n",
       "\n",
       "                                   cbcl_scr_07_ocd_r  \\\n",
       "0  Obsessive-Compulsive Problems (OCD) CBCL Scale...   \n",
       "\n",
       "                                   cbcl_scr_07_ocd_t  \\\n",
       "0  Obsessive-Compulsive Problems (OCD) CBCL Scale...   \n",
       "\n",
       "                                   cbcl_scr_07_ocd_m  \\\n",
       "0  Obsessive-Compulsive Problems (OCD) CBCL Scale...   \n",
       "\n",
       "                                  cbcl_scr_07_ocd_nm  \\\n",
       "0  Obsessive-Compulsive Problems (OCD) CBCL Scale...   \n",
       "\n",
       "                      cbcl_scr_07_stress_r  \\\n",
       "0  Stress CBCL Scale2007 Scale (raw score)   \n",
       "\n",
       "                    cbcl_scr_07_stress_t  \\\n",
       "0  Stress CBCL Scale2007 Scale (t-score)   \n",
       "\n",
       "                           cbcl_scr_07_stress_m  \\\n",
       "0  Stress CBCL Scale2007 Scale (missing values)   \n",
       "\n",
       "                               cbcl_scr_07_stress_nm  collection_title  \n",
       "0  Stress CBCL Scale2007 Scale (number of missing...  collection_title  \n",
       "\n",
       "[1 rows x 90 columns]"
      ]
     },
     "execution_count": 3,
     "metadata": {},
     "output_type": "execute_result"
    }
   ],
   "source": [
    "header = pd.read_csv(f\"{TASKDIR}/abcd_cbcls01.txt\", sep=\"\\t\")[:1]\n",
    "header"
   ]
  },
  {
   "cell_type": "code",
   "execution_count": 4,
   "id": "9fa24f5c",
   "metadata": {},
   "outputs": [
    {
     "name": "stderr",
     "output_type": "stream",
     "text": [
      "/tmp/ipykernel_1803/1471118219.py:1: DtypeWarning: Columns (11,15,19,23,27,31,35,39,43,47,51,55,59,63,67,71,75,79,83,87) have mixed types. Specify dtype option on import or set low_memory=False.\n",
      "  raw = pd.read_csv(f\"{TASKDIR}/abcd_cbcls01.txt\", sep=\"\\t\", skiprows=[1])\n"
     ]
    },
    {
     "data": {
      "text/html": [
       "<div>\n",
       "<style scoped>\n",
       "    .dataframe tbody tr th:only-of-type {\n",
       "        vertical-align: middle;\n",
       "    }\n",
       "\n",
       "    .dataframe tbody tr th {\n",
       "        vertical-align: top;\n",
       "    }\n",
       "\n",
       "    .dataframe thead th {\n",
       "        text-align: right;\n",
       "    }\n",
       "</style>\n",
       "<table border=\"1\" class=\"dataframe\">\n",
       "  <thead>\n",
       "    <tr style=\"text-align: right;\">\n",
       "      <th></th>\n",
       "      <th>collection_id</th>\n",
       "      <th>abcd_cbcls01_id</th>\n",
       "      <th>dataset_id</th>\n",
       "      <th>subjectkey</th>\n",
       "      <th>src_subject_id</th>\n",
       "      <th>interview_date</th>\n",
       "      <th>interview_age</th>\n",
       "      <th>sex</th>\n",
       "      <th>eventname</th>\n",
       "      <th>cbcl_scr_syn_anxdep_r</th>\n",
       "      <th>...</th>\n",
       "      <th>cbcl_scr_07_sct_nm</th>\n",
       "      <th>cbcl_scr_07_ocd_r</th>\n",
       "      <th>cbcl_scr_07_ocd_t</th>\n",
       "      <th>cbcl_scr_07_ocd_m</th>\n",
       "      <th>cbcl_scr_07_ocd_nm</th>\n",
       "      <th>cbcl_scr_07_stress_r</th>\n",
       "      <th>cbcl_scr_07_stress_t</th>\n",
       "      <th>cbcl_scr_07_stress_m</th>\n",
       "      <th>cbcl_scr_07_stress_nm</th>\n",
       "      <th>collection_title</th>\n",
       "    </tr>\n",
       "  </thead>\n",
       "  <tbody>\n",
       "    <tr>\n",
       "      <th>16821</th>\n",
       "      <td>2573</td>\n",
       "      <td>30568</td>\n",
       "      <td>19025</td>\n",
       "      <td>NDAR_INV0PRHUTZA</td>\n",
       "      <td>NDAR_INV0PRHUTZA</td>\n",
       "      <td>11/17/2016</td>\n",
       "      <td>129</td>\n",
       "      <td>M</td>\n",
       "      <td>baseline_year_1_arm_1</td>\n",
       "      <td>1.0</td>\n",
       "      <td>...</td>\n",
       "      <td>0.0</td>\n",
       "      <td>1.0</td>\n",
       "      <td>51.0</td>\n",
       "      <td>NaN</td>\n",
       "      <td>0.0</td>\n",
       "      <td>0.0</td>\n",
       "      <td>50.0</td>\n",
       "      <td>NaN</td>\n",
       "      <td>0.0</td>\n",
       "      <td>Adolescent Brain Cognitive Development Study (...</td>\n",
       "    </tr>\n",
       "    <tr>\n",
       "      <th>16822</th>\n",
       "      <td>2573</td>\n",
       "      <td>33179</td>\n",
       "      <td>19025</td>\n",
       "      <td>NDAR_INV20NDWAH8</td>\n",
       "      <td>NDAR_INV20NDWAH8</td>\n",
       "      <td>11/05/2017</td>\n",
       "      <td>115</td>\n",
       "      <td>M</td>\n",
       "      <td>baseline_year_1_arm_1</td>\n",
       "      <td>7.0</td>\n",
       "      <td>...</td>\n",
       "      <td>0.0</td>\n",
       "      <td>6.0</td>\n",
       "      <td>70.0</td>\n",
       "      <td>NaN</td>\n",
       "      <td>0.0</td>\n",
       "      <td>7.0</td>\n",
       "      <td>62.0</td>\n",
       "      <td>NaN</td>\n",
       "      <td>0.0</td>\n",
       "      <td>Adolescent Brain Cognitive Development Study (...</td>\n",
       "    </tr>\n",
       "    <tr>\n",
       "      <th>16823</th>\n",
       "      <td>2573</td>\n",
       "      <td>34181</td>\n",
       "      <td>19025</td>\n",
       "      <td>NDAR_INVA4EVCYRA</td>\n",
       "      <td>NDAR_INVA4EVCYRA</td>\n",
       "      <td>03/04/2017</td>\n",
       "      <td>113</td>\n",
       "      <td>M</td>\n",
       "      <td>baseline_year_1_arm_1</td>\n",
       "      <td>3.0</td>\n",
       "      <td>...</td>\n",
       "      <td>0.0</td>\n",
       "      <td>2.0</td>\n",
       "      <td>55.0</td>\n",
       "      <td>NaN</td>\n",
       "      <td>0.0</td>\n",
       "      <td>7.0</td>\n",
       "      <td>62.0</td>\n",
       "      <td>NaN</td>\n",
       "      <td>0.0</td>\n",
       "      <td>Adolescent Brain Cognitive Development Study (...</td>\n",
       "    </tr>\n",
       "    <tr>\n",
       "      <th>16824</th>\n",
       "      <td>2573</td>\n",
       "      <td>33205</td>\n",
       "      <td>19025</td>\n",
       "      <td>NDAR_INV24BT0Y26</td>\n",
       "      <td>NDAR_INV24BT0Y26</td>\n",
       "      <td>12/04/2017</td>\n",
       "      <td>113</td>\n",
       "      <td>M</td>\n",
       "      <td>baseline_year_1_arm_1</td>\n",
       "      <td>1.0</td>\n",
       "      <td>...</td>\n",
       "      <td>0.0</td>\n",
       "      <td>1.0</td>\n",
       "      <td>51.0</td>\n",
       "      <td>NaN</td>\n",
       "      <td>0.0</td>\n",
       "      <td>0.0</td>\n",
       "      <td>50.0</td>\n",
       "      <td>NaN</td>\n",
       "      <td>0.0</td>\n",
       "      <td>Adolescent Brain Cognitive Development Study (...</td>\n",
       "    </tr>\n",
       "    <tr>\n",
       "      <th>16825</th>\n",
       "      <td>2573</td>\n",
       "      <td>35228</td>\n",
       "      <td>19025</td>\n",
       "      <td>NDAR_INVCY51KY08</td>\n",
       "      <td>NDAR_INVCY51KY08</td>\n",
       "      <td>11/20/2017</td>\n",
       "      <td>118</td>\n",
       "      <td>M</td>\n",
       "      <td>baseline_year_1_arm_1</td>\n",
       "      <td>15.0</td>\n",
       "      <td>...</td>\n",
       "      <td>0.0</td>\n",
       "      <td>6.0</td>\n",
       "      <td>70.0</td>\n",
       "      <td>NaN</td>\n",
       "      <td>0.0</td>\n",
       "      <td>10.0</td>\n",
       "      <td>68.0</td>\n",
       "      <td>NaN</td>\n",
       "      <td>0.0</td>\n",
       "      <td>Adolescent Brain Cognitive Development Study (...</td>\n",
       "    </tr>\n",
       "  </tbody>\n",
       "</table>\n",
       "<p>5 rows × 90 columns</p>\n",
       "</div>"
      ],
      "text/plain": [
       "       collection_id  abcd_cbcls01_id  dataset_id        subjectkey  \\\n",
       "16821           2573            30568       19025  NDAR_INV0PRHUTZA   \n",
       "16822           2573            33179       19025  NDAR_INV20NDWAH8   \n",
       "16823           2573            34181       19025  NDAR_INVA4EVCYRA   \n",
       "16824           2573            33205       19025  NDAR_INV24BT0Y26   \n",
       "16825           2573            35228       19025  NDAR_INVCY51KY08   \n",
       "\n",
       "         src_subject_id interview_date  interview_age sex  \\\n",
       "16821  NDAR_INV0PRHUTZA     11/17/2016            129   M   \n",
       "16822  NDAR_INV20NDWAH8     11/05/2017            115   M   \n",
       "16823  NDAR_INVA4EVCYRA     03/04/2017            113   M   \n",
       "16824  NDAR_INV24BT0Y26     12/04/2017            113   M   \n",
       "16825  NDAR_INVCY51KY08     11/20/2017            118   M   \n",
       "\n",
       "                   eventname  cbcl_scr_syn_anxdep_r  ...  cbcl_scr_07_sct_nm  \\\n",
       "16821  baseline_year_1_arm_1                    1.0  ...                 0.0   \n",
       "16822  baseline_year_1_arm_1                    7.0  ...                 0.0   \n",
       "16823  baseline_year_1_arm_1                    3.0  ...                 0.0   \n",
       "16824  baseline_year_1_arm_1                    1.0  ...                 0.0   \n",
       "16825  baseline_year_1_arm_1                   15.0  ...                 0.0   \n",
       "\n",
       "      cbcl_scr_07_ocd_r  cbcl_scr_07_ocd_t  cbcl_scr_07_ocd_m  \\\n",
       "16821               1.0               51.0                NaN   \n",
       "16822               6.0               70.0                NaN   \n",
       "16823               2.0               55.0                NaN   \n",
       "16824               1.0               51.0                NaN   \n",
       "16825               6.0               70.0                NaN   \n",
       "\n",
       "       cbcl_scr_07_ocd_nm cbcl_scr_07_stress_r  cbcl_scr_07_stress_t  \\\n",
       "16821                 0.0                  0.0                  50.0   \n",
       "16822                 0.0                  7.0                  62.0   \n",
       "16823                 0.0                  7.0                  62.0   \n",
       "16824                 0.0                  0.0                  50.0   \n",
       "16825                 0.0                 10.0                  68.0   \n",
       "\n",
       "       cbcl_scr_07_stress_m  cbcl_scr_07_stress_nm  \\\n",
       "16821                   NaN                    0.0   \n",
       "16822                   NaN                    0.0   \n",
       "16823                   NaN                    0.0   \n",
       "16824                   NaN                    0.0   \n",
       "16825                   NaN                    0.0   \n",
       "\n",
       "                                        collection_title  \n",
       "16821  Adolescent Brain Cognitive Development Study (...  \n",
       "16822  Adolescent Brain Cognitive Development Study (...  \n",
       "16823  Adolescent Brain Cognitive Development Study (...  \n",
       "16824  Adolescent Brain Cognitive Development Study (...  \n",
       "16825  Adolescent Brain Cognitive Development Study (...  \n",
       "\n",
       "[5 rows x 90 columns]"
      ]
     },
     "execution_count": 4,
     "metadata": {},
     "output_type": "execute_result"
    }
   ],
   "source": [
    "raw = pd.read_csv(f\"{TASKDIR}/abcd_cbcls01.txt\", sep=\"\\t\", skiprows=[1])\n",
    "raw.tail()"
   ]
  },
  {
   "cell_type": "code",
   "execution_count": 5,
   "id": "ac5b79f2",
   "metadata": {},
   "outputs": [
    {
     "data": {
      "text/plain": [
       "(1365, 90)"
      ]
     },
     "execution_count": 5,
     "metadata": {},
     "output_type": "execute_result"
    }
   ],
   "source": [
    "baselines = raw.query(\"eventname == 'baseline_year_1_arm_1'\")\n",
    "assert baselines.shape[0] == raw[\"subjectkey\"].unique().shape[0]\n",
    "\n",
    "# qc_passed = final_qc['subjectkey']\n",
    "baselines = baselines[baselines[\"subjectkey\"].isin(abcd_wm_qc_passing_keys[0])]\n",
    "baselines.shape"
   ]
  },
  {
   "cell_type": "code",
   "execution_count": 6,
   "id": "8fd8b05a",
   "metadata": {},
   "outputs": [
    {
     "data": {
      "text/plain": [
       "['cbcl_scr_syn_anxdep_t',\n",
       " 'cbcl_scr_syn_withdep_t',\n",
       " 'cbcl_scr_syn_somatic_t',\n",
       " 'cbcl_scr_syn_social_t',\n",
       " 'cbcl_scr_syn_thought_t',\n",
       " 'cbcl_scr_syn_attention_t',\n",
       " 'cbcl_scr_syn_rulebreak_t',\n",
       " 'cbcl_scr_syn_aggressive_t',\n",
       " 'cbcl_scr_syn_internal_t',\n",
       " 'cbcl_scr_syn_external_t',\n",
       " 'cbcl_scr_syn_totprob_t']"
      ]
     },
     "execution_count": 6,
     "metadata": {},
     "output_type": "execute_result"
    }
   ],
   "source": [
    "t_score_cols = [x for x in raw.columns if re.match(\"cbcl_scr_syn_.*_t$\", x)]\n",
    "t_score_cols"
   ]
  },
  {
   "cell_type": "code",
   "execution_count": 7,
   "id": "71562aa9",
   "metadata": {},
   "outputs": [],
   "source": [
    "summary_scales = [\n",
    "  'cbcl_scr_syn_internal_t',\n",
    "  'cbcl_scr_syn_external_t',\n",
    "  'cbcl_scr_syn_totprob_t'\n",
    "]\n",
    "syndrome_scales = [\n",
    " 'cbcl_scr_syn_anxdep_t',\n",
    " 'cbcl_scr_syn_withdep_t',\n",
    " 'cbcl_scr_syn_somatic_t',\n",
    " 'cbcl_scr_syn_social_t',\n",
    " 'cbcl_scr_syn_thought_t',\n",
    " 'cbcl_scr_syn_attention_t',\n",
    " 'cbcl_scr_syn_rulebreak_t',\n",
    " 'cbcl_scr_syn_aggressive_t',\n",
    " \n",
    "]"
   ]
  },
  {
   "cell_type": "code",
   "execution_count": 8,
   "id": "8ec7c262",
   "metadata": {},
   "outputs": [
    {
     "data": {
      "text/html": [
       "<div>\n",
       "<style scoped>\n",
       "    .dataframe tbody tr th:only-of-type {\n",
       "        vertical-align: middle;\n",
       "    }\n",
       "\n",
       "    .dataframe tbody tr th {\n",
       "        vertical-align: top;\n",
       "    }\n",
       "\n",
       "    .dataframe thead th {\n",
       "        text-align: right;\n",
       "    }\n",
       "</style>\n",
       "<table border=\"1\" class=\"dataframe\">\n",
       "  <thead>\n",
       "    <tr style=\"text-align: right;\">\n",
       "      <th></th>\n",
       "      <th>cbcl_scr_syn_anxdep_t</th>\n",
       "      <th>cbcl_scr_syn_withdep_t</th>\n",
       "      <th>cbcl_scr_syn_somatic_t</th>\n",
       "      <th>cbcl_scr_syn_social_t</th>\n",
       "      <th>cbcl_scr_syn_thought_t</th>\n",
       "      <th>cbcl_scr_syn_attention_t</th>\n",
       "      <th>cbcl_scr_syn_rulebreak_t</th>\n",
       "      <th>cbcl_scr_syn_aggressive_t</th>\n",
       "    </tr>\n",
       "  </thead>\n",
       "  <tbody>\n",
       "    <tr>\n",
       "      <th>0</th>\n",
       "      <td>AnxDep CBCL Syndrome Scale (t-score)</td>\n",
       "      <td>WithDep CBCL Syndrome Scale (t-score)</td>\n",
       "      <td>Somatic CBCL Syndrome Scale (t-score)</td>\n",
       "      <td>Social CBCL Syndrome Scale (t-score)</td>\n",
       "      <td>Thought CBCL Syndrome Scale (t-score)</td>\n",
       "      <td>Attention CBCL Syndrome Scale (t-score)</td>\n",
       "      <td>RuleBreak CBCL Syndrome Scale (t-score)</td>\n",
       "      <td>Aggressive CBCL Syndrome Scale (t-score)</td>\n",
       "    </tr>\n",
       "  </tbody>\n",
       "</table>\n",
       "</div>"
      ],
      "text/plain": [
       "                  cbcl_scr_syn_anxdep_t  \\\n",
       "0  AnxDep CBCL Syndrome Scale (t-score)   \n",
       "\n",
       "                  cbcl_scr_syn_withdep_t  \\\n",
       "0  WithDep CBCL Syndrome Scale (t-score)   \n",
       "\n",
       "                  cbcl_scr_syn_somatic_t  \\\n",
       "0  Somatic CBCL Syndrome Scale (t-score)   \n",
       "\n",
       "                  cbcl_scr_syn_social_t  \\\n",
       "0  Social CBCL Syndrome Scale (t-score)   \n",
       "\n",
       "                  cbcl_scr_syn_thought_t  \\\n",
       "0  Thought CBCL Syndrome Scale (t-score)   \n",
       "\n",
       "                  cbcl_scr_syn_attention_t  \\\n",
       "0  Attention CBCL Syndrome Scale (t-score)   \n",
       "\n",
       "                  cbcl_scr_syn_rulebreak_t  \\\n",
       "0  RuleBreak CBCL Syndrome Scale (t-score)   \n",
       "\n",
       "                  cbcl_scr_syn_aggressive_t  \n",
       "0  Aggressive CBCL Syndrome Scale (t-score)  "
      ]
     },
     "execution_count": 8,
     "metadata": {},
     "output_type": "execute_result"
    }
   ],
   "source": [
    "header[syndrome_scales]"
   ]
  },
  {
   "cell_type": "code",
   "execution_count": 9,
   "id": "8b3a1bf0",
   "metadata": {},
   "outputs": [],
   "source": [
    "# header[t_score_cols].to_csv(\"scales.txt\", header=None, index=False, sep=\"\\n\")"
   ]
  },
  {
   "cell_type": "code",
   "execution_count": 10,
   "id": "01e85b9b",
   "metadata": {},
   "outputs": [
    {
     "data": {
      "image/png": "[encoded data removed]",
      "text/plain": [
       "<Figure size 1600x1200 with 20 Axes>"
      ]
     },
     "metadata": {},
     "output_type": "display_data"
    }
   ],
   "source": [
    "cbcl_scores = baselines[t_score_cols].copy()\n",
    "right_tail = cbcl_scores[cbcl_scores > 51]\n",
    "axs = right_tail.hist(figsize=(16,12), layout=(4,5))\n",
    "# for ax in axs.flatten():\n",
    "#     ax.set_xlim(55,None)\n",
    "# plt.xlim(51,None)\n",
    "plt.show()"
   ]
  },
  {
   "cell_type": "code",
   "execution_count": 11,
   "id": "39d12f9e",
   "metadata": {},
   "outputs": [
    {
     "data": {
      "text/plain": [
       "(1365, 11)"
      ]
     },
     "execution_count": 11,
     "metadata": {},
     "output_type": "execute_result"
    }
   ],
   "source": [
    "cbcl_scores.shape"
   ]
  },
  {
   "cell_type": "code",
   "execution_count": 12,
   "id": "f5e1f0fe",
   "metadata": {},
   "outputs": [
    {
     "data": {
      "text/plain": [
       "(1232, 90)"
      ]
     },
     "execution_count": 12,
     "metadata": {},
     "output_type": "execute_result"
    }
   ],
   "source": [
    "# According to orignal CBCL paper: https://pedsinreview.aappublications.org/content/21/8/265\n",
    "# 67 ~= 96th Percentile\n",
    "INLIER_THRESH = 66\n",
    "summary_criteria = (cbcl_scores[summary_scales] < INLIER_THRESH).all(axis=\"columns\")\n",
    "syndrome_criteria = (cbcl_scores[syndrome_scales] < INLIER_THRESH).all(axis=\"columns\") #.sum(axis=\"columns\") <= 1\n",
    "inlier_criteria = summary_criteria & syndrome_criteria\n",
    "abcd_inliers = baselines[inlier_criteria]\n",
    "abcd_inliers.shape"
   ]
  },
  {
   "cell_type": "code",
   "execution_count": 13,
   "id": "1f1820ca",
   "metadata": {},
   "outputs": [
    {
     "data": {
      "text/plain": [
       "(1303, 1232)"
      ]
     },
     "execution_count": 13,
     "metadata": {},
     "output_type": "execute_result"
    }
   ],
   "source": [
    "summary_criteria.sum(), syndrome_criteria.sum()"
   ]
  },
  {
   "cell_type": "code",
   "execution_count": 14,
   "id": "aee95ec5",
   "metadata": {},
   "outputs": [
    {
     "data": {
      "text/plain": [
       "(35, 90)"
      ]
     },
     "execution_count": 14,
     "metadata": {},
     "output_type": "execute_result"
    }
   ],
   "source": [
    "# 70 ~= 98th Percentile\n",
    "OUTLIER_THRESH = 70\n",
    "summary_criteria = (cbcl_scores[summary_scales] > OUTLIER_THRESH).any(axis=\"columns\") # In any  \n",
    "syndrome_criteria = (cbcl_scores[syndrome_scales] > OUTLIER_THRESH).sum(axis=\"columns\") >= 2\n",
    "outlier_criteria = summary_criteria | syndrome_criteria\n",
    "abcd_outliers = baselines[outlier_criteria]\n",
    "abcd_outliers.shape"
   ]
  },
  {
   "cell_type": "code",
   "execution_count": 15,
   "id": "2e5a78b8",
   "metadata": {},
   "outputs": [
    {
     "data": {
      "text/plain": [
       "(33, 24)"
      ]
     },
     "execution_count": 15,
     "metadata": {},
     "output_type": "execute_result"
    }
   ],
   "source": [
    "summary_criteria.sum(), syndrome_criteria.sum()"
   ]
  },
  {
   "cell_type": "code",
   "execution_count": 16,
   "id": "c4cdd13c",
   "metadata": {},
   "outputs": [
    {
     "data": {
      "image/png": "[encoded data removed]",
      "text/plain": [
       "<Figure size 1600x1200 with 20 Axes>"
      ]
     },
     "metadata": {},
     "output_type": "display_data"
    }
   ],
   "source": [
    "abcd_inliers[summary_scales].hist(figsize=(16,12), layout=(4,5))\n",
    "plt.show()"
   ]
  },
  {
   "cell_type": "code",
   "execution_count": 17,
   "id": "d06e4f47",
   "metadata": {},
   "outputs": [
    {
     "data": {
      "image/png": "[encoded data removed]",
      "text/plain": [
       "<Figure size 1600x1200 with 20 Axes>"
      ]
     },
     "metadata": {},
     "output_type": "display_data"
    }
   ],
   "source": [
    "abcd_outliers[summary_scales].hist(figsize=(16,12), layout=(4,5))\n",
    "plt.show()"
   ]
  },
  {
   "cell_type": "markdown",
   "id": "5f858cdf",
   "metadata": {},
   "source": [
    "### HCPD"
   ]
  },
  {
   "cell_type": "code",
   "execution_count": 18,
   "id": "9d777dc9",
   "metadata": {},
   "outputs": [
    {
     "data": {
      "text/html": [
       "<div>\n",
       "<style scoped>\n",
       "    .dataframe tbody tr th:only-of-type {\n",
       "        vertical-align: middle;\n",
       "    }\n",
       "\n",
       "    .dataframe tbody tr th {\n",
       "        vertical-align: top;\n",
       "    }\n",
       "\n",
       "    .dataframe thead th {\n",
       "        text-align: right;\n",
       "    }\n",
       "</style>\n",
       "<table border=\"1\" class=\"dataframe\">\n",
       "  <thead>\n",
       "    <tr style=\"text-align: right;\">\n",
       "      <th></th>\n",
       "      <th>0</th>\n",
       "    </tr>\n",
       "  </thead>\n",
       "  <tbody>\n",
       "    <tr>\n",
       "      <th>0</th>\n",
       "      <td>HCD1855365</td>\n",
       "    </tr>\n",
       "    <tr>\n",
       "      <th>1</th>\n",
       "      <td>HCD1856468</td>\n",
       "    </tr>\n",
       "    <tr>\n",
       "      <th>2</th>\n",
       "      <td>HCD1857066</td>\n",
       "    </tr>\n",
       "    <tr>\n",
       "      <th>3</th>\n",
       "      <td>HCD1964269</td>\n",
       "    </tr>\n",
       "    <tr>\n",
       "      <th>4</th>\n",
       "      <td>HCD1983879</td>\n",
       "    </tr>\n",
       "    <tr>\n",
       "      <th>...</th>\n",
       "      <td>...</td>\n",
       "    </tr>\n",
       "    <tr>\n",
       "      <th>635</th>\n",
       "      <td>HCD2336346</td>\n",
       "    </tr>\n",
       "    <tr>\n",
       "      <th>636</th>\n",
       "      <td>HCD1778474</td>\n",
       "    </tr>\n",
       "    <tr>\n",
       "      <th>637</th>\n",
       "      <td>HCD2982276</td>\n",
       "    </tr>\n",
       "    <tr>\n",
       "      <th>638</th>\n",
       "      <td>HCD0577358</td>\n",
       "    </tr>\n",
       "    <tr>\n",
       "      <th>639</th>\n",
       "      <td>HCD1581455</td>\n",
       "    </tr>\n",
       "  </tbody>\n",
       "</table>\n",
       "<p>640 rows × 1 columns</p>\n",
       "</div>"
      ],
      "text/plain": [
       "              0\n",
       "0    HCD1855365\n",
       "1    HCD1856468\n",
       "2    HCD1857066\n",
       "3    HCD1964269\n",
       "4    HCD1983879\n",
       "..          ...\n",
       "635  HCD2336346\n",
       "636  HCD1778474\n",
       "637  HCD2982276\n",
       "638  HCD0577358\n",
       "639  HCD1581455\n",
       "\n",
       "[640 rows x 1 columns]"
      ]
     },
     "execution_count": 18,
     "metadata": {},
     "output_type": "execute_result"
    }
   ],
   "source": [
    "hcpd_wm_qc_passing_keys = pd.read_csv(\"hcpd_wm_qc_passing_keys.txt\", header=None)\n",
    "hcpd_wm_qc_passing_keys"
   ]
  },
  {
   "cell_type": "code",
   "execution_count": 19,
   "id": "06005e86",
   "metadata": {},
   "outputs": [
    {
     "data": {
      "text/html": [
       "<div>\n",
       "<style scoped>\n",
       "    .dataframe tbody tr th:only-of-type {\n",
       "        vertical-align: middle;\n",
       "    }\n",
       "\n",
       "    .dataframe tbody tr th {\n",
       "        vertical-align: top;\n",
       "    }\n",
       "\n",
       "    .dataframe thead th {\n",
       "        text-align: right;\n",
       "    }\n",
       "</style>\n",
       "<table border=\"1\" class=\"dataframe\">\n",
       "  <thead>\n",
       "    <tr style=\"text-align: right;\">\n",
       "      <th></th>\n",
       "      <th>collection_id</th>\n",
       "      <th>cbcl01_id</th>\n",
       "      <th>dataset_id</th>\n",
       "      <th>subjectkey</th>\n",
       "      <th>src_subject_id</th>\n",
       "      <th>interview_date</th>\n",
       "      <th>interview_age</th>\n",
       "      <th>sex</th>\n",
       "      <th>sports_time1</th>\n",
       "      <th>sports_well1</th>\n",
       "      <th>...</th>\n",
       "      <th>cbcl_deprpr_perc</th>\n",
       "      <th>cbcl_depresspr</th>\n",
       "      <th>cbcl_depresspr_raw</th>\n",
       "      <th>version_form</th>\n",
       "      <th>cbclpre35_start</th>\n",
       "      <th>cbclpre100</th>\n",
       "      <th>abcl_other_total</th>\n",
       "      <th>kkwithr</th>\n",
       "      <th>comqother</th>\n",
       "      <th>collection_title</th>\n",
       "    </tr>\n",
       "  </thead>\n",
       "  <tbody>\n",
       "    <tr>\n",
       "      <th>0</th>\n",
       "      <td>collection_id</td>\n",
       "      <td>cbcl01_id</td>\n",
       "      <td>dataset_id</td>\n",
       "      <td>The NDAR Global Unique Identifier (GUID) for r...</td>\n",
       "      <td>Subject ID how it's defined in lab/project</td>\n",
       "      <td>Date on which the interview/genetic test/sampl...</td>\n",
       "      <td>Age in months at the time of the interview/tes...</td>\n",
       "      <td>Sex of the subject</td>\n",
       "      <td>Amount of time spent on sport1</td>\n",
       "      <td>How well youth does sport1</td>\n",
       "      <td>...</td>\n",
       "      <td>Depressive Problems Percentile</td>\n",
       "      <td>Depressive Problems T Score</td>\n",
       "      <td>Depressive Problems Raw Score</td>\n",
       "      <td>Form used/assessment name</td>\n",
       "      <td>If your child gets into many fights, then desc...</td>\n",
       "      <td>Please write in any problems the child has tha...</td>\n",
       "      <td>Total score for Other Problems</td>\n",
       "      <td>Withdrawn Depressed  Raw score</td>\n",
       "      <td>Respondent - Other (text)</td>\n",
       "      <td>collection_title</td>\n",
       "    </tr>\n",
       "  </tbody>\n",
       "</table>\n",
       "<p>1 rows × 217 columns</p>\n",
       "</div>"
      ],
      "text/plain": [
       "   collection_id  cbcl01_id  dataset_id  \\\n",
       "0  collection_id  cbcl01_id  dataset_id   \n",
       "\n",
       "                                          subjectkey  \\\n",
       "0  The NDAR Global Unique Identifier (GUID) for r...   \n",
       "\n",
       "                               src_subject_id  \\\n",
       "0  Subject ID how it's defined in lab/project   \n",
       "\n",
       "                                      interview_date  \\\n",
       "0  Date on which the interview/genetic test/sampl...   \n",
       "\n",
       "                                       interview_age                 sex  \\\n",
       "0  Age in months at the time of the interview/tes...  Sex of the subject   \n",
       "\n",
       "                     sports_time1                sports_well1  ...  \\\n",
       "0  Amount of time spent on sport1  How well youth does sport1  ...   \n",
       "\n",
       "                 cbcl_deprpr_perc               cbcl_depresspr  \\\n",
       "0  Depressive Problems Percentile  Depressive Problems T Score   \n",
       "\n",
       "              cbcl_depresspr_raw               version_form  \\\n",
       "0  Depressive Problems Raw Score  Form used/assessment name   \n",
       "\n",
       "                                     cbclpre35_start  \\\n",
       "0  If your child gets into many fights, then desc...   \n",
       "\n",
       "                                          cbclpre100  \\\n",
       "0  Please write in any problems the child has tha...   \n",
       "\n",
       "                 abcl_other_total                          kkwithr  \\\n",
       "0  Total score for Other Problems  Withdrawn Depressed  Raw score    \n",
       "\n",
       "                   comqother  collection_title  \n",
       "0  Respondent - Other (text)  collection_title  \n",
       "\n",
       "[1 rows x 217 columns]"
      ]
     },
     "execution_count": 19,
     "metadata": {},
     "output_type": "execute_result"
    }
   ],
   "source": [
    "hcpd_header = pd.read_csv(\"/UTexas/HCP/HCPD/tabulated/cbcl01.txt\", sep=\"\\t\")[:1]\n",
    "hcpd_header"
   ]
  },
  {
   "cell_type": "code",
   "execution_count": 20,
   "id": "6ae4fffa",
   "metadata": {},
   "outputs": [
    {
     "name": "stdout",
     "output_type": "stream",
     "text": [
      "       collection_id:  collection_id\n",
      "           cbcl01_id:  cbcl01_id\n",
      "          dataset_id:  dataset_id\n",
      "          subjectkey:  The NDAR Global Unique Identifier (GUID) for research subject\n",
      "      src_subject_id:  Subject ID how it's defined in lab\n",
      "      interview_date:  Date on which the interview\n",
      "       interview_age:  Age in months at the time of the interview\n",
      "                 sex:  Sex of the subject\n",
      "        sports_time1:  Amount of time spent on sport1\n",
      "        sports_well1:  How well youth does sport1\n",
      "        sports_time2:  Amount of time spent on sport2\n",
      "        sports_well2:  How well youth does sport2\n",
      "        sports_time3:  Amount of time spent on sport3\n",
      "        sports_well3:  How well youth does sport3\n",
      "               cbcl1:  Acts too young for his\n",
      "               cbcl2:  Drinks alcohol without parents' approval\n",
      "               cbcl3:  Argues a lot\n",
      "               cbcl4:  Fails to finish things he\n",
      "               cbcl5:  There is very little he\n",
      "               cbcl6:  Bowel movements outside toilet\n",
      "               cbcl7:  Bragging, boasting\n",
      "               cbcl8:  Can't concentrate, can't pay attention for long \n",
      "               cbcl9:  Can't get his\n",
      "              cbcl10:  Can't sit still, restless, or hyperactive\n",
      "              cbcl11:  Clings to adults or too dependent\n",
      "              cbcl12:  Complains of loneliness \n",
      "              cbcl13:  Confused or seems to be in a fog\n",
      "              cbcl14:  Cries a lot\n",
      "              cbcl15:  Cruel to animals\n",
      "              cbcl16:  Cruelty, bullying, or meanness to others \n",
      "              cbcl17:  Daydreams or gets lost in his\n",
      "              cbcl18:  Deliberately harms self or attempts suicide\n",
      "              cbcl19:  Demands a lot of attention\n",
      "              cbcl20:  Destroys his\n",
      "              cbcl21:  Destroys things belonging to his\n",
      "              cbcl22:  Disobedient at home\n",
      "              cbcl23:  Disobedient at school\n",
      "              cbcl24:  Doesn't eat well \n",
      "              cbcl25:  Doesn't get along with other kids \n",
      "              cbcl26:  Doesn't seem to feel guilty after misbehaving \n",
      "              cbcl27:  Easily jealous \n",
      "              cbcl28:  Breaks rules at home, school or elsewhere  \n",
      "              cbcl29:  Fears certain animals, situations, or places, other than school \n",
      "              cbcl30:  Fears going to school \n",
      "              cbcl31:  Fears he\n",
      "              cbcl32:  Feels he\n",
      "              cbcl33:  Feels or complains that no one loves him\n",
      "              cbcl34:  Feels others are out to get him\n",
      "              cbcl35:  Feels worthless or inferior \n",
      "              cbcl36:  Gets hurt a lot, accident prone \n",
      "              cbcl37:  Gets in many fights \n",
      "              cbcl38:  Gets teased a lot \n",
      "              cbcl39:  Hangs around with others who get in trouble \n",
      "              cbcl40:  Hears sound or voices that aren't there \n",
      "              cbcl41:  Impulsive or acts without thinking \n",
      "              cbcl42:  Would rather be alone than with others \n",
      "              cbcl43:  Lying or cheating \n",
      "              cbcl44:  Bites fingernails \n",
      "              cbcl45:  Nervous, highstrung, or tense \n",
      "              cbcl46:  Nervous movements or twitching \n",
      "              cbcl47:  Nightmares \n",
      "              cbcl48:  Not liked by other kids \n",
      "              cbcl49:  Constipated, doesn't move bowels \n",
      "              cbcl50:  Too fearful or anxious \n",
      "              cbcl51:  Feels dizzy or lightheaded \n",
      "              cbcl52:  Feels too guilty \n",
      "              cbcl53:  Overeating \n",
      "              cbcl54:  Overtired without good reason \n",
      "              cbcl55:  Overweight \n",
      "             cbcl56a:  Aches or pains (not stomach or headaches) \n",
      "             cbcl56b:  Headaches \n",
      "             cbcl56c:  Nausea, feels sick \n",
      "             cbcl56d:  Problems with eyes (not if corrected by glasses)  \n",
      "             cbcl56e:  Rashes or other skin problems \n",
      "             cbcl56f:  Stomachaches \n",
      "             cbcl56g:  Vomiting, throwing up \n",
      "             cbcl56h:  Other (physical problems without known physical cause) \n",
      "              cbcl57:  Physically attacks people  \n",
      "              cbcl58:  Picks nose, skin, or other parts of body \n",
      "              cbcl59:  Plays with own sex parts in public \n",
      "              cbcl60:  Plays with own sex parts too much  \n",
      "              cbcl61:  Poor school work \n",
      "              cbcl62:  Poorly coordinated or clumsy \n",
      "              cbcl63:  Prefers being with older kids \n",
      "              cbcl64:  Prefers being with younger kids \n",
      "              cbcl65:  Refuses to talk \n",
      "              cbcl66:  Repeats certain acts over and over; compulsions \n",
      "              cbcl67:  Runs away from home \n",
      "              cbcl68:  Screams a lot  \n",
      "              cbcl69:  Secretive, keeps things to self \n",
      "              cbcl70:  Sees things that aren't there \n",
      "              cbcl71:  Self-conscious or easily embarrassed \n",
      "              cbcl72:  Sets fires \n",
      "              cbcl73:  Sexual problems \n",
      "              cbcl74:  Showing off or clowning \n",
      "              cbcl75:  Too shy or timid \n",
      "              cbcl76:  Sleeps less than most kids \n",
      "              cbcl77:  Sleeps more than most kids during day and\n",
      "              cbcl78:  Inattentive or easily distracted  \n",
      "              cbcl79:  Speech problem  \n",
      "              cbcl80:  Stares blankly \n",
      "              cbcl81:  Steals at home \n",
      "              cbcl82:  Steals outside the home \n",
      "              cbcl83:  Stores up too many things he\n",
      "              cbcl84:  Strange behavior \n",
      "              cbcl85:  Strange ideas \n",
      "              cbcl86:  Stubborn, sullen, or irritable \n",
      "              cbcl87:  Sudden changes in mood or feelings \n",
      "              cbcl88:  Sulks a lot \n",
      "              cbcl89:  Suspicious \n",
      "              cbcl90:  Swearing or obscene language \n",
      "              cbcl91:  Talks about killing self \n",
      "              cbcl92:  Talks or walks in sleep Habla o camina cuando estÃ¡ dormido(a)\n",
      "              cbcl93:  Talks too much \n",
      "              cbcl94:  Teases a lot \n",
      "              cbcl95:  Temper tantrums or hot temper \n",
      "              cbcl96:  Thinks about sex too much \n",
      "              cbcl97:  Threatens people \n",
      "              cbcl98:  Thumb-sucking \n",
      "              cbcl99:  Smokes, chews, or sniffs tobacco \n",
      "             cbcl100:  Trouble sleeping \n",
      "             cbcl101:  Truancy, skips school \n",
      "             cbcl102:  Underactive, slow moving, or lacks energy \n",
      "             cbcl103:  Unhappy, sad, or depressed \n",
      "             cbcl104:  Unusually loud \n",
      "             cbcl105:  Uses drugs for non medical purposes (don't include alcohol or tobacco) \n",
      "             cbcl106:  Vandalism \n",
      "             cbcl107:  Wets self during the day \n",
      "             cbcl108:  Wets the bed \n",
      "             cbcl109:  Whining \n",
      "             cbcl110:  Wishes to be of opposite sex \n",
      "             cbcl111:  Withdrawn, doesn't get involved with others \n",
      "             cbcl112:  Worries \n",
      "            cbcl113a:  a. Please write in any problems your child has that were not listed above\n",
      "            cbcl113b:  b. Please write in any problems your child has that were not listed above\n",
      "            cbcl113c:  c. Please write in any problems your child has that were not listed above\n",
      "  cbcl_emotional_raw:  Emotionally Reactive Raw Score\n",
      "      cbcl_emotional:  Emotionally Reactive T Score\n",
      "    cbcl_anxious_raw:  Anxious Depressed Raw Score\n",
      "        cbcl_anxious:  Anxious Depressed T Score\n",
      "  cbcl_somatic_c_raw:  Somatic Complaints Raw Score\n",
      "      cbcl_somatic_c:  Somatic Complaints T Score\n",
      "  cbcl_withdrawn_raw:  Withdrawn Raw Score\n",
      "      cbcl_withdrawn:  Withdrawn T Score\n",
      "      cbcl_sleep_raw:  Sleep Problems Raw Score\n",
      "          cbcl_sleep:  Sleep Problems T Score\n",
      "  cbcl_attention_raw:  Attention Problems Raw Score\n",
      "      cbcl_attention:  Attention Problems T Score\n",
      " cbcl_aggressive_raw:  Aggressive Behavior Raw Score\n",
      "     cbcl_aggressive:  Aggressive Behaviore T Score\n",
      "   cbcl_internal_raw:  Internalizing Problems Raw Score\n",
      "       cbcl_internal:  Internalizing Problems T Score\n",
      "   cbcl_external_raw:  Externalizing Problems Raw Score\n",
      "       cbcl_external:  Externalizing Problems T Score\n",
      "      cbcl_total_raw:  Total Problems Raw Score\n",
      "          cbcl_total:  Total Problems T Score\n",
      "  cbcl_affective_raw:  Affective Problems Raw Score\n",
      "      cbcl_affective:  Affective Problems T Score\n",
      "    cbcl_anxiety_raw:  Anxiety Problems Raw Score\n",
      "        cbcl_anxiety:  Anxiety Problems T Score\n",
      "  cbcl_pervasive_raw:  Pervasive Developmental Problems Raw Score\n",
      "      cbcl_pervasive:  Pervasive Developmental Problems T Score\n",
      "       cbcl_adhd_raw:  Attention Deficit\n",
      "           cbcl_adhd:  Attention Deficit\n",
      "cbcl_oppositional_raw:  Oppositional Defiant Problems Raw Score\n",
      "   cbcl_oppositional:  Oppositional Defiant Problems T Score\n",
      "   cbcl_social_p_raw:  Social Problems Raw Score\n",
      "       cbcl_social_p:  Social Problems T Score\n",
      "    cbcl_thought_raw:  Thought Problems Raw Score\n",
      "        cbcl_thought:  Thought Problems T Score\n",
      "  cbcl_rulebreak_raw:  Rule-Breaking Behavior Raw Score\n",
      "      cbcl_rulebreak:  Rule-Breaking Behavior T Score\n",
      " cbcl_activities_raw:  Activities Raw Score\n",
      "     cbcl_activities:  Activities T Score\n",
      "   cbcl_social_c_raw:  Social Raw Score\n",
      "       cbcl_social_c:  Social T Score\n",
      "     cbcl_school_raw:  School Raw Score\n",
      "         cbcl_school:  School T Score\n",
      "    cbcl_total_c_raw:  Total Competence Raw Score\n",
      "        cbcl_total_c:  Total Competence T Score\n",
      "  cbcl_somatic_p_raw:  Somatic Problems Raw Score\n",
      "      cbcl_somatic_p:  Somatic Problems T Score\n",
      "    cbcl_conduct_raw:  Conduct Problems Raw Score\n",
      "        cbcl_conduct:  Conduct Problems T Score\n",
      "        cbcl_sct_raw:  Sluggish Cognitive Tempo Raw Score\n",
      "            cbcl_sct:  Sluggish Cognitive Tempo T Score\n",
      "        cbcl_ocd_raw:  Obsessive-Compulsive Problems Raw Score\n",
      "            cbcl_ocd:  Obsessive-Compulsive Problems T Score\n",
      "       cbcl_ptsd_raw:  Post-Traumatic Stress Problems Raw Score\n",
      "           cbcl_ptsd:  Post-Traumatic Stress Problems T Score\n",
      "   cbcl_anxious_perc:  Anxious\n",
      " cbcl_somatic_c_perc:  Somatic Complaints Percentile\n",
      " cbcl_withdrawn_perc:  Withdrawn Percentile\n",
      " cbcl_attention_perc:  Attention Problems Percentile\n",
      "cbcl_aggressive_perc:  Aggressive Behavior Percentile\n",
      "  cbcl_internal_perc:  Internalizing Problems Percentile\n",
      "  cbcl_external_perc:  Externalizing Problems Percentile\n",
      "     cbcl_total_perc:  Total Problems Percentile\n",
      "   cbcl_anxiety_perc:  Anxiety Problems Percentile\n",
      "      cbcl_adhd_perc:  Attention Deficit\n",
      "cbcl_oppositional_perc:  Oppositional Defiant Problems Percentile\n",
      "  cbcl_social_p_perc:  Social Problems Percentile\n",
      "   cbcl_thought_perc:  Thought Problems Percentile\n",
      " cbcl_rulebreak_perc:  Rule-Breaking Behavior Percentile\n",
      " cbcl_somatic_p_perc:  Somatic Problems Percentile\n",
      "   cbcl_conduct_perc:  Conduct Problems Percentile\n",
      "       cbcl12_2_text:  Describe: Sexual problems\n",
      "    cbcl_deprpr_perc:  Depressive Problems Percentile\n",
      "      cbcl_depresspr:  Depressive Problems T Score\n",
      "  cbcl_depresspr_raw:  Depressive Problems Raw Score\n",
      "        version_form:  Form used\n",
      "     cbclpre35_start:  If your child gets into many fights, then describe who starts the fights\n",
      "          cbclpre100:  Please write in any problems the child has that were not listed above - are any present?\n",
      "    abcl_other_total:  Total score for Other Problems\n",
      "             kkwithr:  Withdrawn Depressed  Raw score \n",
      "           comqother:  Respondent - Other (text)\n",
      "    collection_title:  collection_title\n"
     ]
    }
   ],
   "source": [
    "for name, x in hcpd_header.items():\n",
    "    eng_description = x.iloc[0].split('/')[0]\n",
    "    print(f\"{name:>20}:  {eng_description}\")"
   ]
  },
  {
   "cell_type": "code",
   "execution_count": 21,
   "id": "73effd8d",
   "metadata": {},
   "outputs": [
    {
     "data": {
      "text/plain": [
       "(498, 217)"
      ]
     },
     "execution_count": 21,
     "metadata": {},
     "output_type": "execute_result"
    }
   ],
   "source": [
    "hcpd_cbcl_scores = pd.read_csv(\"/UTexas/HCP/HCPD/tabulated/cbcl01.txt\", sep=\"\\t\", skiprows=[1])\n",
    "hcpd_cbcl_scores.shape"
   ]
  },
  {
   "cell_type": "code",
   "execution_count": 22,
   "id": "2634f7a2",
   "metadata": {},
   "outputs": [],
   "source": [
    "# hcpd_cbcl_scores.interview_age.hist()"
   ]
  },
  {
   "cell_type": "code",
   "execution_count": 23,
   "id": "edf62a7b",
   "metadata": {},
   "outputs": [
    {
     "data": {
      "text/plain": [
       "(640, 1)"
      ]
     },
     "execution_count": 23,
     "metadata": {},
     "output_type": "execute_result"
    }
   ],
   "source": [
    "hcpd_wm_qc_passing_keys =  pd.read_csv(\"hcpd_wm_qc_passing_keys.txt\", header=None)\n",
    "hcpd_wm_qc_passing_keys.shape"
   ]
  },
  {
   "cell_type": "code",
   "execution_count": 24,
   "id": "d4e6f49c",
   "metadata": {},
   "outputs": [
    {
     "data": {
      "text/plain": [
       "(491, 217)"
      ]
     },
     "execution_count": 24,
     "metadata": {},
     "output_type": "execute_result"
    }
   ],
   "source": [
    "hcpd_baselines = hcpd_cbcl_scores[hcpd_cbcl_scores[\"src_subject_id\"].isin(hcpd_wm_qc_passing_keys[0])]\n",
    "hcpd_baselines.shape"
   ]
  },
  {
   "cell_type": "code",
   "execution_count": 25,
   "id": "c7adff00",
   "metadata": {},
   "outputs": [],
   "source": [
    "hcpd_cbcl_summary_scales = [\"cbcl_internal\", \"cbcl_external\",\"cbcl_total\"]\n",
    "\n",
    "\n",
    "hcpd_cbcl_syndrome_scales = [\"cbcl_anxious\", \"cbcl_depresspr\", \"cbcl_somatic_p\",\n",
    "                              \"cbcl_social_p\",\"cbcl_thought\", \"cbcl_attention\",\n",
    "                             \"cbcl_rulebreak\", \"cbcl_aggressive\"]"
   ]
  },
  {
   "cell_type": "code",
   "execution_count": 26,
   "id": "2d2de213",
   "metadata": {},
   "outputs": [
    {
     "data": {
      "text/plain": [
       "(418, 217)"
      ]
     },
     "execution_count": 26,
     "metadata": {},
     "output_type": "execute_result"
    }
   ],
   "source": [
    "# According to orignal CBCL paper: https://pedsinreview.aappublications.org/content/21/8/265\n",
    "# 67 ~= 96th Percentile\n",
    "INLIER_THRESH = 66\n",
    "summary_criteria = (hcpd_baselines[hcpd_cbcl_summary_scales] < INLIER_THRESH).all(axis=\"columns\")\n",
    "syndrome_criteria = (hcpd_baselines[hcpd_cbcl_syndrome_scales] < INLIER_THRESH).all(axis=\"columns\")\n",
    "inlier_criteria = summary_criteria & syndrome_criteria\n",
    "hcpd_inliers = hcpd_baselines[inlier_criteria]\n",
    "hcpd_inliers.shape"
   ]
  },
  {
   "cell_type": "code",
   "execution_count": 27,
   "id": "6600e8ac",
   "metadata": {},
   "outputs": [
    {
     "data": {
      "image/png": "[encoded data removed]",
      "text/plain": [
       "<Figure size 1600x1200 with 20 Axes>"
      ]
     },
     "metadata": {},
     "output_type": "display_data"
    }
   ],
   "source": [
    "hcpd_inliers[hcpd_cbcl_summary_scales].hist(figsize=(16,12), layout=(4,5))\n",
    "plt.show()"
   ]
  },
  {
   "cell_type": "code",
   "execution_count": 28,
   "id": "d43dc1d6",
   "metadata": {},
   "outputs": [
    {
     "data": {
      "text/plain": [
       "(2, 217)"
      ]
     },
     "execution_count": 28,
     "metadata": {},
     "output_type": "execute_result"
    }
   ],
   "source": [
    "# 70 ~= 98th Percentile\n",
    "OUTLIER_THRESH = 70\n",
    "summary_criteria = (hcpd_baselines[hcpd_cbcl_summary_scales] > OUTLIER_THRESH).any(axis=\"columns\") # In any  \n",
    "syndrome_criteria = (hcpd_baselines[hcpd_cbcl_syndrome_scales] > OUTLIER_THRESH).sum(axis=\"columns\") >= 2\n",
    "outlier_criteria = summary_criteria | syndrome_criteria\n",
    "hcpd_outliers = hcpd_baselines[outlier_criteria]\n",
    "hcpd_outliers.shape"
   ]
  },
  {
   "cell_type": "code",
   "execution_count": 29,
   "id": "460ee0a8",
   "metadata": {},
   "outputs": [
    {
     "data": {
      "image/png": "[encoded data removed]",
      "text/plain": [
       "<Figure size 1600x1200 with 20 Axes>"
      ]
     },
     "metadata": {},
     "output_type": "display_data"
    }
   ],
   "source": [
    "hcpd_outliers[hcpd_cbcl_summary_scales].hist(figsize=(16,12), layout=(4,5))\n",
    "plt.show()"
   ]
  },
  {
   "cell_type": "code",
   "execution_count": 30,
   "id": "ef667d43",
   "metadata": {},
   "outputs": [
    {
     "name": "stdout",
     "output_type": "stream",
     "text": [
      "Number inliers: 1650\n",
      "Number outliers: 37\n"
     ]
    }
   ],
   "source": [
    "inlier_keys = pd.concat((abcd_inliers[\"subjectkey\"] , hcpd_inliers[\"src_subject_id\"]))\n",
    "outlier_keys = pd.concat((abcd_outliers[\"subjectkey\"] , hcpd_outliers[\"src_subject_id\"]))\n",
    "print(f\"Number inliers: {len(inlier_keys)}\")\n",
    "print(f\"Number outliers: {len(outlier_keys)}\")"
   ]
  },
  {
   "cell_type": "code",
   "execution_count": 31,
   "id": "038afed3",
   "metadata": {},
   "outputs": [],
   "source": [
    "VAL_RATIO = 0.1\n",
    "val_size = int(VAL_RATIO * len(inlier_keys))\n",
    "np.random.seed(42)\n",
    "inlier_keys_shuffled = inlier_keys.sample(frac=1, random_state=42)\n",
    "\n",
    "validation = inlier_keys_shuffled.iloc[:val_size]\n",
    "testing = inlier_keys_shuffled.iloc[val_size:val_size*2]\n",
    "training = inlier_keys_shuffled.iloc[val_size*2:]"
   ]
  },
  {
   "cell_type": "code",
   "execution_count": 32,
   "id": "cb23fa80",
   "metadata": {},
   "outputs": [
    {
     "data": {
      "text/plain": [
       "((1320,), (165,), (165,))"
      ]
     },
     "execution_count": 32,
     "metadata": {},
     "output_type": "execute_result"
    }
   ],
   "source": [
    "assert np.sum((training.shape, validation.shape, testing.shape)) == inlier_keys.shape[0]\n",
    "training.shape, validation.shape, testing.shape"
   ]
  },
  {
   "cell_type": "code",
   "execution_count": 34,
   "id": "23e2d362",
   "metadata": {},
   "outputs": [],
   "source": [
    "training.to_csv(\"train_keys.txt\", header=None, index=None)\n",
    "validation.to_csv(\"val_keys.txt\", header=None, index=None)\n",
    "testing.to_csv(\"test_keys.txt\", header=None, index=None)\n",
    "outlier_keys.to_csv(\"ood_keys.txt\", header=None, index=None)"
   ]
  },
  {
   "cell_type": "code",
   "execution_count": null,
   "id": "d35d6992",
   "metadata": {},
   "outputs": [],
   "source": []
  }
 ],
 "metadata": {
  "kernelspec": {
   "display_name": "Python 3 (ipykernel)",
   "language": "python",
   "name": "python3"
  },
  "language_info": {
   "codemirror_mode": {
    "name": "ipython",
    "version": 3
   },
   "file_extension": ".py",
   "mimetype": "text/x-python",
   "name": "python",
   "nbconvert_exporter": "python",
   "pygments_lexer": "ipython3",
   "version": "3.8.10"
  }
 },
 "nbformat": 4,
 "nbformat_minor": 5
}
