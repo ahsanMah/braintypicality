{
 "cells": [
  {
   "cell_type": "code",
   "execution_count": 2,
   "id": "cac6341a-380c-43b7-ac5d-03de13cd2c67",
   "metadata": {},
   "outputs": [],
   "source": [
    "import re\n",
    "import pandas as pd\n",
    "import numpy as np\n",
    "import seaborn as sns\n",
    "import matplotlib.pyplot as plt\n",
    "\n",
    "np.random.seed(seed=42) "
   ]
  },
  {
   "cell_type": "code",
   "execution_count": 3,
   "id": "bf1e0230-8908-423c-a674-84abe132a8c4",
   "metadata": {},
   "outputs": [],
   "source": [
    "DATADIR = \"/DATA/ABCDFixRelease\"\n",
    "TASKDIR = \"/DATA/ABCDTasks\""
   ]
  },
  {
   "cell_type": "code",
   "execution_count": 4,
   "id": "93c9cf67-7ce9-42ef-bafb-aa55961cba68",
   "metadata": {},
   "outputs": [
    {
     "data": {
      "text/plain": [
       "(11556,)"
      ]
     },
     "execution_count": 4,
     "metadata": {},
     "output_type": "execute_result"
    }
   ],
   "source": [
    "qc_raw = pd.read_csv(f\"{DATADIR}/freesqc01.txt\", sep=\"\\t\", skiprows=[1])\n",
    "qc_raw[\"subjectkey\"].unique().shape"
   ]
  },
  {
   "cell_type": "code",
   "execution_count": 5,
   "id": "9f8c9bc0-3314-4f77-9958-65a90557806d",
   "metadata": {},
   "outputs": [
    {
     "data": {
      "text/plain": [
       "(10406, 22)"
      ]
     },
     "execution_count": 5,
     "metadata": {},
     "output_type": "execute_result"
    }
   ],
   "source": [
    "passed = qc_raw[qc_raw[\"fsqc_qc\"] == 1]\n",
    "passed_pial = passed[passed[\"fsqc_qu_pialover\"] < 2]\n",
    "passed_pial_wm = passed_pial[passed_pial[\"fsqc_qu_wmunder\"] < 2]\n",
    "passed_pial_wm.shape"
   ]
  },
  {
   "cell_type": "code",
   "execution_count": 6,
   "id": "68f7d8b2-9d81-4f44-b31e-b442a02b00fd",
   "metadata": {},
   "outputs": [
    {
     "data": {
      "text/plain": [
       "(10387, 23)"
      ]
     },
     "execution_count": 6,
     "metadata": {},
     "output_type": "execute_result"
    }
   ],
   "source": [
    "mri_raw = pd.read_csv(f\"{DATADIR}/abcd_mri01.txt\", sep=\"\\t\", skiprows=[1])\n",
    "\n",
    "final_qc = mri_raw[[\"subjectkey\", \"mri_info_deviceserialnumber\"]].merge(passed_pial_wm, how=\"inner\", on=\"subjectkey\")\n",
    "scanner_counts = final_qc[\"mri_info_deviceserialnumber\"].value_counts()\n",
    "scanner_qc = scanner_counts[scanner_counts > 20].index\n",
    "final_qc = final_qc[final_qc[\"mri_info_deviceserialnumber\"].isin(scanner_qc)]\n",
    "final_qc.shape"
   ]
  },
  {
   "cell_type": "markdown",
   "id": "f5f2f3b9-393e-41c7-b762-a4f5ddbc0b0f",
   "metadata": {},
   "source": [
    "## CBCL Distribution"
   ]
  },
  {
   "cell_type": "code",
   "execution_count": 7,
   "id": "d2ec2711-2880-4db1-b25f-fefaf2d10d93",
   "metadata": {},
   "outputs": [
    {
     "name": "stderr",
     "output_type": "stream",
     "text": [
      "/opt/conda/lib/python3.7/site-packages/IPython/core/interactiveshell.py:3437: DtypeWarning: Columns (0,1,2,6,9,10,11,12,13,14,15,16,17,18,19,20,21,22,23,24,25,26,27,28,29,30,31,32,33,34,35,36,37,38,39,40,41,42,43,44,45,46,47,48,49,50,51,52,53,54,55,56,57,58,59,60,61,62,63,64,65,66,67,68,69,70,71,72,73,74,75,76,77,78,79,80,81,82,83,84,85,86,87,88) have mixed types.Specify dtype option on import or set low_memory=False.\n",
      "  exec(code_obj, self.user_global_ns, self.user_ns)\n"
     ]
    },
    {
     "data": {
      "text/html": [
       "<div>\n",
       "<style scoped>\n",
       "    .dataframe tbody tr th:only-of-type {\n",
       "        vertical-align: middle;\n",
       "    }\n",
       "\n",
       "    .dataframe tbody tr th {\n",
       "        vertical-align: top;\n",
       "    }\n",
       "\n",
       "    .dataframe thead th {\n",
       "        text-align: right;\n",
       "    }\n",
       "</style>\n",
       "<table border=\"1\" class=\"dataframe\">\n",
       "  <thead>\n",
       "    <tr style=\"text-align: right;\">\n",
       "      <th></th>\n",
       "      <th>collection_id</th>\n",
       "      <th>abcd_cbcls01_id</th>\n",
       "      <th>dataset_id</th>\n",
       "      <th>subjectkey</th>\n",
       "      <th>src_subject_id</th>\n",
       "      <th>interview_date</th>\n",
       "      <th>interview_age</th>\n",
       "      <th>sex</th>\n",
       "      <th>eventname</th>\n",
       "      <th>cbcl_scr_syn_anxdep_r</th>\n",
       "      <th>...</th>\n",
       "      <th>cbcl_scr_07_sct_nm</th>\n",
       "      <th>cbcl_scr_07_ocd_r</th>\n",
       "      <th>cbcl_scr_07_ocd_t</th>\n",
       "      <th>cbcl_scr_07_ocd_m</th>\n",
       "      <th>cbcl_scr_07_ocd_nm</th>\n",
       "      <th>cbcl_scr_07_stress_r</th>\n",
       "      <th>cbcl_scr_07_stress_t</th>\n",
       "      <th>cbcl_scr_07_stress_m</th>\n",
       "      <th>cbcl_scr_07_stress_nm</th>\n",
       "      <th>collection_title</th>\n",
       "    </tr>\n",
       "  </thead>\n",
       "  <tbody>\n",
       "    <tr>\n",
       "      <th>0</th>\n",
       "      <td>collection_id</td>\n",
       "      <td>abcd_cbcls01_id</td>\n",
       "      <td>dataset_id</td>\n",
       "      <td>The NDAR Global Unique Identifier (GUID) for r...</td>\n",
       "      <td>Subject ID how it's defined in lab/project</td>\n",
       "      <td>Date on which the interview/genetic test/sampl...</td>\n",
       "      <td>Age in months at the time of the interview/tes...</td>\n",
       "      <td>Sex of the subject</td>\n",
       "      <td>The event name for which the data was collected</td>\n",
       "      <td>AnxDep CBCL Syndrome Scale (raw score)</td>\n",
       "      <td>...</td>\n",
       "      <td>Sluggish Cognitive Tempo (SCT) CBCL Scale2007 ...</td>\n",
       "      <td>Obsessive-Compulsive Problems (OCD) CBCL Scale...</td>\n",
       "      <td>Obsessive-Compulsive Problems (OCD) CBCL Scale...</td>\n",
       "      <td>Obsessive-Compulsive Problems (OCD) CBCL Scale...</td>\n",
       "      <td>Obsessive-Compulsive Problems (OCD) CBCL Scale...</td>\n",
       "      <td>Stress CBCL Scale2007 Scale (raw score)</td>\n",
       "      <td>Stress CBCL Scale2007 Scale (t-score)</td>\n",
       "      <td>Stress CBCL Scale2007 Scale (missing values)</td>\n",
       "      <td>Stress CBCL Scale2007 Scale (number of missing...</td>\n",
       "      <td>collection_title</td>\n",
       "    </tr>\n",
       "  </tbody>\n",
       "</table>\n",
       "<p>1 rows × 90 columns</p>\n",
       "</div>"
      ],
      "text/plain": [
       "   collection_id  abcd_cbcls01_id  dataset_id  \\\n",
       "0  collection_id  abcd_cbcls01_id  dataset_id   \n",
       "\n",
       "                                          subjectkey  \\\n",
       "0  The NDAR Global Unique Identifier (GUID) for r...   \n",
       "\n",
       "                               src_subject_id  \\\n",
       "0  Subject ID how it's defined in lab/project   \n",
       "\n",
       "                                      interview_date  \\\n",
       "0  Date on which the interview/genetic test/sampl...   \n",
       "\n",
       "                                       interview_age                 sex  \\\n",
       "0  Age in months at the time of the interview/tes...  Sex of the subject   \n",
       "\n",
       "                                         eventname  \\\n",
       "0  The event name for which the data was collected   \n",
       "\n",
       "                    cbcl_scr_syn_anxdep_r  ...  \\\n",
       "0  AnxDep CBCL Syndrome Scale (raw score)  ...   \n",
       "\n",
       "                                  cbcl_scr_07_sct_nm  \\\n",
       "0  Sluggish Cognitive Tempo (SCT) CBCL Scale2007 ...   \n",
       "\n",
       "                                   cbcl_scr_07_ocd_r  \\\n",
       "0  Obsessive-Compulsive Problems (OCD) CBCL Scale...   \n",
       "\n",
       "                                   cbcl_scr_07_ocd_t  \\\n",
       "0  Obsessive-Compulsive Problems (OCD) CBCL Scale...   \n",
       "\n",
       "                                   cbcl_scr_07_ocd_m  \\\n",
       "0  Obsessive-Compulsive Problems (OCD) CBCL Scale...   \n",
       "\n",
       "                                  cbcl_scr_07_ocd_nm  \\\n",
       "0  Obsessive-Compulsive Problems (OCD) CBCL Scale...   \n",
       "\n",
       "                      cbcl_scr_07_stress_r  \\\n",
       "0  Stress CBCL Scale2007 Scale (raw score)   \n",
       "\n",
       "                    cbcl_scr_07_stress_t  \\\n",
       "0  Stress CBCL Scale2007 Scale (t-score)   \n",
       "\n",
       "                           cbcl_scr_07_stress_m  \\\n",
       "0  Stress CBCL Scale2007 Scale (missing values)   \n",
       "\n",
       "                               cbcl_scr_07_stress_nm  collection_title  \n",
       "0  Stress CBCL Scale2007 Scale (number of missing...  collection_title  \n",
       "\n",
       "[1 rows x 90 columns]"
      ]
     },
     "execution_count": 7,
     "metadata": {},
     "output_type": "execute_result"
    }
   ],
   "source": [
    "header = pd.read_csv(f\"{TASKDIR}/abcd_cbcls01.txt\", sep=\"\\t\")[:1]\n",
    "header"
   ]
  },
  {
   "cell_type": "code",
   "execution_count": 8,
   "id": "5437e8fb-9e19-48e5-ae57-ae421b089c04",
   "metadata": {},
   "outputs": [
    {
     "name": "stderr",
     "output_type": "stream",
     "text": [
      "/opt/conda/lib/python3.7/site-packages/IPython/core/interactiveshell.py:3437: DtypeWarning: Columns (11,15,19,23,27,31,35,39,43,47,51,55,59,63,67,71,75,79,83,87) have mixed types.Specify dtype option on import or set low_memory=False.\n",
      "  exec(code_obj, self.user_global_ns, self.user_ns)\n"
     ]
    },
    {
     "data": {
      "text/html": [
       "<div>\n",
       "<style scoped>\n",
       "    .dataframe tbody tr th:only-of-type {\n",
       "        vertical-align: middle;\n",
       "    }\n",
       "\n",
       "    .dataframe tbody tr th {\n",
       "        vertical-align: top;\n",
       "    }\n",
       "\n",
       "    .dataframe thead th {\n",
       "        text-align: right;\n",
       "    }\n",
       "</style>\n",
       "<table border=\"1\" class=\"dataframe\">\n",
       "  <thead>\n",
       "    <tr style=\"text-align: right;\">\n",
       "      <th></th>\n",
       "      <th>collection_id</th>\n",
       "      <th>abcd_cbcls01_id</th>\n",
       "      <th>dataset_id</th>\n",
       "      <th>subjectkey</th>\n",
       "      <th>src_subject_id</th>\n",
       "      <th>interview_date</th>\n",
       "      <th>interview_age</th>\n",
       "      <th>sex</th>\n",
       "      <th>eventname</th>\n",
       "      <th>cbcl_scr_syn_anxdep_r</th>\n",
       "      <th>...</th>\n",
       "      <th>cbcl_scr_07_sct_nm</th>\n",
       "      <th>cbcl_scr_07_ocd_r</th>\n",
       "      <th>cbcl_scr_07_ocd_t</th>\n",
       "      <th>cbcl_scr_07_ocd_m</th>\n",
       "      <th>cbcl_scr_07_ocd_nm</th>\n",
       "      <th>cbcl_scr_07_stress_r</th>\n",
       "      <th>cbcl_scr_07_stress_t</th>\n",
       "      <th>cbcl_scr_07_stress_m</th>\n",
       "      <th>cbcl_scr_07_stress_nm</th>\n",
       "      <th>collection_title</th>\n",
       "    </tr>\n",
       "  </thead>\n",
       "  <tbody>\n",
       "    <tr>\n",
       "      <th>16821</th>\n",
       "      <td>2573</td>\n",
       "      <td>30568</td>\n",
       "      <td>19025</td>\n",
       "      <td>NDAR_INV0PRHUTZA</td>\n",
       "      <td>NDAR_INV0PRHUTZA</td>\n",
       "      <td>11/17/2016</td>\n",
       "      <td>129</td>\n",
       "      <td>M</td>\n",
       "      <td>baseline_year_1_arm_1</td>\n",
       "      <td>1.0</td>\n",
       "      <td>...</td>\n",
       "      <td>0.0</td>\n",
       "      <td>1.0</td>\n",
       "      <td>51.0</td>\n",
       "      <td>NaN</td>\n",
       "      <td>0.0</td>\n",
       "      <td>0.0</td>\n",
       "      <td>50.0</td>\n",
       "      <td>NaN</td>\n",
       "      <td>0.0</td>\n",
       "      <td>Adolescent Brain Cognitive Development Study (...</td>\n",
       "    </tr>\n",
       "    <tr>\n",
       "      <th>16822</th>\n",
       "      <td>2573</td>\n",
       "      <td>33179</td>\n",
       "      <td>19025</td>\n",
       "      <td>NDAR_INV20NDWAH8</td>\n",
       "      <td>NDAR_INV20NDWAH8</td>\n",
       "      <td>11/05/2017</td>\n",
       "      <td>115</td>\n",
       "      <td>M</td>\n",
       "      <td>baseline_year_1_arm_1</td>\n",
       "      <td>7.0</td>\n",
       "      <td>...</td>\n",
       "      <td>0.0</td>\n",
       "      <td>6.0</td>\n",
       "      <td>70.0</td>\n",
       "      <td>NaN</td>\n",
       "      <td>0.0</td>\n",
       "      <td>7.0</td>\n",
       "      <td>62.0</td>\n",
       "      <td>NaN</td>\n",
       "      <td>0.0</td>\n",
       "      <td>Adolescent Brain Cognitive Development Study (...</td>\n",
       "    </tr>\n",
       "    <tr>\n",
       "      <th>16823</th>\n",
       "      <td>2573</td>\n",
       "      <td>34181</td>\n",
       "      <td>19025</td>\n",
       "      <td>NDAR_INVA4EVCYRA</td>\n",
       "      <td>NDAR_INVA4EVCYRA</td>\n",
       "      <td>03/04/2017</td>\n",
       "      <td>113</td>\n",
       "      <td>M</td>\n",
       "      <td>baseline_year_1_arm_1</td>\n",
       "      <td>3.0</td>\n",
       "      <td>...</td>\n",
       "      <td>0.0</td>\n",
       "      <td>2.0</td>\n",
       "      <td>55.0</td>\n",
       "      <td>NaN</td>\n",
       "      <td>0.0</td>\n",
       "      <td>7.0</td>\n",
       "      <td>62.0</td>\n",
       "      <td>NaN</td>\n",
       "      <td>0.0</td>\n",
       "      <td>Adolescent Brain Cognitive Development Study (...</td>\n",
       "    </tr>\n",
       "    <tr>\n",
       "      <th>16824</th>\n",
       "      <td>2573</td>\n",
       "      <td>33205</td>\n",
       "      <td>19025</td>\n",
       "      <td>NDAR_INV24BT0Y26</td>\n",
       "      <td>NDAR_INV24BT0Y26</td>\n",
       "      <td>12/04/2017</td>\n",
       "      <td>113</td>\n",
       "      <td>M</td>\n",
       "      <td>baseline_year_1_arm_1</td>\n",
       "      <td>1.0</td>\n",
       "      <td>...</td>\n",
       "      <td>0.0</td>\n",
       "      <td>1.0</td>\n",
       "      <td>51.0</td>\n",
       "      <td>NaN</td>\n",
       "      <td>0.0</td>\n",
       "      <td>0.0</td>\n",
       "      <td>50.0</td>\n",
       "      <td>NaN</td>\n",
       "      <td>0.0</td>\n",
       "      <td>Adolescent Brain Cognitive Development Study (...</td>\n",
       "    </tr>\n",
       "    <tr>\n",
       "      <th>16825</th>\n",
       "      <td>2573</td>\n",
       "      <td>35228</td>\n",
       "      <td>19025</td>\n",
       "      <td>NDAR_INVCY51KY08</td>\n",
       "      <td>NDAR_INVCY51KY08</td>\n",
       "      <td>11/20/2017</td>\n",
       "      <td>118</td>\n",
       "      <td>M</td>\n",
       "      <td>baseline_year_1_arm_1</td>\n",
       "      <td>15.0</td>\n",
       "      <td>...</td>\n",
       "      <td>0.0</td>\n",
       "      <td>6.0</td>\n",
       "      <td>70.0</td>\n",
       "      <td>NaN</td>\n",
       "      <td>0.0</td>\n",
       "      <td>10.0</td>\n",
       "      <td>68.0</td>\n",
       "      <td>NaN</td>\n",
       "      <td>0.0</td>\n",
       "      <td>Adolescent Brain Cognitive Development Study (...</td>\n",
       "    </tr>\n",
       "  </tbody>\n",
       "</table>\n",
       "<p>5 rows × 90 columns</p>\n",
       "</div>"
      ],
      "text/plain": [
       "       collection_id  abcd_cbcls01_id  dataset_id        subjectkey  \\\n",
       "16821           2573            30568       19025  NDAR_INV0PRHUTZA   \n",
       "16822           2573            33179       19025  NDAR_INV20NDWAH8   \n",
       "16823           2573            34181       19025  NDAR_INVA4EVCYRA   \n",
       "16824           2573            33205       19025  NDAR_INV24BT0Y26   \n",
       "16825           2573            35228       19025  NDAR_INVCY51KY08   \n",
       "\n",
       "         src_subject_id interview_date  interview_age sex  \\\n",
       "16821  NDAR_INV0PRHUTZA     11/17/2016            129   M   \n",
       "16822  NDAR_INV20NDWAH8     11/05/2017            115   M   \n",
       "16823  NDAR_INVA4EVCYRA     03/04/2017            113   M   \n",
       "16824  NDAR_INV24BT0Y26     12/04/2017            113   M   \n",
       "16825  NDAR_INVCY51KY08     11/20/2017            118   M   \n",
       "\n",
       "                   eventname  cbcl_scr_syn_anxdep_r  ...  cbcl_scr_07_sct_nm  \\\n",
       "16821  baseline_year_1_arm_1                    1.0  ...                 0.0   \n",
       "16822  baseline_year_1_arm_1                    7.0  ...                 0.0   \n",
       "16823  baseline_year_1_arm_1                    3.0  ...                 0.0   \n",
       "16824  baseline_year_1_arm_1                    1.0  ...                 0.0   \n",
       "16825  baseline_year_1_arm_1                   15.0  ...                 0.0   \n",
       "\n",
       "      cbcl_scr_07_ocd_r  cbcl_scr_07_ocd_t  cbcl_scr_07_ocd_m  \\\n",
       "16821               1.0               51.0                NaN   \n",
       "16822               6.0               70.0                NaN   \n",
       "16823               2.0               55.0                NaN   \n",
       "16824               1.0               51.0                NaN   \n",
       "16825               6.0               70.0                NaN   \n",
       "\n",
       "       cbcl_scr_07_ocd_nm cbcl_scr_07_stress_r  cbcl_scr_07_stress_t  \\\n",
       "16821                 0.0                  0.0                  50.0   \n",
       "16822                 0.0                  7.0                  62.0   \n",
       "16823                 0.0                  7.0                  62.0   \n",
       "16824                 0.0                  0.0                  50.0   \n",
       "16825                 0.0                 10.0                  68.0   \n",
       "\n",
       "       cbcl_scr_07_stress_m  cbcl_scr_07_stress_nm  \\\n",
       "16821                   NaN                    0.0   \n",
       "16822                   NaN                    0.0   \n",
       "16823                   NaN                    0.0   \n",
       "16824                   NaN                    0.0   \n",
       "16825                   NaN                    0.0   \n",
       "\n",
       "                                        collection_title  \n",
       "16821  Adolescent Brain Cognitive Development Study (...  \n",
       "16822  Adolescent Brain Cognitive Development Study (...  \n",
       "16823  Adolescent Brain Cognitive Development Study (...  \n",
       "16824  Adolescent Brain Cognitive Development Study (...  \n",
       "16825  Adolescent Brain Cognitive Development Study (...  \n",
       "\n",
       "[5 rows x 90 columns]"
      ]
     },
     "execution_count": 8,
     "metadata": {},
     "output_type": "execute_result"
    }
   ],
   "source": [
    "raw = pd.read_csv(f\"{TASKDIR}/abcd_cbcls01.txt\", sep=\"\\t\", skiprows=[1])\n",
    "raw.tail()"
   ]
  },
  {
   "cell_type": "code",
   "execution_count": 9,
   "id": "84e05319-354d-4a19-8390-fc92f000f06d",
   "metadata": {},
   "outputs": [],
   "source": [
    "baselines = raw.query(\"eventname == 'baseline_year_1_arm_1'\")\n",
    "assert baselines.shape[0] == raw[\"subjectkey\"].unique().shape[0]"
   ]
  },
  {
   "cell_type": "code",
   "execution_count": 10,
   "id": "fb1e55d1-bafa-4275-a234-815ac73bc71a",
   "metadata": {},
   "outputs": [
    {
     "data": {
      "text/plain": [
       "(10387, 90)"
      ]
     },
     "execution_count": 10,
     "metadata": {},
     "output_type": "execute_result"
    }
   ],
   "source": [
    "qc_passed = final_qc['subjectkey']\n",
    "baselines = baselines[baselines[\"subjectkey\"].isin(qc_passed)]\n",
    "baselines.shape"
   ]
  },
  {
   "cell_type": "code",
   "execution_count": 11,
   "id": "50a052d9-8af4-4ce0-b7ac-d54012b40c20",
   "metadata": {},
   "outputs": [
    {
     "data": {
      "text/plain": [
       "['cbcl_scr_syn_anxdep_t',\n",
       " 'cbcl_scr_syn_withdep_t',\n",
       " 'cbcl_scr_syn_somatic_t',\n",
       " 'cbcl_scr_syn_social_t',\n",
       " 'cbcl_scr_syn_thought_t',\n",
       " 'cbcl_scr_syn_attention_t',\n",
       " 'cbcl_scr_syn_rulebreak_t',\n",
       " 'cbcl_scr_syn_aggressive_t',\n",
       " 'cbcl_scr_syn_internal_t',\n",
       " 'cbcl_scr_syn_external_t',\n",
       " 'cbcl_scr_syn_totprob_t']"
      ]
     },
     "execution_count": 11,
     "metadata": {},
     "output_type": "execute_result"
    }
   ],
   "source": [
    "t_score_cols = [x for x in raw.columns if re.match(\"cbcl_scr_syn_.*_t$\", x)]\n",
    "t_score_cols"
   ]
  },
  {
   "cell_type": "code",
   "execution_count": 12,
   "id": "68b8b473-8869-476f-8c33-a87a0b94df6d",
   "metadata": {},
   "outputs": [],
   "source": [
    "summary_scales = [\n",
    "  'cbcl_scr_syn_internal_t',\n",
    "  'cbcl_scr_syn_external_t',\n",
    "  'cbcl_scr_syn_totprob_t'\n",
    "]\n",
    "syndrome_scales = [\n",
    " 'cbcl_scr_syn_anxdep_t',\n",
    " 'cbcl_scr_syn_withdep_t',\n",
    " 'cbcl_scr_syn_somatic_t',\n",
    " 'cbcl_scr_syn_social_t',\n",
    " 'cbcl_scr_syn_thought_t',\n",
    " 'cbcl_scr_syn_attention_t',\n",
    " 'cbcl_scr_syn_rulebreak_t',\n",
    " 'cbcl_scr_syn_aggressive_t',\n",
    " \n",
    "]"
   ]
  },
  {
   "cell_type": "code",
   "execution_count": 13,
   "id": "8dd6c985-52d5-48a9-8adf-0f9a0879f751",
   "metadata": {},
   "outputs": [],
   "source": [
    "# header[t_score_cols].to_csv(\"scales.txt\", header=None, index=False, sep=\"\\n\")"
   ]
  },
  {
   "cell_type": "code",
   "execution_count": 15,
   "id": "78d47812-544a-4579-a1f1-a32f14a287d7",
   "metadata": {},
   "outputs": [
    {
     "data": {
      "image/png": "[encoded data removed]",
      "text/plain": [
       "<Figure size 1152x864 with 20 Axes>"
      ]
     },
     "metadata": {
      "needs_background": "light"
     },
     "output_type": "display_data"
    }
   ],
   "source": [
    "cbcl_scores = baselines[t_score_cols].copy()\n",
    "right_tail = cbcl_scores[cbcl_scores > 51]\n",
    "axs = right_tail.hist(figsize=(16,12), layout=(4,5))\n",
    "# for ax in axs.flatten():\n",
    "#     ax.set_xlim(55,None)\n",
    "# plt.xlim(51,None)\n",
    "plt.show()"
   ]
  },
  {
   "cell_type": "code",
   "execution_count": 14,
   "id": "bc3396f6-7259-441d-a657-42d9cca18ea0",
   "metadata": {},
   "outputs": [
    {
     "data": {
      "text/plain": [
       "(10387, 11)"
      ]
     },
     "execution_count": 14,
     "metadata": {},
     "output_type": "execute_result"
    }
   ],
   "source": [
    "cbcl_scores.shape"
   ]
  },
  {
   "cell_type": "code",
   "execution_count": 16,
   "id": "8e815d16-cbb7-4f0b-a63d-f04091f619e1",
   "metadata": {},
   "outputs": [
    {
     "data": {
      "text/plain": [
       "(8030, 90)"
      ]
     },
     "execution_count": 16,
     "metadata": {},
     "output_type": "execute_result"
    }
   ],
   "source": [
    "# According to orignal CBCL paper: https://pedsinreview.aappublications.org/content/21/8/265\n",
    "# 67 ~= 96th Percentile\n",
    "INLIER_THRESH = 66\n",
    "summary_criteria = (cbcl_scores[summary_scales] < INLIER_THRESH).all(axis=\"columns\")\n",
    "syndrome_criteria = (cbcl_scores[syndrome_scales] < INLIER_THRESH).all(axis=\"columns\") #.sum(axis=\"columns\") <= 1\n",
    "inlier_criteria = summary_criteria & syndrome_criteria\n",
    "inliers = baselines[inlier_criteria]\n",
    "inliers.shape"
   ]
  },
  {
   "cell_type": "code",
   "execution_count": 17,
   "id": "14e35512-3d94-4262-bbf2-fbc9c89a5792",
   "metadata": {},
   "outputs": [
    {
     "data": {
      "text/plain": [
       "(9368, 8035)"
      ]
     },
     "execution_count": 17,
     "metadata": {},
     "output_type": "execute_result"
    }
   ],
   "source": [
    "summary_criteria.sum(), syndrome_criteria.sum()"
   ]
  },
  {
   "cell_type": "code",
   "execution_count": 18,
   "id": "3e45d705-cff8-437c-af15-85d8ffef8338",
   "metadata": {},
   "outputs": [
    {
     "data": {
      "text/plain": [
       "(518, 90)"
      ]
     },
     "execution_count": 18,
     "metadata": {},
     "output_type": "execute_result"
    }
   ],
   "source": [
    "# 70 ~= 98th Percentile\n",
    "OUTLIER_THRESH = 70\n",
    "summary_criteria = (cbcl_scores[summary_scales] > OUTLIER_THRESH).any(axis=\"columns\") # In any  \n",
    "syndrome_criteria = (cbcl_scores[syndrome_scales] > OUTLIER_THRESH).sum(axis=\"columns\") >= 2\n",
    "outlier_criteria = summary_criteria | syndrome_criteria\n",
    "outliers = baselines[outlier_criteria]\n",
    "outliers.shape"
   ]
  },
  {
   "cell_type": "code",
   "execution_count": 19,
   "id": "dd9eabec-41d6-45bd-ba90-ec5616c93ef6",
   "metadata": {},
   "outputs": [
    {
     "data": {
      "text/plain": [
       "(475, 340)"
      ]
     },
     "execution_count": 19,
     "metadata": {},
     "output_type": "execute_result"
    }
   ],
   "source": [
    "summary_criteria.sum(), syndrome_criteria.sum()"
   ]
  },
  {
   "cell_type": "code",
   "execution_count": 20,
   "id": "63e4c2fa-a1bd-4c65-a5ae-8706a6798717",
   "metadata": {},
   "outputs": [
    {
     "data": {
      "image/png": "[encoded data removed]",
      "text/plain": [
       "<Figure size 1152x864 with 20 Axes>"
      ]
     },
     "metadata": {
      "needs_background": "light"
     },
     "output_type": "display_data"
    }
   ],
   "source": [
    "inliers[t_score_cols].hist(figsize=(16,12), layout=(4,5))\n",
    "plt.show()"
   ]
  },
  {
   "cell_type": "code",
   "execution_count": 21,
   "id": "39d3ead2-d822-439f-90e9-d1cd2fce4be5",
   "metadata": {},
   "outputs": [
    {
     "data": {
      "image/png": "[encoded data removed]",
      "text/plain": [
       "<Figure size 1152x864 with 20 Axes>"
      ]
     },
     "metadata": {
      "needs_background": "light"
     },
     "output_type": "display_data"
    }
   ],
   "source": [
    "outliers[t_score_cols].hist(figsize=(16,12), layout=(4,5))\n",
    "plt.show()"
   ]
  },
  {
   "cell_type": "markdown",
   "id": "ff66def5-f437-4185-9270-66778db060c3",
   "metadata": {},
   "source": [
    "## Save selected subject IDs"
   ]
  },
  {
   "cell_type": "markdown",
   "id": "a66a471d-2765-4bc1-8e97-1d6667024ae9",
   "metadata": {},
   "source": [
    "> **INTERSECT WITH SUBJECTS THAT WE ACTUALLY HAVE ON DISK!!!**"
   ]
  },
  {
   "cell_type": "code",
   "execution_count": 22,
   "id": "40568720-fea1-41e7-bcdf-a4df078f032c",
   "metadata": {},
   "outputs": [],
   "source": [
    "import glob\n",
    "R = re.compile(r\"Data\\/sub-(.*)\\/ses-\")\n",
    "clean = lambda x: x.strip().replace(\"_\", \"\")\n",
    "t1_paths = glob.glob(\"/DATA/ImageData/Data/*/ses-baselineYear1Arm1/anat/*T1w.nii.gz\")\n",
    "t2_paths = glob.glob(\"/DATA/ImageData/Data/*/ses-baselineYear1Arm1/anat/*T2w.nii.gz\")"
   ]
  },
  {
   "cell_type": "code",
   "execution_count": 23,
   "id": "589cb85f-4a89-40cc-b524-adba0ea2f234",
   "metadata": {},
   "outputs": [],
   "source": [
    "_fn = lambda x: R.search(x).group(1).replace(\"NDAR\", \"NDAR_\")\n",
    "t1_ids = set(map(_fn, t1_paths))\n",
    "t2_ids = set(map(_fn, t2_paths))\n",
    "subject_ids = t1_ids.intersection(t2_ids)"
   ]
  },
  {
   "cell_type": "code",
   "execution_count": 24,
   "id": "f0684f73-28f8-47c6-ac30-79c1deffaf5f",
   "metadata": {},
   "outputs": [
    {
     "data": {
      "text/plain": [
       "(3881, 3790, 3788)"
      ]
     },
     "execution_count": 24,
     "metadata": {},
     "output_type": "execute_result"
    }
   ],
   "source": [
    "len(t1_ids), len(t2_ids), len(subject_ids)"
   ]
  },
  {
   "cell_type": "code",
   "execution_count": 25,
   "id": "e542fe99-e200-432e-bc10-38f6dbb0c245",
   "metadata": {},
   "outputs": [
    {
     "data": {
      "text/plain": [
       "1        False\n",
       "6        False\n",
       "8        False\n",
       "10        True\n",
       "11        True\n",
       "         ...  \n",
       "16816     True\n",
       "16819     True\n",
       "16820     True\n",
       "16821     True\n",
       "16824     True\n",
       "Name: subjectkey, Length: 8030, dtype: bool"
      ]
     },
     "execution_count": 25,
     "metadata": {},
     "output_type": "execute_result"
    }
   ],
   "source": [
    "on_disk = inliers[\"subjectkey\"].isin(subject_ids)\n",
    "on_disk"
   ]
  },
  {
   "cell_type": "code",
   "execution_count": 26,
   "id": "37e8341b-49aa-435a-846e-eb3f1cbc5774",
   "metadata": {},
   "outputs": [
    {
     "data": {
      "text/plain": [
       "(3252,)"
      ]
     },
     "execution_count": 26,
     "metadata": {},
     "output_type": "execute_result"
    }
   ],
   "source": [
    "inlier_keys = inliers[\"subjectkey\"][on_disk]\n",
    "inlier_keys.shape"
   ]
  },
  {
   "cell_type": "code",
   "execution_count": 27,
   "id": "3007012e-6df5-4db1-b63a-4a67c87fd1f5",
   "metadata": {},
   "outputs": [
    {
     "data": {
      "text/plain": [
       "(111,)"
      ]
     },
     "execution_count": 27,
     "metadata": {},
     "output_type": "execute_result"
    }
   ],
   "source": [
    "outlier_keys = outliers[\"subjectkey\"][outliers[\"subjectkey\"].isin(subject_ids)]\n",
    "outlier_keys.shape"
   ]
  },
  {
   "cell_type": "code",
   "execution_count": 28,
   "id": "a4baa96a-bccf-4335-be15-c86851111e22",
   "metadata": {},
   "outputs": [],
   "source": [
    "VAL_RATIO = 0.1\n",
    "\n",
    "val_size = int(VAL_RATIO * len(inlier_keys))\n",
    "\n",
    "validation = inlier_keys[:val_size]\n",
    "testing = inlier_keys[val_size:val_size*2]\n",
    "training = inlier_keys[val_size*2:]"
   ]
  },
  {
   "cell_type": "code",
   "execution_count": 29,
   "id": "060185c0-c2af-4e13-8735-45e37991f94d",
   "metadata": {},
   "outputs": [
    {
     "data": {
      "text/plain": [
       "((2602,), (325,), (325,))"
      ]
     },
     "execution_count": 29,
     "metadata": {},
     "output_type": "execute_result"
    }
   ],
   "source": [
    "assert np.sum((training.shape, validation.shape, testing.shape)) == inlier_keys.shape[0]\n",
    "training.shape, validation.shape, testing.shape"
   ]
  },
  {
   "cell_type": "code",
   "execution_count": 31,
   "id": "e045c8d8-d7c6-4835-8363-b9eebf20e905",
   "metadata": {},
   "outputs": [],
   "source": [
    "# training.to_csv(\"train_keys.txt\", header=None, index=None)\n",
    "# validation.to_csv(\"val_keys.txt\", header=None, index=None)\n",
    "# testing.to_csv(\"test_keys.txt\", header=None, index=None)\n",
    "# outlier_keys.to_csv(\"ood_keys.txt\", header=None, index=None)"
   ]
  },
  {
   "cell_type": "code",
   "execution_count": null,
   "id": "07a7845a-581e-4364-b166-ad57b0e46285",
   "metadata": {},
   "outputs": [],
   "source": []
  }
 ],
 "metadata": {
  "kernelspec": {
   "display_name": "Python 3",
   "language": "python",
   "name": "python3"
  },
  "language_info": {
   "codemirror_mode": {
    "name": "ipython",
    "version": 3
   },
   "file_extension": ".py",
   "mimetype": "text/x-python",
   "name": "python",
   "nbconvert_exporter": "python",
   "pygments_lexer": "ipython3",
   "version": "3.7.10"
  }
 },
 "nbformat": 4,
 "nbformat_minor": 5
}
